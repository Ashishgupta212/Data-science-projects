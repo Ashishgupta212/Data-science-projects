{
 "cells": [
  {
   "attachments": {},
   "cell_type": "markdown",
   "id": "78377d21",
   "metadata": {},
   "source": [
    "# Insurance Cost prediction\n",
    "- This project aims to predict the medical insurance cost for individuals based on various factors such as age, BMI, smoking status, etc. The ability to predict insurance costs for individuals can be a valuable tool for insurance companies and policymakers. For this project, I am used machine learning techniques such as linear regression,random forest,decision tree,knn-neighbor to compare which model give me best accuracy and data visualization libraries like matplotlib and seaborn to build and evaluate the model."
   ]
  },
  {
   "attachments": {},
   "cell_type": "markdown",
   "id": "4f4f441c",
   "metadata": {},
   "source": [
    "- This dataset based on US health insurance cost.\n",
    "- This dataset covers the target variable of 'insurance_price' (Continuous data) applied to an individual based on 6 features or variables: Smoking status (Categorical data), 'gender' (Categorical data), Body mass index (BMI) (Continuous data), location that the individual is from (Categorical data), the number of children they have (discrete data) and Age (Continuous data)."
   ]
  },
  {
   "attachments": {},
   "cell_type": "markdown",
   "id": "ae939e56",
   "metadata": {},
   "source": [
    "#  IMPORT PYTHON AND MACHINE LEARNING LIBRARY\n"
   ]
  },
  {
   "cell_type": "code",
   "execution_count": 1,
   "id": "b69119c9",
   "metadata": {},
   "outputs": [],
   "source": [
    "import pandas as pd\n",
    "import numpy as np\n",
    "import matplotlib.pyplot as plt\n",
    "import seaborn as sns \n",
    "from sklearn.impute import SimpleImputer\n",
    "from sklearn.preprocessing import  LabelEncoder\n",
    "import plotly.express as px\n",
    "import statsmodels.api as sm\n",
    "from sklearn import linear_model\n",
    "from sklearn.tree import DecisionTreeRegressor\n",
    "from sklearn.model_selection import train_test_split\n",
    "from sklearn.preprocessing import StandardScaler\n",
    "from sklearn.ensemble import RandomForestRegressor\n",
    "from sklearn.linear_model import LinearRegression\n",
    "from sklearn import svm\n",
    "from sklearn.neighbors import KNeighborsRegressor"
   ]
  },
  {
   "cell_type": "code",
   "execution_count": 2,
   "id": "3834aba6",
   "metadata": {},
   "outputs": [
    {
     "data": {
      "text/html": [
       "<div>\n",
       "<style scoped>\n",
       "    .dataframe tbody tr th:only-of-type {\n",
       "        vertical-align: middle;\n",
       "    }\n",
       "\n",
       "    .dataframe tbody tr th {\n",
       "        vertical-align: top;\n",
       "    }\n",
       "\n",
       "    .dataframe thead th {\n",
       "        text-align: right;\n",
       "    }\n",
       "</style>\n",
       "<table border=\"1\" class=\"dataframe\">\n",
       "  <thead>\n",
       "    <tr style=\"text-align: right;\">\n",
       "      <th></th>\n",
       "      <th>age</th>\n",
       "      <th>gender</th>\n",
       "      <th>BMI</th>\n",
       "      <th>Children</th>\n",
       "      <th>smoking_status</th>\n",
       "      <th>location</th>\n",
       "      <th>health_insurance_price</th>\n",
       "    </tr>\n",
       "  </thead>\n",
       "  <tbody>\n",
       "    <tr>\n",
       "      <th>0</th>\n",
       "      <td>19.0</td>\n",
       "      <td>female</td>\n",
       "      <td>NaN</td>\n",
       "      <td>0</td>\n",
       "      <td>yes</td>\n",
       "      <td>southwest</td>\n",
       "      <td>16884.92400</td>\n",
       "    </tr>\n",
       "    <tr>\n",
       "      <th>1</th>\n",
       "      <td>18.0</td>\n",
       "      <td>male</td>\n",
       "      <td>33.770</td>\n",
       "      <td>1</td>\n",
       "      <td>no</td>\n",
       "      <td>southeast</td>\n",
       "      <td>1725.55230</td>\n",
       "    </tr>\n",
       "    <tr>\n",
       "      <th>2</th>\n",
       "      <td>28.0</td>\n",
       "      <td>male</td>\n",
       "      <td>33.000</td>\n",
       "      <td>3</td>\n",
       "      <td>no</td>\n",
       "      <td>southeast</td>\n",
       "      <td>4449.46200</td>\n",
       "    </tr>\n",
       "    <tr>\n",
       "      <th>3</th>\n",
       "      <td>33.0</td>\n",
       "      <td>male</td>\n",
       "      <td>22.705</td>\n",
       "      <td>0</td>\n",
       "      <td>no</td>\n",
       "      <td>northwest</td>\n",
       "      <td>21984.47061</td>\n",
       "    </tr>\n",
       "    <tr>\n",
       "      <th>4</th>\n",
       "      <td>32.0</td>\n",
       "      <td>male</td>\n",
       "      <td>28.880</td>\n",
       "      <td>0</td>\n",
       "      <td>no</td>\n",
       "      <td>northwest</td>\n",
       "      <td>3866.85520</td>\n",
       "    </tr>\n",
       "    <tr>\n",
       "      <th>...</th>\n",
       "      <td>...</td>\n",
       "      <td>...</td>\n",
       "      <td>...</td>\n",
       "      <td>...</td>\n",
       "      <td>...</td>\n",
       "      <td>...</td>\n",
       "      <td>...</td>\n",
       "    </tr>\n",
       "    <tr>\n",
       "      <th>1333</th>\n",
       "      <td>50.0</td>\n",
       "      <td>male</td>\n",
       "      <td>30.970</td>\n",
       "      <td>3</td>\n",
       "      <td>no</td>\n",
       "      <td>northwest</td>\n",
       "      <td>10600.54830</td>\n",
       "    </tr>\n",
       "    <tr>\n",
       "      <th>1334</th>\n",
       "      <td>18.0</td>\n",
       "      <td>female</td>\n",
       "      <td>31.920</td>\n",
       "      <td>0</td>\n",
       "      <td>no</td>\n",
       "      <td>northeast</td>\n",
       "      <td>2205.98080</td>\n",
       "    </tr>\n",
       "    <tr>\n",
       "      <th>1335</th>\n",
       "      <td>18.0</td>\n",
       "      <td>female</td>\n",
       "      <td>36.850</td>\n",
       "      <td>0</td>\n",
       "      <td>no</td>\n",
       "      <td>southeast</td>\n",
       "      <td>1629.83350</td>\n",
       "    </tr>\n",
       "    <tr>\n",
       "      <th>1336</th>\n",
       "      <td>21.0</td>\n",
       "      <td>female</td>\n",
       "      <td>25.800</td>\n",
       "      <td>0</td>\n",
       "      <td>no</td>\n",
       "      <td>southwest</td>\n",
       "      <td>2007.94500</td>\n",
       "    </tr>\n",
       "    <tr>\n",
       "      <th>1337</th>\n",
       "      <td>61.0</td>\n",
       "      <td>female</td>\n",
       "      <td>29.070</td>\n",
       "      <td>0</td>\n",
       "      <td>yes</td>\n",
       "      <td>northwest</td>\n",
       "      <td>29141.36030</td>\n",
       "    </tr>\n",
       "  </tbody>\n",
       "</table>\n",
       "<p>1338 rows × 7 columns</p>\n",
       "</div>"
      ],
      "text/plain": [
       "       age  gender     BMI  Children smoking_status   location  \\\n",
       "0     19.0  female     NaN         0            yes  southwest   \n",
       "1     18.0    male  33.770         1             no  southeast   \n",
       "2     28.0    male  33.000         3             no  southeast   \n",
       "3     33.0    male  22.705         0             no  northwest   \n",
       "4     32.0    male  28.880         0             no  northwest   \n",
       "...    ...     ...     ...       ...            ...        ...   \n",
       "1333  50.0    male  30.970         3             no  northwest   \n",
       "1334  18.0  female  31.920         0             no  northeast   \n",
       "1335  18.0  female  36.850         0             no  southeast   \n",
       "1336  21.0  female  25.800         0             no  southwest   \n",
       "1337  61.0  female  29.070         0            yes  northwest   \n",
       "\n",
       "      health_insurance_price  \n",
       "0                16884.92400  \n",
       "1                 1725.55230  \n",
       "2                 4449.46200  \n",
       "3                21984.47061  \n",
       "4                 3866.85520  \n",
       "...                      ...  \n",
       "1333             10600.54830  \n",
       "1334              2205.98080  \n",
       "1335              1629.83350  \n",
       "1336              2007.94500  \n",
       "1337             29141.36030  \n",
       "\n",
       "[1338 rows x 7 columns]"
      ]
     },
     "execution_count": 2,
     "metadata": {},
     "output_type": "execute_result"
    }
   ],
   "source": [
    "data =  pd.read_excel(r\"C:\\Users\\ashis\\Downloads\\Health_insurance_cost.xlsx\")\n",
    "data"
   ]
  },
  {
   "attachments": {},
   "cell_type": "markdown",
   "id": "80413e4a",
   "metadata": {},
   "source": [
    "# DATA CLEANING \n"
   ]
  },
  {
   "cell_type": "code",
   "execution_count": 3,
   "id": "5f5e23c3",
   "metadata": {},
   "outputs": [
    {
     "name": "stdout",
     "output_type": "stream",
     "text": [
      "<class 'pandas.core.frame.DataFrame'>\n",
      "RangeIndex: 1338 entries, 0 to 1337\n",
      "Data columns (total 7 columns):\n",
      " #   Column                  Non-Null Count  Dtype  \n",
      "---  ------                  --------------  -----  \n",
      " 0   age                     1310 non-null   float64\n",
      " 1   gender                  1338 non-null   object \n",
      " 2   BMI                     1315 non-null   float64\n",
      " 3   Children                1338 non-null   int64  \n",
      " 4   smoking_status          1338 non-null   object \n",
      " 5   location                1338 non-null   object \n",
      " 6   health_insurance_price  1336 non-null   float64\n",
      "dtypes: float64(3), int64(1), object(3)\n",
      "memory usage: 73.3+ KB\n"
     ]
    }
   ],
   "source": [
    "# INFO FUNCTION GIVE SHORT DESCRIPTION OF DATA .\n",
    "data.info()"
   ]
  },
  {
   "attachments": {},
   "cell_type": "markdown",
   "id": "d2c0c2ff",
   "metadata": {},
   "source": [
    "- In the dataframe 4- numerical feature and 3 - categorical feature.\n",
    "- It also show missing value."
   ]
  },
  {
   "cell_type": "code",
   "execution_count": 4,
   "id": "612cf80f",
   "metadata": {},
   "outputs": [
    {
     "data": {
      "text/plain": [
       "age                       28\n",
       "gender                     0\n",
       "BMI                       23\n",
       "Children                   0\n",
       "smoking_status             0\n",
       "location                   0\n",
       "health_insurance_price     2\n",
       "dtype: int64"
      ]
     },
     "execution_count": 4,
     "metadata": {},
     "output_type": "execute_result"
    }
   ],
   "source": [
    "# CHECK NULL VALUES IN DATA\n",
    "data.isnull().sum()"
   ]
  },
  {
   "cell_type": "code",
   "execution_count": 5,
   "id": "315a85b0",
   "metadata": {},
   "outputs": [
    {
     "data": {
      "text/html": [
       "<div>\n",
       "<style scoped>\n",
       "    .dataframe tbody tr th:only-of-type {\n",
       "        vertical-align: middle;\n",
       "    }\n",
       "\n",
       "    .dataframe tbody tr th {\n",
       "        vertical-align: top;\n",
       "    }\n",
       "\n",
       "    .dataframe thead th {\n",
       "        text-align: right;\n",
       "    }\n",
       "</style>\n",
       "<table border=\"1\" class=\"dataframe\">\n",
       "  <thead>\n",
       "    <tr style=\"text-align: right;\">\n",
       "      <th></th>\n",
       "      <th>age</th>\n",
       "      <th>BMI</th>\n",
       "      <th>Children</th>\n",
       "      <th>health_insurance_price</th>\n",
       "    </tr>\n",
       "  </thead>\n",
       "  <tbody>\n",
       "    <tr>\n",
       "      <th>count</th>\n",
       "      <td>1310.000000</td>\n",
       "      <td>1315.000000</td>\n",
       "      <td>1338.000000</td>\n",
       "      <td>1336.000000</td>\n",
       "    </tr>\n",
       "    <tr>\n",
       "      <th>mean</th>\n",
       "      <td>39.166412</td>\n",
       "      <td>30.638217</td>\n",
       "      <td>1.094918</td>\n",
       "      <td>13268.527719</td>\n",
       "    </tr>\n",
       "    <tr>\n",
       "      <th>std</th>\n",
       "      <td>14.055378</td>\n",
       "      <td>6.110302</td>\n",
       "      <td>1.205493</td>\n",
       "      <td>12112.797724</td>\n",
       "    </tr>\n",
       "    <tr>\n",
       "      <th>min</th>\n",
       "      <td>18.000000</td>\n",
       "      <td>15.960000</td>\n",
       "      <td>0.000000</td>\n",
       "      <td>1121.873900</td>\n",
       "    </tr>\n",
       "    <tr>\n",
       "      <th>25%</th>\n",
       "      <td>26.000000</td>\n",
       "      <td>26.210000</td>\n",
       "      <td>0.000000</td>\n",
       "      <td>4744.325050</td>\n",
       "    </tr>\n",
       "    <tr>\n",
       "      <th>50%</th>\n",
       "      <td>39.000000</td>\n",
       "      <td>30.305000</td>\n",
       "      <td>1.000000</td>\n",
       "      <td>9382.033000</td>\n",
       "    </tr>\n",
       "    <tr>\n",
       "      <th>75%</th>\n",
       "      <td>51.000000</td>\n",
       "      <td>34.580000</td>\n",
       "      <td>2.000000</td>\n",
       "      <td>16604.302645</td>\n",
       "    </tr>\n",
       "    <tr>\n",
       "      <th>max</th>\n",
       "      <td>64.000000</td>\n",
       "      <td>53.130000</td>\n",
       "      <td>5.000000</td>\n",
       "      <td>63770.428010</td>\n",
       "    </tr>\n",
       "  </tbody>\n",
       "</table>\n",
       "</div>"
      ],
      "text/plain": [
       "               age          BMI     Children  health_insurance_price\n",
       "count  1310.000000  1315.000000  1338.000000             1336.000000\n",
       "mean     39.166412    30.638217     1.094918            13268.527719\n",
       "std      14.055378     6.110302     1.205493            12112.797724\n",
       "min      18.000000    15.960000     0.000000             1121.873900\n",
       "25%      26.000000    26.210000     0.000000             4744.325050\n",
       "50%      39.000000    30.305000     1.000000             9382.033000\n",
       "75%      51.000000    34.580000     2.000000            16604.302645\n",
       "max      64.000000    53.130000     5.000000            63770.428010"
      ]
     },
     "execution_count": 5,
     "metadata": {},
     "output_type": "execute_result"
    }
   ],
   "source": [
    "data.describe() #The describe() function in pandas is used to generate descriptive statistics of a data"
   ]
  },
  {
   "attachments": {},
   "cell_type": "markdown",
   "id": "88ad94ed",
   "metadata": {},
   "source": [
    "# DEALING WITH MISSING VALUE"
   ]
  },
  {
   "cell_type": "code",
   "execution_count": 6,
   "id": "4a0473a6",
   "metadata": {},
   "outputs": [],
   "source": [
    "df = data[['age', 'BMI', 'health_insurance_price']]  \n",
    "median_imputer = SimpleImputer(strategy = 'median')  #  used median imputation technique\n",
    "median_imputer.fit(df)                                \n",
    "imputer =  median_imputer.transform(df)\n"
   ]
  },
  {
   "cell_type": "code",
   "execution_count": 7,
   "id": "0f291d28",
   "metadata": {},
   "outputs": [
    {
     "data": {
      "text/html": [
       "<div>\n",
       "<style scoped>\n",
       "    .dataframe tbody tr th:only-of-type {\n",
       "        vertical-align: middle;\n",
       "    }\n",
       "\n",
       "    .dataframe tbody tr th {\n",
       "        vertical-align: top;\n",
       "    }\n",
       "\n",
       "    .dataframe thead th {\n",
       "        text-align: right;\n",
       "    }\n",
       "</style>\n",
       "<table border=\"1\" class=\"dataframe\">\n",
       "  <thead>\n",
       "    <tr style=\"text-align: right;\">\n",
       "      <th></th>\n",
       "      <th>age</th>\n",
       "      <th>gender</th>\n",
       "      <th>BMI</th>\n",
       "      <th>Children</th>\n",
       "      <th>smoking_status</th>\n",
       "      <th>location</th>\n",
       "      <th>health_insurance_price</th>\n",
       "    </tr>\n",
       "  </thead>\n",
       "  <tbody>\n",
       "    <tr>\n",
       "      <th>0</th>\n",
       "      <td>19.0</td>\n",
       "      <td>female</td>\n",
       "      <td>30.305</td>\n",
       "      <td>0</td>\n",
       "      <td>yes</td>\n",
       "      <td>southwest</td>\n",
       "      <td>16884.92400</td>\n",
       "    </tr>\n",
       "    <tr>\n",
       "      <th>1</th>\n",
       "      <td>18.0</td>\n",
       "      <td>male</td>\n",
       "      <td>33.770</td>\n",
       "      <td>1</td>\n",
       "      <td>no</td>\n",
       "      <td>southeast</td>\n",
       "      <td>1725.55230</td>\n",
       "    </tr>\n",
       "    <tr>\n",
       "      <th>2</th>\n",
       "      <td>28.0</td>\n",
       "      <td>male</td>\n",
       "      <td>33.000</td>\n",
       "      <td>3</td>\n",
       "      <td>no</td>\n",
       "      <td>southeast</td>\n",
       "      <td>4449.46200</td>\n",
       "    </tr>\n",
       "    <tr>\n",
       "      <th>3</th>\n",
       "      <td>33.0</td>\n",
       "      <td>male</td>\n",
       "      <td>22.705</td>\n",
       "      <td>0</td>\n",
       "      <td>no</td>\n",
       "      <td>northwest</td>\n",
       "      <td>21984.47061</td>\n",
       "    </tr>\n",
       "    <tr>\n",
       "      <th>4</th>\n",
       "      <td>32.0</td>\n",
       "      <td>male</td>\n",
       "      <td>28.880</td>\n",
       "      <td>0</td>\n",
       "      <td>no</td>\n",
       "      <td>northwest</td>\n",
       "      <td>3866.85520</td>\n",
       "    </tr>\n",
       "  </tbody>\n",
       "</table>\n",
       "</div>"
      ],
      "text/plain": [
       "    age  gender     BMI  Children smoking_status   location  \\\n",
       "0  19.0  female  30.305         0            yes  southwest   \n",
       "1  18.0    male  33.770         1             no  southeast   \n",
       "2  28.0    male  33.000         3             no  southeast   \n",
       "3  33.0    male  22.705         0             no  northwest   \n",
       "4  32.0    male  28.880         0             no  northwest   \n",
       "\n",
       "   health_insurance_price  \n",
       "0             16884.92400  \n",
       "1              1725.55230  \n",
       "2              4449.46200  \n",
       "3             21984.47061  \n",
       "4              3866.85520  "
      ]
     },
     "execution_count": 7,
     "metadata": {},
     "output_type": "execute_result"
    }
   ],
   "source": [
    "data[['age', 'BMI', 'health_insurance_price']] = imputer  # assign imputer value in dataframe.\n",
    "data.head()"
   ]
  },
  {
   "cell_type": "code",
   "execution_count": 8,
   "id": "51ff1bea",
   "metadata": {},
   "outputs": [
    {
     "data": {
      "text/plain": [
       "age                       0\n",
       "gender                    0\n",
       "BMI                       0\n",
       "Children                  0\n",
       "smoking_status            0\n",
       "location                  0\n",
       "health_insurance_price    0\n",
       "dtype: int64"
      ]
     },
     "execution_count": 8,
     "metadata": {},
     "output_type": "execute_result"
    }
   ],
   "source": [
    "data.isnull().sum()  "
   ]
  },
  {
   "attachments": {},
   "cell_type": "markdown",
   "id": "2810c686",
   "metadata": {},
   "source": [
    "# EDA"
   ]
  },
  {
   "cell_type": "code",
   "execution_count": 9,
   "id": "9d53d424",
   "metadata": {},
   "outputs": [
    {
     "data": {
      "image/png": "[encoded data removed]",
      "text/plain": [
       "<Figure size 640x480 with 1 Axes>"
      ]
     },
     "metadata": {},
     "output_type": "display_data"
    }
   ],
   "source": [
    "sns.countplot(data,x='gender')\n",
    "plt.title('NO OF MALE AND FEMALE ')\n",
    "plt.show()"
   ]
  },
  {
   "attachments": {},
   "cell_type": "markdown",
   "id": "3d8f9de4",
   "metadata": {},
   "source": [
    "- female:- 666 ,Male:- 672"
   ]
  },
  {
   "cell_type": "code",
   "execution_count": 10,
   "id": "31c038db",
   "metadata": {},
   "outputs": [
    {
     "data": {
      "image/png": "[encoded data removed]",
      "text/plain": [
       "<Figure size 640x480 with 1 Axes>"
      ]
     },
     "metadata": {},
     "output_type": "display_data"
    }
   ],
   "source": [
    "sns.countplot(data,x='gender',hue = 'smoking_status')\n",
    "plt.title('smokers ratio male and female')\n",
    "plt.show()"
   ]
  },
  {
   "cell_type": "code",
   "execution_count": 11,
   "metadata": {},
   "outputs": [
    {
     "data": {
      "application/vnd.plotly.v1+json": {
       "config": {
        "plotlyServerURL": "https://plot.ly"
       },
       "data": [
        {
         "domain": {
          "x": [
           0,
           1
          ],
          "y": [
           0,
           1
          ]
         },
         "hovertemplate": "index=%{label}<br>location=%{value}<extra></extra>",
         "labels": [
          "southeast",
          "southwest",
          "northwest",
          "northeast"
         ],
         "legendgroup": "",
         "name": "",
         "showlegend": true,
         "textinfo": "percent+label",
         "textposition": "inside",
         "type": "pie",
         "values": [
          364,
          325,
          325,
          324
         ]
        }
       ],
       "layout": {
        "legend": {
         "tracegroupgap": 0
        },
        "margin": {
         "t": 60
        },
        "template": {
         "data": {
          "bar": [
           {
            "error_x": {
             "color": "#2a3f5f"
            },
            "error_y": {
             "color": "#2a3f5f"
            },
            "marker": {
             "line": {
              "color": "#E5ECF6",
              "width": 0.5
             },
             "pattern": {
              "fillmode": "overlay",
              "size": 10,
              "solidity": 0.2
             }
            },
            "type": "bar"
           }
          ],
          "barpolar": [
           {
            "marker": {
             "line": {
              "color": "#E5ECF6",
              "width": 0.5
             },
             "pattern": {
              "fillmode": "overlay",
              "size": 10,
              "solidity": 0.2
             }
            },
            "type": "barpolar"
           }
          ],
          "carpet": [
           {
            "aaxis": {
             "endlinecolor": "#2a3f5f",
             "gridcolor": "white",
             "linecolor": "white",
             "minorgridcolor": "white",
             "startlinecolor": "#2a3f5f"
            },
            "baxis": {
             "endlinecolor": "#2a3f5f",
             "gridcolor": "white",
             "linecolor": "white",
             "minorgridcolor": "white",
             "startlinecolor": "#2a3f5f"
            },
            "type": "carpet"
           }
          ],
          "choropleth": [
           {
            "colorbar": {
             "outlinewidth": 0,
             "ticks": ""
            },
            "type": "choropleth"
           }
          ],
          "contour": [
           {
            "colorbar": {
             "outlinewidth": 0,
             "ticks": ""
            },
            "colorscale": [
             [
              0,
              "#0d0887"
             ],
             [
              0.1111111111111111,
              "#46039f"
             ],
             [
              0.2222222222222222,
              "#7201a8"
             ],
             [
              0.3333333333333333,
              "#9c179e"
             ],
             [
              0.4444444444444444,
              "#bd3786"
             ],
             [
              0.5555555555555556,
              "#d8576b"
             ],
             [
              0.6666666666666666,
              "#ed7953"
             ],
             [
              0.7777777777777778,
              "#fb9f3a"
             ],
             [
              0.8888888888888888,
              "#fdca26"
             ],
             [
              1,
              "#f0f921"
             ]
            ],
            "type": "contour"
           }
          ],
          "contourcarpet": [
           {
            "colorbar": {
             "outlinewidth": 0,
             "ticks": ""
            },
            "type": "contourcarpet"
           }
          ],
          "heatmap": [
           {
            "colorbar": {
             "outlinewidth": 0,
             "ticks": ""
            },
            "colorscale": [
             [
              0,
              "#0d0887"
             ],
             [
              0.1111111111111111,
              "#46039f"
             ],
             [
              0.2222222222222222,
              "#7201a8"
             ],
             [
              0.3333333333333333,
              "#9c179e"
             ],
             [
              0.4444444444444444,
              "#bd3786"
             ],
             [
              0.5555555555555556,
              "#d8576b"
             ],
             [
              0.6666666666666666,
              "#ed7953"
             ],
             [
              0.7777777777777778,
              "#fb9f3a"
             ],
             [
              0.8888888888888888,
              "#fdca26"
             ],
             [
              1,
              "#f0f921"
             ]
            ],
            "type": "heatmap"
           }
          ],
          "heatmapgl": [
           {
            "colorbar": {
             "outlinewidth": 0,
             "ticks": ""
            },
            "colorscale": [
             [
              0,
              "#0d0887"
             ],
             [
              0.1111111111111111,
              "#46039f"
             ],
             [
              0.2222222222222222,
              "#7201a8"
             ],
             [
              0.3333333333333333,
              "#9c179e"
             ],
             [
              0.4444444444444444,
              "#bd3786"
             ],
             [
              0.5555555555555556,
              "#d8576b"
             ],
             [
              0.6666666666666666,
              "#ed7953"
             ],
             [
              0.7777777777777778,
              "#fb9f3a"
             ],
             [
              0.8888888888888888,
              "#fdca26"
             ],
             [
              1,
              "#f0f921"
             ]
            ],
            "type": "heatmapgl"
           }
          ],
          "histogram": [
           {
            "marker": {
             "pattern": {
              "fillmode": "overlay",
              "size": 10,
              "solidity": 0.2
             }
            },
            "type": "histogram"
           }
          ],
          "histogram2d": [
           {
            "colorbar": {
             "outlinewidth": 0,
             "ticks": ""
            },
            "colorscale": [
             [
              0,
              "#0d0887"
             ],
             [
              0.1111111111111111,
              "#46039f"
             ],
             [
              0.2222222222222222,
              "#7201a8"
             ],
             [
              0.3333333333333333,
              "#9c179e"
             ],
             [
              0.4444444444444444,
              "#bd3786"
             ],
             [
              0.5555555555555556,
              "#d8576b"
             ],
             [
              0.6666666666666666,
              "#ed7953"
             ],
             [
              0.7777777777777778,
              "#fb9f3a"
             ],
             [
              0.8888888888888888,
              "#fdca26"
             ],
             [
              1,
              "#f0f921"
             ]
            ],
            "type": "histogram2d"
           }
          ],
          "histogram2dcontour": [
           {
            "colorbar": {
             "outlinewidth": 0,
             "ticks": ""
            },
            "colorscale": [
             [
              0,
              "#0d0887"
             ],
             [
              0.1111111111111111,
              "#46039f"
             ],
             [
              0.2222222222222222,
              "#7201a8"
             ],
             [
              0.3333333333333333,
              "#9c179e"
             ],
             [
              0.4444444444444444,
              "#bd3786"
             ],
             [
              0.5555555555555556,
              "#d8576b"
             ],
             [
              0.6666666666666666,
              "#ed7953"
             ],
             [
              0.7777777777777778,
              "#fb9f3a"
             ],
             [
              0.8888888888888888,
              "#fdca26"
             ],
             [
              1,
              "#f0f921"
             ]
            ],
            "type": "histogram2dcontour"
           }
          ],
          "mesh3d": [
           {
            "colorbar": {
             "outlinewidth": 0,
             "ticks": ""
            },
            "type": "mesh3d"
           }
          ],
          "parcoords": [
           {
            "line": {
             "colorbar": {
              "outlinewidth": 0,
              "ticks": ""
             }
            },
            "type": "parcoords"
           }
          ],
          "pie": [
           {
            "automargin": true,
            "type": "pie"
           }
          ],
          "scatter": [
           {
            "fillpattern": {
             "fillmode": "overlay",
             "size": 10,
             "solidity": 0.2
            },
            "type": "scatter"
           }
          ],
          "scatter3d": [
           {
            "line": {
             "colorbar": {
              "outlinewidth": 0,
              "ticks": ""
             }
            },
            "marker": {
             "colorbar": {
              "outlinewidth": 0,
              "ticks": ""
             }
            },
            "type": "scatter3d"
           }
          ],
          "scattercarpet": [
           {
            "marker": {
             "colorbar": {
              "outlinewidth": 0,
              "ticks": ""
             }
            },
            "type": "scattercarpet"
           }
          ],
          "scattergeo": [
           {
            "marker": {
             "colorbar": {
              "outlinewidth": 0,
              "ticks": ""
             }
            },
            "type": "scattergeo"
           }
          ],
          "scattergl": [
           {
            "marker": {
             "colorbar": {
              "outlinewidth": 0,
              "ticks": ""
             }
            },
            "type": "scattergl"
           }
          ],
          "scattermapbox": [
           {
            "marker": {
             "colorbar": {
              "outlinewidth": 0,
              "ticks": ""
             }
            },
            "type": "scattermapbox"
           }
          ],
          "scatterpolar": [
           {
            "marker": {
             "colorbar": {
              "outlinewidth": 0,
              "ticks": ""
             }
            },
            "type": "scatterpolar"
           }
          ],
          "scatterpolargl": [
           {
            "marker": {
             "colorbar": {
              "outlinewidth": 0,
              "ticks": ""
             }
            },
            "type": "scatterpolargl"
           }
          ],
          "scatterternary": [
           {
            "marker": {
             "colorbar": {
              "outlinewidth": 0,
              "ticks": ""
             }
            },
            "type": "scatterternary"
           }
          ],
          "surface": [
           {
            "colorbar": {
             "outlinewidth": 0,
             "ticks": ""
            },
            "colorscale": [
             [
              0,
              "#0d0887"
             ],
             [
              0.1111111111111111,
              "#46039f"
             ],
             [
              0.2222222222222222,
              "#7201a8"
             ],
             [
              0.3333333333333333,
              "#9c179e"
             ],
             [
              0.4444444444444444,
              "#bd3786"
             ],
             [
              0.5555555555555556,
              "#d8576b"
             ],
             [
              0.6666666666666666,
              "#ed7953"
             ],
             [
              0.7777777777777778,
              "#fb9f3a"
             ],
             [
              0.8888888888888888,
              "#fdca26"
             ],
             [
              1,
              "#f0f921"
             ]
            ],
            "type": "surface"
           }
          ],
          "table": [
           {
            "cells": {
             "fill": {
              "color": "#EBF0F8"
             },
             "line": {
              "color": "white"
             }
            },
            "header": {
             "fill": {
              "color": "#C8D4E3"
             },
             "line": {
              "color": "white"
             }
            },
            "type": "table"
           }
          ]
         },
         "layout": {
          "annotationdefaults": {
           "arrowcolor": "#2a3f5f",
           "arrowhead": 0,
           "arrowwidth": 1
          },
          "autotypenumbers": "strict",
          "coloraxis": {
           "colorbar": {
            "outlinewidth": 0,
            "ticks": ""
           }
          },
          "colorscale": {
           "diverging": [
            [
             0,
             "#8e0152"
            ],
            [
             0.1,
             "#c51b7d"
            ],
            [
             0.2,
             "#de77ae"
            ],
            [
             0.3,
             "#f1b6da"
            ],
            [
             0.4,
             "#fde0ef"
            ],
            [
             0.5,
             "#f7f7f7"
            ],
            [
             0.6,
             "#e6f5d0"
            ],
            [
             0.7,
             "#b8e186"
            ],
            [
             0.8,
             "#7fbc41"
            ],
            [
             0.9,
             "#4d9221"
            ],
            [
             1,
             "#276419"
            ]
           ],
           "sequential": [
            [
             0,
             "#0d0887"
            ],
            [
             0.1111111111111111,
             "#46039f"
            ],
            [
             0.2222222222222222,
             "#7201a8"
            ],
            [
             0.3333333333333333,
             "#9c179e"
            ],
            [
             0.4444444444444444,
             "#bd3786"
            ],
            [
             0.5555555555555556,
             "#d8576b"
            ],
            [
             0.6666666666666666,
             "#ed7953"
            ],
            [
             0.7777777777777778,
             "#fb9f3a"
            ],
            [
             0.8888888888888888,
             "#fdca26"
            ],
            [
             1,
             "#f0f921"
            ]
           ],
           "sequentialminus": [
            [
             0,
             "#0d0887"
            ],
            [
             0.1111111111111111,
             "#46039f"
            ],
            [
             0.2222222222222222,
             "#7201a8"
            ],
            [
             0.3333333333333333,
             "#9c179e"
            ],
            [
             0.4444444444444444,
             "#bd3786"
            ],
            [
             0.5555555555555556,
             "#d8576b"
            ],
            [
             0.6666666666666666,
             "#ed7953"
            ],
            [
             0.7777777777777778,
             "#fb9f3a"
            ],
            [
             0.8888888888888888,
             "#fdca26"
            ],
            [
             1,
             "#f0f921"
            ]
           ]
          },
          "colorway": [
           "#636efa",
           "#EF553B",
           "#00cc96",
           "#ab63fa",
           "#FFA15A",
           "#19d3f3",
           "#FF6692",
           "#B6E880",
           "#FF97FF",
           "#FECB52"
          ],
          "font": {
           "color": "#2a3f5f"
          },
          "geo": {
           "bgcolor": "white",
           "lakecolor": "white",
           "landcolor": "#E5ECF6",
           "showlakes": true,
           "showland": true,
           "subunitcolor": "white"
          },
          "hoverlabel": {
           "align": "left"
          },
          "hovermode": "closest",
          "mapbox": {
           "style": "light"
          },
          "paper_bgcolor": "white",
          "plot_bgcolor": "#E5ECF6",
          "polar": {
           "angularaxis": {
            "gridcolor": "white",
            "linecolor": "white",
            "ticks": ""
           },
           "bgcolor": "#E5ECF6",
           "radialaxis": {
            "gridcolor": "white",
            "linecolor": "white",
            "ticks": ""
           }
          },
          "scene": {
           "xaxis": {
            "backgroundcolor": "#E5ECF6",
            "gridcolor": "white",
            "gridwidth": 2,
            "linecolor": "white",
            "showbackground": true,
            "ticks": "",
            "zerolinecolor": "white"
           },
           "yaxis": {
            "backgroundcolor": "#E5ECF6",
            "gridcolor": "white",
            "gridwidth": 2,
            "linecolor": "white",
            "showbackground": true,
            "ticks": "",
            "zerolinecolor": "white"
           },
           "zaxis": {
            "backgroundcolor": "#E5ECF6",
            "gridcolor": "white",
            "gridwidth": 2,
            "linecolor": "white",
            "showbackground": true,
            "ticks": "",
            "zerolinecolor": "white"
           }
          },
          "shapedefaults": {
           "line": {
            "color": "#2a3f5f"
           }
          },
          "ternary": {
           "aaxis": {
            "gridcolor": "white",
            "linecolor": "white",
            "ticks": ""
           },
           "baxis": {
            "gridcolor": "white",
            "linecolor": "white",
            "ticks": ""
           },
           "bgcolor": "#E5ECF6",
           "caxis": {
            "gridcolor": "white",
            "linecolor": "white",
            "ticks": ""
           }
          },
          "title": {
           "x": 0.05
          },
          "xaxis": {
           "automargin": true,
           "gridcolor": "white",
           "linecolor": "white",
           "ticks": "",
           "title": {
            "standoff": 15
           },
           "zerolinecolor": "white",
           "zerolinewidth": 2
          },
          "yaxis": {
           "automargin": true,
           "gridcolor": "white",
           "linecolor": "white",
           "ticks": "",
           "title": {
            "standoff": 15
           },
           "zerolinecolor": "white",
           "zerolinewidth": 2
          }
         }
        },
        "title": {
         "text": " Distribution of the Policy Holders"
        }
       }
      }
     },
     "metadata": {},
     "output_type": "display_data"
    }
   ],
   "source": [
    "fig = px.pie(data['location'].value_counts().reset_index(), values='location', names='index')\n",
    "fig.update_traces(textposition='inside', textinfo='percent+label')\n",
    "fig.update_layout(\n",
    "    title_text=\" Distribution of the Policy Holders\")\n",
    "fig.show()"
   ]
  },
  {
   "attachments": {},
   "cell_type": "markdown",
   "id": "0873e5cf",
   "metadata": {},
   "source": [
    "- Most of the policy holder in southeast(27.2%)."
   ]
  },
  {
   "cell_type": "code",
   "execution_count": 12,
   "id": "94cd5dde",
   "metadata": {},
   "outputs": [
    {
     "data": {
      "image/png": "[encoded data removed]",
      "text/plain": [
       "<Figure size 640x480 with 1 Axes>"
      ]
     },
     "metadata": {},
     "output_type": "display_data"
    }
   ],
   "source": [
    "sns.regplot(data,x='BMI',y='health_insurance_price')\n",
    "plt.title('linear relation b/w bmi and price')\n",
    "plt.show()"
   ]
  },
  {
   "attachments": {},
   "cell_type": "markdown",
   "id": "c786aa80",
   "metadata": {},
   "source": [
    "- In this regplot you can see the correlation blw 'bmi' and  'health_ins_price' can be observed  that these point not highly correlated because it not follow upward trend  , point scatter down ."
   ]
  },
  {
   "cell_type": "code",
   "execution_count": 13,
   "id": "d68486eb",
   "metadata": {},
   "outputs": [
    {
     "data": {
      "image/png": "[encoded data removed]",
      "text/plain": [
       "<Figure size 640x480 with 1 Axes>"
      ]
     },
     "metadata": {},
     "output_type": "display_data"
    }
   ],
   "source": [
    "sns.regplot(data,x='age',y='health_insurance_price')\n",
    "plt.title('linear relation b/w age and price')\n",
    "plt.show()"
   ]
  },
  {
   "attachments": {},
   "cell_type": "markdown",
   "id": "9e45237b",
   "metadata": {},
   "source": [
    "- In the regplot,the correlation between  'age' and 'health_ins_price'. it show low corelation."
   ]
  },
  {
   "cell_type": "code",
   "execution_count": 14,
   "id": "89931cbd",
   "metadata": {},
   "outputs": [
    {
     "data": {
      "application/vnd.plotly.v1+json": {
       "config": {
        "plotlyServerURL": "https://plot.ly"
       },
       "data": [
        {
         "hovertemplate": "smoking_status=yes<br>gender=female<br>location=southwest<br>BMI=%{x}<br>health_insurance_price=%{y}<extra></extra>",
         "legendgroup": "yes",
         "marker": {
          "color": "#636efa",
          "symbol": "circle"
         },
         "mode": "markers",
         "name": "yes",
         "showlegend": true,
         "type": "scattergl",
         "x": [
          30.305,
          34.8,
          31.3,
          28.3,
          37.7,
          32.2,
          31.4,
          33.8,
          21.7,
          22.6,
          33.5,
          27.6,
          47.6,
          24.6,
          18.3,
          31.4,
          26.7,
          34.6,
          21.8,
          30.2,
          34.7
         ],
         "xaxis": "x5",
         "y": [
          16884.924,
          39836.519,
          47291.055,
          17081.08,
          48824.45,
          47305.305,
          34838.873,
          47928.03,
          13844.506,
          18608.262,
          37079.372,
          24520.264,
          46113.511,
          17496.306,
          19023.26,
          34166.273,
          22478.6,
          41661.602,
          20167.33603,
          33900.653,
          36397.576
         ],
         "yaxis": "y5"
        },
        {
         "hovertemplate": "smoking_status=yes<br>gender=female<br>location=southeast<br>BMI=%{x}<br>health_insurance_price=%{y}<extra></extra>",
         "legendgroup": "yes",
         "marker": {
          "color": "#636efa",
          "symbol": "circle"
         },
         "mode": "markers",
         "name": "yes",
         "showlegend": false,
         "type": "scattergl",
         "x": [
          26.29,
          22.88,
          24.75,
          29.92,
          27.94,
          36.85,
          36.08,
          22.22,
          26.84,
          28.38,
          38.06,
          47.41,
          46.2,
          36.63,
          33.11,
          25.3,
          22.99,
          43.89,
          38.06,
          39.05,
          38.39,
          26.4,
          27.83,
          42.24,
          32.78,
          29.81,
          32.45,
          33.11,
          31.02,
          35.2,
          25.85,
          32.56,
          28.49,
          27.28,
          24.42,
          30.305
         ],
         "xaxis": "x6",
         "y": [
          27808.7251,
          23244.7902,
          16577.7795,
          30942.1918,
          19107.7796,
          36149.4835,
          37133.8982,
          19444.2658,
          17085.2676,
          19521.9682,
          48885.13561,
          63770.42801,
          45863.205,
          42969.8527,
          34439.8559,
          24667.419,
          27037.9141,
          46200.9851,
          44400.4064,
          40932.4295,
          40419.0191,
          19539.243,
          23065.4207,
          38792.6856,
          36021.0112,
          27533.9129,
          45008.9555,
          40974.1649,
          35595.5898,
          44423.803,
          24180.9335,
          40941.2854,
          18328.2381,
          18223.4512,
          26125.67477,
          43896.3763
         ],
         "yaxis": "y6"
        },
        {
         "hovertemplate": "smoking_status=yes<br>gender=female<br>location=northwest<br>BMI=%{x}<br>health_insurance_price=%{y}<extra></extra>",
         "legendgroup": "yes",
         "marker": {
          "color": "#636efa",
          "symbol": "circle"
         },
         "mode": "markers",
         "name": "yes",
         "showlegend": false,
         "type": "scattergl",
         "x": [
          22.42,
          31.16,
          17.765,
          26.6,
          28.31,
          26.98,
          30.305,
          30.21,
          28.31,
          23.655,
          38.95,
          32.775,
          28.88,
          35.53,
          26.885,
          26.885,
          20.045,
          23.655,
          30.495,
          28.025,
          24.7,
          30.4,
          36.86,
          32.49,
          24.13,
          30.02,
          27.645,
          23.655,
          29.07
         ],
         "xaxis": "x7",
         "y": [
          14711.7438,
          43578.9394,
          32734.1863,
          21348.706,
          18033.9679,
          28950.4692,
          39983.42595,
          43943.8761,
          17468.9839,
          25678.77845,
          42983.4585,
          40003.33225,
          17748.5062,
          55135.40209,
          29330.98315,
          21774.32215,
          16420.49455,
          21677.28345,
          39725.51805,
          20234.85475,
          21880.82,
          33907.548,
          46661.4424,
          36898.73308,
          23887.6627,
          33307.5508,
          9382.033,
          18765.87545,
          29141.3603
         ],
         "yaxis": "y7"
        },
        {
         "hovertemplate": "smoking_status=yes<br>gender=female<br>location=northeast<br>BMI=%{x}<br>health_insurance_price=%{y}<extra></extra>",
         "legendgroup": "yes",
         "marker": {
          "color": "#636efa",
          "symbol": "circle"
         },
         "mode": "markers",
         "name": "yes",
         "showlegend": false,
         "type": "scattergl",
         "x": [
          31.92,
          23.37,
          36.67,
          27.74,
          28.12,
          36.765,
          22.61,
          36.385,
          24.89,
          17.955,
          20.235,
          17.195,
          38.095,
          21.85,
          21.755,
          26.125,
          30.78,
          35.53,
          23.845,
          37.05,
          20.045,
          20.52,
          34.96,
          19.095,
          42.75,
          25.27,
          25.555,
          21.66,
          21.85
         ],
         "xaxis": "x8",
         "y": [
          37701.8768,
          19964.7463,
          38511.6283,
          29523.1656,
          22331.5668,
          47896.79135,
          24873.3849,
          48517.56315,
          21659.9301,
          15006.57945,
          19594.80965,
          14455.64405,
          58571.07448,
          15359.1045,
          16657.71745,
          23401.30575,
          37270.1512,
          42111.6647,
          24106.91255,
          46255.1125,
          19798.05455,
          14571.8908,
          44641.1974,
          16776.30405,
          40904.1995,
          21771.3423,
          20296.86345,
          14283.4594,
          16115.3045
         ],
         "yaxis": "y8"
        },
        {
         "hovertemplate": "smoking_status=yes<br>gender=male<br>location=southwest<br>BMI=%{x}<br>health_insurance_price=%{y}<extra></extra>",
         "legendgroup": "yes",
         "marker": {
          "color": "#636efa",
          "symbol": "circle"
         },
         "mode": "markers",
         "name": "yes",
         "showlegend": false,
         "type": "scattergl",
         "x": [
          35.3,
          36.3,
          35.6,
          36.4,
          39.9,
          28,
          19.3,
          34.8,
          34.2,
          27.7,
          30.8,
          32.9,
          30,
          25.1,
          25.7,
          34.4,
          28.3,
          37.8,
          25.6,
          34.1,
          35.3,
          30.305,
          27.1,
          24.4,
          29.7,
          30.2,
          25.9,
          32.7,
          30.9,
          29.8,
          32.8,
          33.4,
          27.3,
          36.3,
          39.4,
          34.9,
          27.8
         ],
         "xaxis": "x",
         "y": [
          36837.467,
          38711,
          35585.576,
          51194.55914,
          48173.361,
          23568.272,
          15820.699,
          34779.615,
          42856.838,
          16297.846,
          35491.64,
          36085.219,
          22144.032,
          25382.297,
          17942.106,
          36197.699,
          21082.16,
          39241.442,
          23306.547,
          40182.246,
          40103.89,
          44585.45587,
          19040.876,
          18259.216,
          19933.458,
          38998.546,
          19199.944,
          34472.841,
          39727.614,
          25309.489,
          52590.82939,
          38415.474,
          16232.847,
          47403.88,
          38344.566,
          34828.654,
          37829.7242
         ],
         "yaxis": "y"
        },
        {
         "hovertemplate": "smoking_status=yes<br>gender=male<br>location=southeast<br>BMI=%{x}<br>health_insurance_price=%{y}<extra></extra>",
         "legendgroup": "yes",
         "marker": {
          "color": "#636efa",
          "symbol": "circle"
         },
         "mode": "markers",
         "name": "yes",
         "showlegend": false,
         "type": "scattergl",
         "x": [
          42.13,
          35.2,
          34.43,
          31.68,
          23.98,
          37.62,
          35.09,
          25.3,
          24.42,
          35.53,
          24.64,
          34.21,
          42.35,
          19.8,
          45.54,
          25.41,
          30.305,
          40.15,
          33.88,
          35.86,
          23.21,
          30.25,
          26.07,
          42.13,
          38.06,
          31.13,
          35.75,
          24.42,
          29.15,
          38.17,
          20.9,
          31.79,
          28.93,
          38.94,
          40.92,
          42.9,
          30.8,
          20.13,
          36.08,
          37.07,
          52.58,
          41.14,
          37.07,
          31.68,
          36.19,
          38.39,
          33.33,
          35.75,
          44.88,
          29.81,
          41.8,
          36.96,
          23.76,
          27.06,
          30.36
         ],
         "xaxis": "x2",
         "y": [
          39611.7577,
          38709.176,
          37742.5757,
          34303.1672,
          17663.1442,
          37165.1638,
          47055.5321,
          18972.495,
          21223.6758,
          36950.2567,
          19515.5416,
          44260.7499,
          46151.1245,
          17179.522,
          42112.2356,
          21978.6769,
          42124.5153,
          38126.2465,
          46889.2612,
          46599.1084,
          22218.1149,
          32548.3405,
          38245.59327,
          48675.5177,
          42560.4304,
          34806.4677,
          40273.6455,
          19361.9988,
          18246.4955,
          36307.7983,
          21195.818,
          43813.8661,
          19719.6947,
          44202.6536,
          48673.5588,
          47462.894,
          41999.52,
          18767.7377,
          42211.1382,
          37484.4493,
          44501.3982,
          48970.2476,
          39871.7043,
          34672.1472,
          41676.0811,
          41949.2441,
          36124.5737,
          38282.7495,
          39722.7462,
          19350.3689,
          47269.854,
          49577.6624,
          26926.5144,
          17043.3414,
          62592.87309
         ],
         "yaxis": "y2"
        },
        {
         "hovertemplate": "smoking_status=yes<br>gender=male<br>location=northwest<br>BMI=%{x}<br>health_insurance_price=%{y}<extra></extra>",
         "legendgroup": "yes",
         "marker": {
          "color": "#636efa",
          "symbol": "circle"
         },
         "mode": "markers",
         "name": "yes",
         "showlegend": false,
         "type": "scattergl",
         "x": [
          36.955,
          22.895,
          28.025,
          28.69,
          30.495,
          29.07,
          33.63,
          31.92,
          36.955,
          34.39,
          36.48,
          27.36,
          26.695,
          28.31,
          25.84,
          40.565,
          28.31,
          31.35,
          28.5,
          24.13,
          27.835,
          24.795,
          22.99,
          28.215,
          26.03,
          35.625,
          34.485,
          30.875,
          28.12
         ],
         "xaxis": "x3",
         "y": [
          47496.49445,
          21098.55405,
          17560.37975,
          20745.9891,
          40720.55105,
          17352.6803,
          43921.1837,
          33750.2918,
          36219.40545,
          38746.3551,
          42760.5022,
          24393.6224,
          26109.32905,
          28868.6639,
          23807.2406,
          45702.02235,
          32787.45859,
          46130.5265,
          18310.742,
          15817.9857,
          20009.63365,
          23967.38305,
          17361.7661,
          24915.22085,
          16450.8947,
          37465.34375,
          60021.39897,
          46718.16325,
          21472.4788
         ],
         "yaxis": "y3"
        },
        {
         "hovertemplate": "smoking_status=yes<br>gender=male<br>location=northeast<br>BMI=%{x}<br>health_insurance_price=%{y}<extra></extra>",
         "legendgroup": "yes",
         "marker": {
          "color": "#636efa",
          "symbol": "circle"
         },
         "mode": "markers",
         "name": "yes",
         "showlegend": false,
         "type": "scattergl",
         "x": [
          36.67,
          29.83,
          19.95,
          31.35,
          25.175,
          41.895,
          27.74,
          30.305,
          31.825,
          24.32,
          40.565,
          32.3,
          30.685,
          32.775,
          28.5,
          33.535,
          26.41,
          32.015,
          31.73,
          34.105,
          24.795,
          28.025,
          30.78,
          28.975,
          31.73,
          22.895,
          34.2,
          34.96,
          22.895,
          21.565,
          30.685,
          27.36,
          33.63,
          29.83,
          31.065,
          29.925,
          24.605,
          26.695
         ],
         "xaxis": "x4",
         "y": [
          39774.2763,
          30184.9367,
          22412.6485,
          39556.4945,
          15518.18025,
          43753.33705,
          20984.0936,
          12829.4551,
          41097.16175,
          24869.8368,
          48549.17835,
          41919.097,
          42303.69215,
          39125.33225,
          35147.52848,
          34617.84065,
          20149.3229,
          45710.20785,
          36189.1017,
          43254.41795,
          17904.52705,
          20773.62775,
          39597.4072,
          27218.43725,
          33732.6867,
          35069.37452,
          39047.285,
          41034.2214,
          16138.76205,
          13747.87235,
          33475.81715,
          17178.6824,
          37607.5277,
          18648.4217,
          34254.05335,
          22462.04375,
          21259.37795,
          28101.33305
         ],
         "yaxis": "y4"
        },
        {
         "hovertemplate": "smoking_status=no<br>gender=female<br>location=southwest<br>BMI=%{x}<br>health_insurance_price=%{y}<extra></extra>",
         "legendgroup": "no",
         "marker": {
          "color": "#EF553B",
          "symbol": "circle"
         },
         "mode": "markers",
         "name": "no",
         "showlegend": true,
         "type": "scattergl",
         "x": [
          32.4,
          28.6,
          28.9,
          39.1,
          28.1,
          27.2,
          30.8,
          31.6,
          27.5,
          28.4,
          29.7,
          37.4,
          35.9,
          36,
          29.8,
          37,
          34.8,
          28.9,
          30.9,
          32.2,
          26.2,
          32.8,
          31.8,
          30.9,
          37.1,
          33.7,
          17.8,
          26.8,
          25.2,
          24.3,
          31.2,
          33.4,
          38,
          27.5,
          24.7,
          27.6,
          25.6,
          27.7,
          26.4,
          34.4,
          20.6,
          23.6,
          30.5,
          33.1,
          29.6,
          28.7,
          29.8,
          39.5,
          32.9,
          23.6,
          39.2,
          28.7,
          31,
          25.8,
          38.9,
          30.2,
          38,
          46.7,
          31.9,
          29.1,
          29,
          25.3,
          34.8,
          37.1,
          21.3,
          42.4,
          17.4,
          18.5,
          24.1,
          34.8,
          32.9,
          22.6,
          30.1,
          32.1,
          36,
          30.305,
          39.7,
          26.7,
          27.7,
          33.1,
          30.8,
          34.2,
          24.1,
          29.6,
          28,
          24.3,
          27.1,
          29.5,
          44,
          35.1,
          27.5,
          28.2,
          25,
          33.2,
          23.4,
          20.1,
          32.5,
          30.305,
          27.5,
          35.8,
          25.9,
          40.5,
          25.8,
          19.8,
          31.6,
          34.1,
          22.8,
          27.6,
          34.2,
          34.6,
          23,
          25.8,
          28.9,
          25.6,
          25.3,
          32,
          33.7,
          18.6,
          25,
          32.6,
          41.1,
          24.6,
          27.1,
          27.4,
          30.3,
          28,
          25.8,
          34.8,
          33.3,
          25.7,
          29.3,
          37.9,
          30.305,
          30.5,
          33.3,
          25.9,
          20.8,
          20.6,
          33.4,
          44.7,
          25.8
         ],
         "xaxis": "x5",
         "y": [
          4149.736,
          4687.797,
          1743.214,
          14235.072,
          11741.726,
          11073.176,
          12105.32,
          6186.127,
          5003.853,
          2331.519,
          11881.358,
          9634.538,
          11163.568,
          2166.732,
          5152.134,
          4830.63,
          5246.047,
          8823.279,
          5325.651,
          6775.961,
          4883.866,
          5649.715,
          13880.949,
          8520.026,
          7371.772,
          5012.471,
          1727.785,
          35160.13457,
          11837.16,
          2150.469,
          9625.92,
          3172.018,
          12646.207,
          20177.67113,
          1737.376,
          18955.22017,
          8932.084,
          3554.203,
          2597.779,
          8522.003,
          9264.797,
          8539.671,
          12638.195,
          7345.084,
          5910.944,
          13224.693,
          1744.465,
          9880.068,
          1748.774,
          4931.647,
          13470.86,
          11455.28,
          5240.765,
          9861.025,
          5972.378,
          8825.086,
          6196.448,
          11538.421,
          11552.904,
          3761.292,
          11842.442,
          11070.535,
          6571.544,
          10713.644,
          9182.17,
          3410.324,
          2585.269,
          4766.022,
          26236.57997,
          3577.999,
          5375.038,
          2457.502,
          4234.927,
          14007.222,
          8556.907,
          7050.642,
          14319.031,
          11150.78,
          6414.178,
          11848.141,
          9414.92,
          9872.701,
          2974.126,
          1875.344,
          7151.092,
          4391.652,
          26140.3603,
          6311.952,
          13063.883,
          12644.589,
          7626.993,
          13041.921,
          13451.122,
          13462.52,
          2913.569,
          12032.326,
          6238.298,
          7348.142,
          12233.828,
          11674.13,
          3353.284,
          1759.338,
          7624.63,
          3378.91,
          10118.424,
          7418.522,
          8269.044,
          5383.536,
          3987.926,
          2020.177,
          12094.478,
          3161.454,
          8277.523,
          5708.867,
          7045.499,
          8551.347,
          11299.343,
          1728.897,
          7623.518,
          7954.517,
          3989.841,
          4529.477,
          2154.361,
          6496.886,
          2632.992,
          13126.67745,
          4934.705,
          36910.60803,
          10806.839,
          9101.798,
          15828.82173,
          6474.013,
          7337.748,
          10704.47,
          1880.487,
          5472.449,
          3208.787,
          1731.677,
          10795.93733,
          11411.685,
          2007.945
         ],
         "yaxis": "y5"
        },
        {
         "hovertemplate": "smoking_status=no<br>gender=female<br>location=southeast<br>BMI=%{x}<br>health_insurance_price=%{y}<extra></extra>",
         "legendgroup": "no",
         "marker": {
          "color": "#EF553B",
          "symbol": "circle"
         },
         "mode": "markers",
         "name": "no",
         "showlegend": false,
         "type": "scattergl",
         "x": [
          25.74,
          33.44,
          39.82,
          27.72,
          36.63,
          30.8,
          24.53,
          36.19,
          29.59,
          39.49,
          37.62,
          27.17,
          28.05,
          31.9,
          38.83,
          37.73,
          30.305,
          38.28,
          29.92,
          28.6,
          32.23,
          26.73,
          29.92,
          23.21,
          41.91,
          27.83,
          26.73,
          38.06,
          40.15,
          38.06,
          21.56,
          28.82,
          37.51,
          33,
          33.33,
          23.21,
          27.72,
          41.47,
          29.26,
          29.92,
          38.28,
          20.79,
          21.89,
          43.34,
          39.05,
          38.17,
          24.31,
          35.64,
          46.75,
          36.52,
          30.14,
          33,
          30.305,
          24.09,
          31.35,
          25.08,
          23.98,
          28.93,
          44.22,
          37.73,
          33.88,
          28.05,
          31.79,
          36.3,
          28.93,
          32.12,
          37.29,
          43.12,
          23.65,
          28.27,
          30.69,
          29.48,
          39.16,
          39.05,
          34.1,
          29.37,
          33,
          35.53,
          42.68,
          39.6,
          31.13,
          36.3,
          35.2,
          23.98,
          29.81,
          31.02,
          40.81,
          39.27,
          34.87,
          23.54,
          36.08,
          26.62,
          22.77,
          29.26,
          29.92,
          41.8,
          26.18,
          35.97,
          31.46,
          31.13,
          29.81,
          32.23,
          29.48,
          29.04,
          40.26,
          32.34,
          33.99,
          34.21,
          39.16,
          46.09,
          35.2,
          34.32,
          28.16,
          29.92,
          36.85,
          33.33,
          45.32,
          31.79,
          39.49,
          31.9,
          29.59,
          33.99,
          31.24,
          35.86,
          23.87,
          24.86,
          41.91,
          39.82,
          27.83,
          42.13,
          33.11,
          39.82,
          27.72,
          28.05,
          33.33,
          26.51,
          27.72,
          25.74,
          36.85
         ],
         "xaxis": "x6",
         "y": [
          3756.6216,
          8240.5896,
          11090.7178,
          14001.1338,
          4949.7587,
          6313.759,
          12629.8967,
          5920.1041,
          3947.4131,
          2026.9741,
          3766.8838,
          8601.3293,
          2155.6815,
          27322.73386,
          5138.2567,
          9877.6077,
          19749.38338,
          1631.8212,
          3981.9768,
          8516.829,
          8871.1517,
          5002.7827,
          3392.9768,
          25081.76784,
          24227.33724,
          14001.2867,
          1615.7667,
          12648.7034,
          5400.9805,
          20462.99766,
          9855.1314,
          2156.7518,
          12265.5069,
          4349.462,
          4151.0287,
          3561.8889,
          8232.6388,
          10977.2063,
          6184.2994,
          5478.0368,
          14133.03775,
          1607.5101,
          3180.5101,
          5846.9176,
          11856.4115,
          1631.6683,
          4185.0979,
          7345.7266,
          12592.5345,
          28287.89766,
          11881.9696,
          7682.67,
          10381.4787,
          2201.0971,
          1622.1885,
          24513.09126,
          8211.1002,
          5974.3847,
          3994.1778,
          5397.6167,
          11482.63485,
          8233.0975,
          3056.3881,
          13887.204,
          3972.9247,
          2801.2588,
          2219.4451,
          4753.6368,
          17626.23951,
          4779.6023,
          5976.8311,
          7640.3092,
          1633.0444,
          16085.1275,
          9283.562,
          8547.6913,
          1880.07,
          3366.6697,
          9800.8882,
          10579.711,
          8280.6227,
          8527.532,
          12244.531,
          22192.43711,
          6500.2359,
          6185.3208,
          12485.8009,
          3500.6123,
          2020.5523,
          10107.2206,
          6781.3542,
          3757.8448,
          11833.7823,
          4350.5144,
          13457.9608,
          5662.225,
          7046.7222,
          14313.8463,
          1877.9294,
          1621.8827,
          8219.2039,
          18218.16139,
          3392.3652,
          7243.8136,
          1634.5734,
          7633.7206,
          2473.3341,
          5245.2269,
          13470.8044,
          9549.5651,
          14474.675,
          8596.8278,
          10702.6424,
          4889.0368,
          13887.9685,
          36580.28216,
          8569.8618,
          17929.30337,
          2480.9791,
          10928.849,
          4562.8421,
          3227.1211,
          10338.9316,
          5836.5204,
          8582.3023,
          27117.99378,
          11093.6229,
          4795.6568,
          8515.7587,
          3238.4357,
          3171.6149,
          1633.9618,
          4415.1588,
          6770.1925,
          8283.6807,
          4340.4409,
          2464.6188,
          12629.1656,
          1629.8335
         ],
         "yaxis": "y6"
        },
        {
         "hovertemplate": "smoking_status=no<br>gender=female<br>location=northwest<br>BMI=%{x}<br>health_insurance_price=%{y}<extra></extra>",
         "legendgroup": "no",
         "marker": {
          "color": "#EF553B",
          "symbol": "circle"
         },
         "mode": "markers",
         "name": "no",
         "showlegend": false,
         "type": "scattergl",
         "x": [
          27.74,
          25.84,
          32.775,
          32.965,
          34.77,
          33.63,
          28.69,
          30.305,
          25.935,
          32.965,
          41.23,
          27.74,
          26.98,
          24.795,
          35.72,
          23.37,
          28.975,
          33.915,
          37.43,
          33.155,
          31.825,
          33.345,
          26.41,
          32.11,
          26.6,
          18.05,
          32.11,
          24.035,
          26.6,
          36.195,
          26.22,
          28.88,
          33.06,
          27.645,
          31.16,
          23.18,
          24.985,
          21.09,
          30.115,
          22.61,
          30.21,
          37.43,
          32.965,
          35.15,
          30.4,
          20.235,
          32.68,
          25.65,
          30.495,
          33.82,
          21.47,
          30.59,
          31.73,
          19.95,
          30.495,
          40.565,
          27.17,
          37.525,
          26.03,
          24.51,
          34.96,
          23.18,
          40.185,
          26.41,
          29.545,
          30.685,
          22.61,
          36.67,
          33.44,
          34.77,
          30.115,
          31.825,
          19.475,
          31.92,
          35.815,
          41.42,
          36.575,
          42.94,
          24.225,
          25.84,
          23.845,
          31.35,
          33.535,
          28.12,
          30.02,
          22.515,
          26.695,
          24.225,
          28.405,
          39.615,
          20.235,
          27.645,
          26.885,
          24.605,
          35.815,
          32.68,
          22.515,
          36.955,
          21.47,
          30.495,
          29.925,
          30.305,
          26.315,
          19.95,
          25.08,
          18.335,
          28.12,
          22.23,
          31.92,
          36.48,
          35.815,
          27.93,
          23.18,
          34.58,
          28.31,
          34.105,
          29.925,
          32.68,
          32.775,
          36.575,
          21.755,
          27.93,
          31.255,
          30.21,
          24.605,
          28.215,
          21.28,
          36.385,
          27.645,
          34.485,
          29.735,
          26.79,
          25.745,
          26.695,
          26.315
         ],
         "xaxis": "x7",
         "y": [
          7281.5056,
          28923.13692,
          12268.63225,
          15612.19335,
          3556.9223,
          3579.8287,
          8059.6791,
          5989.52365,
          4133.64165,
          6571.02435,
          11033.6617,
          8026.6666,
          11082.5772,
          10942.13205,
          2404.7338,
          6686.4313,
          2257.47525,
          10115.00885,
          10959.6947,
          6128.79745,
          2719.27975,
          2855.43755,
          7419.4779,
          4922.9159,
          12044.342,
          9644.2525,
          2130.6759,
          13012.20865,
          10355.641,
          7443.64305,
          14256.1928,
          9249.4952,
          7749.1564,
          7421.19455,
          13429.0354,
          11830.6072,
          8017.06115,
          13415.0381,
          16455.70785,
          3176.8159,
          4618.0799,
          2138.0707,
          14692.66935,
          2134.9015,
          18804.7524,
          4906.40965,
          4738.2682,
          11454.0215,
          11840.77505,
          12643.3778,
          12475.3513,
          24059.68019,
          11187.6567,
          9193.8385,
          2128.43105,
          6373.55735,
          12222.8983,
          33471.97189,
          3736.4647,
          2709.1119,
          4466.6214,
          10156.7832,
          3201.24515,
          5385.3379,
          8930.93455,
          8310.83915,
          9566.9909,
          10848.1343,
          12231.6136,
          9583.8933,
          9910.35985,
          11842.62375,
          6933.24225,
          7209.4918,
          7731.85785,
          28476.73499,
          2136.88225,
          6360.9936,
          2842.76075,
          5266.3656,
          4719.73655,
          12622.1795,
          12269.68865,
          2690.1138,
          5272.1758,
          2117.33885,
          14382.70905,
          8965.79575,
          4527.18295,
          2730.10785,
          2527.81865,
          28340.18885,
          5267.81815,
          2709.24395,
          12495.29085,
          26018.95052,
          3594.17085,
          8023.13545,
          3353.4703,
          15019.76005,
          8988.15875,
          10493.9458,
          5312.16985,
          5693.4305,
          14254.6082,
          9991.03765,
          11085.5868,
          3176.2877,
          2261.5688,
          12235.8392,
          5630.45785,
          11015.1747,
          14426.07385,
          7727.2532,
          7153.5539,
          6112.35295,
          2850.68375,
          13844.7972,
          5327.40025,
          8671.19125,
          4134.08245,
          18838.70366,
          3956.07145,
          7537.1639,
          12479.70895,
          12224.35085,
          4296.2712,
          11436.73815,
          11305.93455,
          3021.80915,
          4357.04365,
          4189.1131,
          2710.82855,
          4571.41305,
          7201.70085
         ],
         "yaxis": "y7"
        },
        {
         "hovertemplate": "smoking_status=no<br>gender=female<br>location=northeast<br>BMI=%{x}<br>health_insurance_price=%{y}<extra></extra>",
         "legendgroup": "no",
         "marker": {
          "color": "#EF553B",
          "symbol": "circle"
         },
         "mode": "markers",
         "name": "no",
         "showlegend": false,
         "type": "scattergl",
         "x": [
          30.78,
          36.005,
          23.085,
          26.315,
          26.6,
          38.665,
          35.625,
          31.825,
          39.805,
          38.285,
          30.115,
          28.785,
          30.305,
          22.04,
          28.785,
          37.145,
          25.46,
          33.155,
          39.33,
          28.88,
          33.25,
          31.635,
          22.135,
          25.365,
          32.395,
          26.6,
          32.395,
          48.07,
          29.64,
          28.785,
          35.72,
          27.55,
          32.3,
          30.78,
          32.3,
          22.23,
          33.155,
          32.3,
          30.305,
          27.265,
          29.165,
          16.815,
          38.095,
          24.32,
          30.115,
          33.345,
          31.065,
          25.08,
          25.27,
          27.36,
          33.915,
          31.73,
          28.595,
          41.325,
          32.68,
          36.86,
          34.295,
          23.465,
          35.91,
          33.725,
          33.25,
          25.175,
          33.155,
          19,
          28.595,
          38.095,
          23.37,
          32.965,
          35.91,
          28.785,
          31.54,
          31.16,
          32.3,
          44.745,
          30.495,
          30.305,
          40.66,
          27.075,
          40.28,
          27.265,
          22.8,
          34.58,
          25.175,
          36.48,
          23.18,
          22.895,
          31.825,
          28.31,
          23.465,
          23.75,
          19.855,
          22.135,
          29.355,
          40.185,
          23.56,
          39.995,
          30.59,
          27.835,
          23.275,
          36.29,
          17.29,
          27.93,
          25.08,
          28.88,
          18.335,
          29.83,
          31.35,
          30.875,
          32.3,
          32.395,
          30.305,
          22.135,
          30.59,
          28.215,
          26.125,
          34.865,
          41.325,
          27.36,
          21.755,
          32.395,
          21.945,
          21.66,
          23.18,
          20.52,
          33.345,
          30.4,
          24.32,
          17.29,
          19.95,
          32.87,
          24.225,
          31.92
         ],
         "xaxis": "x8",
         "y": [
          10797.3362,
          13228.84695,
          14451.83515,
          2198.18985,
          3046.062,
          3393.35635,
          2211.13075,
          13607.36875,
          2755.02095,
          7935.29115,
          21344.8467,
          3385.39915,
          12815.44495,
          13616.3586,
          2457.21115,
          6334.34355,
          7077.1894,
          8538.28845,
          14901.5167,
          4337.7352,
          10564.8845,
          7358.17565,
          5354.07465,
          13047.33235,
          14590.63205,
          9715.841,
          11879.10405,
          9432.9253,
          24671.66334,
          11658.37915,
          19144.57652,
          13217.0945,
          10043.249,
          9778.3472,
          13430.265,
          12029.2867,
          7639.41745,
          9411.005,
          11396.9002,
          6555.07035,
          7323.734819,
          3167.45585,
          15230.32405,
          23288.9284,
          2203.47185,
          20878.78443,
          4347.02335,
          2196.4732,
          3044.2133,
          25656.57526,
          9866.30485,
          14043.4767,
          3213.62205,
          17878.90068,
          10923.9332,
          31620.00106,
          13224.05705,
          3206.49135,
          13635.6379,
          8823.98575,
          5594.8455,
          3558.62025,
          2207.69745,
          6753.038,
          11658.11505,
          24915.04626,
          8252.2843,
          12430.95335,
          26392.26029,
          14394.39815,
          5148.5526,
          3943.5954,
          29186.48236,
          9541.69555,
          6113.23105,
          5469.0066,
          9875.6804,
          10106.13425,
          2217.6012,
          9447.25035,
          7985.815,
          3925.7582,
          9095.06825,
          12797.20962,
          2731.9122,
          4719.52405,
          16069.08475,
          11657.7189,
          6402.29135,
          11729.6795,
          5458.04645,
          2585.85065,
          4564.19145,
          2217.46915,
          4992.3764,
          9704.66805,
          16796.41194,
          7144.86265,
          7986.47525,
          6551.7501,
          6877.9801,
          4137.5227,
          7325.0482,
          12096.6512,
          13204.28565,
          11286.5387,
          4561.1885,
          23045.56616,
          11512.405,
          18903.49141,
          2203.73595,
          7228.21565,
          2459.7201,
          2200.83085,
          5227.98875,
          2899.48935,
          7650.77375,
          9447.3824,
          13725.47184,
          13019.16105,
          4718.20355,
          14449.8544,
          10197.7722,
          4544.2348,
          10370.91255,
          2741.948,
          8534.6718,
          3732.6251,
          7133.9025,
          7050.0213,
          22395.74424,
          2205.9808
         ],
         "yaxis": "y8"
        },
        {
         "hovertemplate": "smoking_status=no<br>gender=male<br>location=southwest<br>BMI=%{x}<br>health_insurance_price=%{y}<extra></extra>",
         "legendgroup": "no",
         "marker": {
          "color": "#EF553B",
          "symbol": "circle"
         },
         "mode": "markers",
         "name": "no",
         "showlegend": false,
         "type": "scattergl",
         "x": [
          34.4,
          24.6,
          40.3,
          20.8,
          37.3,
          27.4,
          30.8,
          37.1,
          34.7,
          34.1,
          28.4,
          39.6,
          30.3,
          29.2,
          22.3,
          33,
          30.8,
          27.5,
          35.3,
          20.9,
          30.3,
          30.2,
          26.8,
          26.6,
          27.2,
          36.7,
          34.5,
          27.6,
          30.5,
          34.4,
          25.6,
          20.4,
          23.9,
          30.2,
          33.1,
          26.9,
          28.9,
          38.6,
          29.6,
          23.4,
          37.4,
          39.6,
          34.3,
          28.7,
          43.4,
          28.7,
          30.4,
          35.7,
          30.8,
          21.4,
          23.8,
          30.5,
          30.2,
          20.7,
          32.6,
          31.4,
          38,
          36.1,
          29.3,
          39.7,
          42.4,
          28.7,
          36.1,
          20.3,
          36.2,
          28.9,
          36.6,
          37.4,
          35.4,
          21.4,
          23.7,
          27,
          35.2,
          32.3,
          36.1,
          27.6,
          22.3,
          37.1,
          33.7,
          33.1,
          30.305,
          31.1,
          28.1,
          25.4,
          29.9,
          43.7,
          36.2,
          30.1,
          28.8,
          34.8,
          39.5,
          39.8,
          31,
          23.2,
          25.8,
          35.8,
          27.1,
          25.8,
          29.6,
          30.305,
          31.6,
          31.5,
          22.1,
          32.7,
          28.6,
          29.8,
          30,
          29.9,
          32.8,
          45.9,
          32.3,
          21.5,
          34.1,
          30.305,
          37.1,
          23.3,
          24.3,
          29.4,
          19.8,
          37.1,
          27.5,
          23.7,
          22,
          32.2,
          42.9,
          38.6
         ],
         "xaxis": "x",
         "y": [
          1826.843,
          1837.237,
          10602.385,
          2302.3,
          20630.28351,
          7726.854,
          4646.759,
          7740.337,
          6082.405,
          1261.442,
          1842.519,
          10450.552,
          8116.68,
          10436.096,
          7147.105,
          1980.07,
          5253.524,
          12333.828,
          7196.867,
          1832.094,
          4260.744,
          7441.053,
          3906.127,
          8444.474,
          2866.091,
          9144.565,
          13822.803,
          24603.04837,
          4751.07,
          1261.859,
          14988.432,
          3260.199,
          5080.096,
          8968.33,
          23082.95533,
          5969.723,
          5926.846,
          4762.329,
          7512.267,
          1969.614,
          21797.0004,
          10601.412,
          9563.029,
          1253.936,
          12574.049,
          8027.968,
          1256.299,
          11362.755,
          13390.559,
          12957.118,
          3847.674,
          2494.022,
          9724.53,
          1242.816,
          7441.501,
          3659.346,
          11365.952,
          10085.846,
          1977.815,
          9391.346,
          6666.243,
          8703.456,
          12363.547,
          1242.26,
          8068.185,
          12146.971,
          11264.541,
          12979.358,
          1263.249,
          10065.413,
          3484.331,
          11737.84884,
          2416.955,
          8062.764,
          27941.28758,
          1252.407,
          2103.08,
          3597.596,
          7445.918,
          13393.756,
          4402.233,
          1526.312,
          10965.446,
          8782.469,
          6600.361,
          11576.13,
          8457.818,
          6849.026,
          6282.235,
          3443.064,
          1682.597,
          15170.069,
          5488.262,
          6250.435,
          10096.97,
          7160.094,
          4746.344,
          1972.95,
          21232.18226,
          8798.593,
          9850.432,
          4076.497,
          10577.087,
          3591.48,
          11253.421,
          20420.60465,
          2904.088,
          10214.636,
          14358.36437,
          3693.428,
          9630.397,
          10791.96,
          5979.731,
          4670.64,
          12347.172,
          11345.519,
          5615.369,
          6059.173,
          1241.565,
          3277.161,
          8615.3,
          10959.33,
          1964.78,
          6875.961,
          9382.033,
          10325.206
         ],
         "yaxis": "y"
        },
        {
         "hovertemplate": "smoking_status=no<br>gender=male<br>location=southeast<br>BMI=%{x}<br>health_insurance_price=%{y}<extra></extra>",
         "legendgroup": "no",
         "marker": {
          "color": "#EF553B",
          "symbol": "circle"
         },
         "mode": "markers",
         "name": "no",
         "showlegend": false,
         "type": "scattergl",
         "x": [
          33.77,
          33,
          34.1,
          21.78,
          33.66,
          32.01,
          35.53,
          38.28,
          27.94,
          49.06,
          29.7,
          41.47,
          30.69,
          31.57,
          25.74,
          34.43,
          26.4,
          23.1,
          33.88,
          38.06,
          38.39,
          38.06,
          35.86,
          29.37,
          31.79,
          26.62,
          26.4,
          35.86,
          25.74,
          35.75,
          43.89,
          41.91,
          33.33,
          31.46,
          33,
          31.02,
          47.52,
          21.12,
          30.03,
          34.1,
          39.16,
          24.31,
          33.11,
          43.01,
          46.53,
          32.67,
          36.85,
          32.56,
          37.51,
          33.66,
          30.305,
          29.7,
          36.19,
          40.48,
          31.35,
          34.21,
          44.77,
          26.84,
          45.43,
          31.13,
          40.26,
          42.46,
          33.66,
          35.31,
          46.53,
          33.66,
          31.57,
          29.7,
          41.69,
          41.47,
          35.2,
          33.33,
          34.32,
          41.14,
          35.97,
          44.22,
          26.51,
          30.14,
          21.01,
          34.43,
          35.97,
          50.38,
          37.29,
          24.86,
          33.44,
          36.85,
          34.21,
          46.53,
          37.18,
          26.18,
          29.48,
          23.21,
          39.93,
          39.49,
          35.42,
          40.15,
          29.15,
          28.27,
          23.32,
          32.01,
          27.94,
          37.29,
          33.66,
          21.78,
          47.74,
          33.77,
          38.94,
          36.08,
          20.35,
          32.67,
          38.17,
          30.25,
          37.07,
          32.34,
          42.13,
          38.83,
          40.37,
          33.55,
          34.1,
          25.08,
          37.29,
          24.97,
          25.3,
          37.18,
          34.43,
          33.33,
          25.52,
          27.61,
          30.03,
          34.32,
          23.21,
          53.13,
          38.83,
          30.03
         ],
         "xaxis": "x2",
         "y": [
          1725.5523,
          4449.462,
          1137.011,
          6272.4772,
          4504.6624,
          11946.6259,
          1532.4697,
          10226.2842,
          2867.1196,
          11381.3254,
          7789.635,
          13405.3903,
          7731.4271,
          12557.6053,
          2137.6536,
          1137.4697,
          11743.299,
          2483.736,
          11987.1682,
          2689.4954,
          4463.2051,
          7152.6714,
          1986.9334,
          1719.4363,
          12928.7911,
          7742.1098,
          25992.82104,
          8124.4084,
          12142.5786,
          4889.9995,
          8944.1151,
          1837.2819,
          1391.5287,
          27000.98473,
          20781.48892,
          16586.49771,
          8083.9198,
          6652.5288,
          4074.4537,
          9140.951,
          14418.2804,
          9788.8659,
          13919.8229,
          1149.3959,
          4686.3887,
          2497.0383,
          1534.3045,
          1824.2854,
          9304.7019,
          2498.4144,
          27724.28875,
          12925.886,
          19214.70553,
          13831.1152,
          27346.04207,
          3935.1799,
          9058.7303,
          1664.9996,
          6356.2707,
          2566.4707,
          5709.1644,
          11326.71487,
          12949.1554,
          18806.14547,
          6435.6237,
          1136.3994,
          4837.5823,
          4399.731,
          5438.7491,
          9504.3103,
          1727.54,
          10560.4917,
          5934.3798,
          1146.7966,
          9386.1613,
          4266.1658,
          1815.8759,
          1131.5066,
          11013.7119,
          5584.3057,
          7160.3303,
          2438.0552,
          1141.4451,
          5966.8874,
          6653.7886,
          8125.7845,
          6289.7549,
          2927.0647,
          4673.3922,
          2304.0022,
          9487.6442,
          1121.8739,
          12982.8747,
          3875.7341,
          2322.6218,
          7804.1605,
          2902.9065,
          5484.4673,
          1711.0268,
          1981.5819,
          11554.2236,
          8978.1851,
          15161.5344,
          11884.04858,
          9748.9106,
          1674.6323,
          3471.4096,
          11363.2832,
          8605.3615,
          10807.4863,
          8347.1643,
          3704.3545,
          9048.0273,
          6338.0756,
          5124.1887,
          18963.17192,
          10982.5013,
          5699.8375,
          23563.01618,
          5415.6612,
          4058.1161,
          6593.5083,
          8442.667,
          7162.0122,
          10594.2257,
          1135.9407,
          14478.33015,
          4747.0529,
          1720.3537,
          7147.4728,
          1515.3449,
          1163.4627,
          12981.3457,
          9377.9047
         ],
         "yaxis": "y2"
        },
        {
         "hovertemplate": "smoking_status=no<br>gender=male<br>location=northwest<br>BMI=%{x}<br>health_insurance_price=%{y}<extra></extra>",
         "legendgroup": "no",
         "marker": {
          "color": "#EF553B",
          "symbol": "circle"
         },
         "mode": "markers",
         "name": "no",
         "showlegend": false,
         "type": "scattergl",
         "x": [
          22.705,
          28.88,
          28.025,
          17.385,
          28.31,
          20.425,
          24.7,
          26.315,
          34.01,
          34.77,
          30.305,
          33.63,
          25.555,
          25.175,
          29.735,
          24.13,
          39.52,
          29.64,
          27.835,
          28.595,
          30.59,
          30.875,
          28.5,
          24.51,
          30.02,
          24.415,
          37.05,
          27.55,
          20.615,
          33.345,
          32.205,
          25.27,
          27.55,
          30.02,
          27.835,
          29.83,
          32.015,
          25.365,
          19.855,
          32.3,
          17.48,
          28.595,
          24.13,
          29.735,
          25.175,
          35.625,
          41.325,
          31.16,
          30.875,
          31.35,
          23.75,
          30.495,
          30.21,
          35.53,
          30.59,
          30.59,
          19.57,
          31.635,
          28.785,
          26.22,
          33.155,
          21.375,
          24.32,
          32.395,
          23.655,
          33.725,
          28.69,
          24.32,
          28.405,
          26.41,
          21.755,
          30.875,
          28.975,
          37.905,
          34.2,
          32.3,
          28.88,
          36.86,
          17.67,
          24.32,
          21.85,
          34.39,
          33.82,
          32.775,
          32.3,
          27.36,
          26.695,
          33.63,
          25.555,
          28.31,
          24.605,
          35.815,
          22.61,
          31.255,
          26.79,
          36.67,
          36.765,
          25.365,
          30.115,
          31.73,
          32.3,
          25.46,
          18.715,
          38.38,
          27.265,
          27.645,
          33.82,
          30.305,
          21.66,
          31.255,
          27.835,
          19.95,
          31.54,
          33.82,
          32.775,
          29.26,
          32.11,
          29.355,
          24.32,
          40.375,
          32.11,
          17.86,
          30.875,
          31.065,
          37.715,
          33.915,
          25.745,
          27.455,
          26.315,
          31.065,
          25.935,
          30.97
         ],
         "xaxis": "x3",
         "y": [
          21984.47061,
          3866.8552,
          6203.90175,
          2775.19215,
          13770.0979,
          1625.43375,
          30166.61817,
          6389.37785,
          11356.6609,
          5729.0053,
          3877.30425,
          10825.2537,
          1632.56445,
          2045.68525,
          18157.876,
          5125.2157,
          6948.7008,
          5028.1466,
          6455.86265,
          11735.87905,
          1639.5631,
          8162.71625,
          3537.703,
          6710.1919,
          24476.47851,
          11520.09985,
          7265.7025,
          2523.1695,
          2803.69785,
          19442.3535,
          8835.26495,
          4894.7533,
          13937.6665,
          13352.0998,
          1635.73365,
          9620.3307,
          8116.26885,
          30284.64294,
          7526.70645,
          10269.46,
          1621.3402,
          4243.59005,
          4032.2407,
          1769.53165,
          1632.03625,
          2534.39375,
          15555.18875,
          10461.9794,
          6796.86325,
          2643.2685,
          3077.0955,
          8413.46305,
          10231.4999,
          1646.4297,
          7256.7231,
          1639.5631,
          8428.0693,
          9174.13565,
          12129.61415,
          6123.5688,
          4058.71245,
          7222.78625,
          9863.4718,
          2362.22905,
          2352.96845,
          10976.24575,
          10264.4421,
          13112.6048,
          6664.68595,
          8827.2099,
          1627.28245,
          3062.50825,
          1906.35825,
          14210.53595,
          7261.741,
          6986.697,
          9869.8102,
          1917.3184,
          2680.9493,
          12523.6048,
          6117.4945,
          11743.9341,
          5377.4578,
          10601.63225,
          14119.62,
          2789.0574,
          4877.98105,
          11945.1327,
          2221.56445,
          2639.0429,
          5257.50795,
          4320.41085,
          1628.4709,
          6358.77645,
          12609.88702,
          28468.91901,
          26467.09737,
          7518.02535,
          8410.04685,
          4433.3877,
          8765.249,
          12124.9924,
          21595.38229,
          12950.0712,
          22493.65964,
          10594.50155,
          4462.7218,
          6548.19505,
          14349.8544,
          1909.52745,
          4454.40265,
          5855.9025,
          11353.2276,
          19673.33573,
          11289.10925,
          6457.8434,
          4433.9159,
          6393.60345,
          6198.7518,
          8733.22925,
          2055.3249,
          5116.5004,
          5373.36425,
          2699.56835,
          30063.58055,
          3292.52985,
          9301.89355,
          5261.46945,
          6940.90985,
          5425.02335,
          4239.89265,
          10600.5483
         ],
         "yaxis": "y3"
        },
        {
         "hovertemplate": "smoking_status=no<br>gender=male<br>location=northeast<br>BMI=%{x}<br>health_insurance_price=%{y}<extra></extra>",
         "legendgroup": "no",
         "marker": {
          "color": "#EF553B",
          "symbol": "circle"
         },
         "mode": "markers",
         "name": "no",
         "showlegend": false,
         "type": "scattergl",
         "x": [
          29.83,
          26.22,
          23.845,
          37.05,
          27.36,
          28.5,
          26.885,
          25.46,
          32.205,
          28.595,
          23.75,
          22.42,
          32.49,
          28.215,
          18.905,
          15.96,
          19.95,
          41.23,
          25.46,
          28.975,
          25.84,
          27.455,
          27.645,
          29.64,
          22.99,
          27.55,
          34.865,
          33.25,
          32.775,
          37.335,
          40.945,
          34.105,
          36.765,
          33.345,
          35.245,
          30.4,
          22.135,
          35.625,
          31.445,
          31.35,
          30.59,
          31.73,
          29.45,
          29.64,
          25.935,
          27.93,
          26.03,
          32.11,
          22.42,
          30.875,
          39.425,
          25.46,
          28.025,
          35.435,
          33.44,
          25.46,
          20.235,
          26.98,
          28.88,
          22.705,
          38.19,
          30.305,
          30.78,
          28.5,
          26.41,
          26.125,
          27.36,
          40.47,
          24.035,
          33.63,
          27.645,
          37.43,
          26.03,
          39.805,
          36.955,
          22.515,
          25.84,
          22.515,
          24.7,
          30.495,
          23.655,
          21.85,
          24.035,
          32.11,
          22.515,
          27.265,
          32.585,
          32.11,
          29.735,
          18.335,
          24.795,
          25.745,
          25.46,
          21.375,
          30.115,
          34.675,
          19.19,
          29.26,
          24.985,
          27.74,
          28.88,
          23.085,
          35.245,
          26.41,
          29.83,
          42.655,
          31.445,
          26.03,
          28.975,
          24.51,
          29.64,
          40.28,
          23.56,
          32.3,
          21.47,
          39.14,
          23.94,
          16.815,
          30.305,
          22.705,
          25.175,
          26.125,
          28.31,
          39.71,
          33.535
         ],
         "xaxis": "x4",
         "y": [
          6406.4107,
          2721.3208,
          2395.17155,
          6079.6715,
          8606.2174,
          6799.458,
          4441.21315,
          3645.0894,
          11488.31695,
          30259.99556,
          1705.6245,
          27375.90478,
          3490.5491,
          10407.08585,
          4827.90495,
          1694.7964,
          4005.4225,
          6610.1097,
          9225.2564,
          4040.55825,
          9282.4806,
          9617.66245,
          4237.12655,
          20277.80751,
          1704.5681,
          6746.7425,
          11944.59435,
          9722.7695,
          10435.06525,
          4667.60765,
          11566.30055,
          6600.20595,
          13981.85035,
          8334.45755,
          12404.8791,
          3481.868,
          8302.53565,
          10736.87075,
          8964.06055,
          9290.1395,
          2727.3951,
          2254.7967,
          2897.3235,
          12730.9996,
          11165.41765,
          1967.0227,
          6837.3687,
          11763.0009,
          9361.3268,
          3857.75925,
          8342.90875,
          1708.0014,
          6067.12675,
          3268.84665,
          8334.5896,
          12913.9924,
          3861.20965,
          4435.0942,
          6748.5912,
          7173.35995,
          14410.9321,
          13143.86485,
          10141.1362,
          1712.227,
          11244.3769,
          7729.64575,
          2104.1134,
          1984.4533,
          8604.48365,
          17128.42608,
          5031.26955,
          5428.7277,
          3070.8087,
          7448.40395,
          12741.16745,
          5209.57885,
          3309.7926,
          4428.88785,
          12323.936,
          10072.05505,
          13129.60345,
          8891.1395,
          10422.91665,
          13555.0049,
          8688.85885,
          4661.28635,
          4846.92015,
          25333.33284,
          32108.66282,
          11534.87265,
          9500.57305,
          3279.86855,
          25517.11363,
          4500.33925,
          4915.05985,
          4518.82625,
          8627.5411,
          4438.2634,
          23241.47453,
          9957.7216,
          2250.8352,
          1704.70015,
          11394.06555,
          14394.5579,
          9288.0267,
          5757.41345,
          13974.45555,
          2102.2647,
          10796.35025,
          2396.0959,
          9222.4026,
          20709.02034,
          8603.8234,
          9964.06,
          1702.4553,
          12890.05765,
          6858.4796,
          6640.54485,
          11938.25595,
          6985.50695,
          11931.12525,
          1708.92575,
          11272.33139,
          19496.71917,
          13143.33665
         ],
         "yaxis": "y4"
        }
       ],
       "layout": {
        "annotations": [
         {
          "font": {},
          "showarrow": false,
          "text": "location=southwest",
          "x": 0.11499999999999999,
          "xanchor": "center",
          "xref": "paper",
          "y": 1,
          "yanchor": "bottom",
          "yref": "paper"
         },
         {
          "font": {},
          "showarrow": false,
          "text": "location=southeast",
          "x": 0.365,
          "xanchor": "center",
          "xref": "paper",
          "y": 1,
          "yanchor": "bottom",
          "yref": "paper"
         },
         {
          "font": {},
          "showarrow": false,
          "text": "location=northwest",
          "x": 0.615,
          "xanchor": "center",
          "xref": "paper",
          "y": 1,
          "yanchor": "bottom",
          "yref": "paper"
         },
         {
          "font": {},
          "showarrow": false,
          "text": "location=northeast",
          "x": 0.865,
          "xanchor": "center",
          "xref": "paper",
          "y": 1,
          "yanchor": "bottom",
          "yref": "paper"
         },
         {
          "font": {},
          "showarrow": false,
          "text": "gender=male",
          "textangle": 90,
          "x": 0.98,
          "xanchor": "left",
          "xref": "paper",
          "y": 0.2425,
          "yanchor": "middle",
          "yref": "paper"
         },
         {
          "font": {},
          "showarrow": false,
          "text": "gender=female",
          "textangle": 90,
          "x": 0.98,
          "xanchor": "left",
          "xref": "paper",
          "y": 0.7575000000000001,
          "yanchor": "middle",
          "yref": "paper"
         }
        ],
        "legend": {
         "title": {
          "text": "smoking_status"
         },
         "tracegroupgap": 0
        },
        "margin": {
         "t": 60
        },
        "template": {
         "data": {
          "bar": [
           {
            "error_x": {
             "color": "#2a3f5f"
            },
            "error_y": {
             "color": "#2a3f5f"
            },
            "marker": {
             "line": {
              "color": "#E5ECF6",
              "width": 0.5
             },
             "pattern": {
              "fillmode": "overlay",
              "size": 10,
              "solidity": 0.2
             }
            },
            "type": "bar"
           }
          ],
          "barpolar": [
           {
            "marker": {
             "line": {
              "color": "#E5ECF6",
              "width": 0.5
             },
             "pattern": {
              "fillmode": "overlay",
              "size": 10,
              "solidity": 0.2
             }
            },
            "type": "barpolar"
           }
          ],
          "carpet": [
           {
            "aaxis": {
             "endlinecolor": "#2a3f5f",
             "gridcolor": "white",
             "linecolor": "white",
             "minorgridcolor": "white",
             "startlinecolor": "#2a3f5f"
            },
            "baxis": {
             "endlinecolor": "#2a3f5f",
             "gridcolor": "white",
             "linecolor": "white",
             "minorgridcolor": "white",
             "startlinecolor": "#2a3f5f"
            },
            "type": "carpet"
           }
          ],
          "choropleth": [
           {
            "colorbar": {
             "outlinewidth": 0,
             "ticks": ""
            },
            "type": "choropleth"
           }
          ],
          "contour": [
           {
            "colorbar": {
             "outlinewidth": 0,
             "ticks": ""
            },
            "colorscale": [
             [
              0,
              "#0d0887"
             ],
             [
              0.1111111111111111,
              "#46039f"
             ],
             [
              0.2222222222222222,
              "#7201a8"
             ],
             [
              0.3333333333333333,
              "#9c179e"
             ],
             [
              0.4444444444444444,
              "#bd3786"
             ],
             [
              0.5555555555555556,
              "#d8576b"
             ],
             [
              0.6666666666666666,
              "#ed7953"
             ],
             [
              0.7777777777777778,
              "#fb9f3a"
             ],
             [
              0.8888888888888888,
              "#fdca26"
             ],
             [
              1,
              "#f0f921"
             ]
            ],
            "type": "contour"
           }
          ],
          "contourcarpet": [
           {
            "colorbar": {
             "outlinewidth": 0,
             "ticks": ""
            },
            "type": "contourcarpet"
           }
          ],
          "heatmap": [
           {
            "colorbar": {
             "outlinewidth": 0,
             "ticks": ""
            },
            "colorscale": [
             [
              0,
              "#0d0887"
             ],
             [
              0.1111111111111111,
              "#46039f"
             ],
             [
              0.2222222222222222,
              "#7201a8"
             ],
             [
              0.3333333333333333,
              "#9c179e"
             ],
             [
              0.4444444444444444,
              "#bd3786"
             ],
             [
              0.5555555555555556,
              "#d8576b"
             ],
             [
              0.6666666666666666,
              "#ed7953"
             ],
             [
              0.7777777777777778,
              "#fb9f3a"
             ],
             [
              0.8888888888888888,
              "#fdca26"
             ],
             [
              1,
              "#f0f921"
             ]
            ],
            "type": "heatmap"
           }
          ],
          "heatmapgl": [
           {
            "colorbar": {
             "outlinewidth": 0,
             "ticks": ""
            },
            "colorscale": [
             [
              0,
              "#0d0887"
             ],
             [
              0.1111111111111111,
              "#46039f"
             ],
             [
              0.2222222222222222,
              "#7201a8"
             ],
             [
              0.3333333333333333,
              "#9c179e"
             ],
             [
              0.4444444444444444,
              "#bd3786"
             ],
             [
              0.5555555555555556,
              "#d8576b"
             ],
             [
              0.6666666666666666,
              "#ed7953"
             ],
             [
              0.7777777777777778,
              "#fb9f3a"
             ],
             [
              0.8888888888888888,
              "#fdca26"
             ],
             [
              1,
              "#f0f921"
             ]
            ],
            "type": "heatmapgl"
           }
          ],
          "histogram": [
           {
            "marker": {
             "pattern": {
              "fillmode": "overlay",
              "size": 10,
              "solidity": 0.2
             }
            },
            "type": "histogram"
           }
          ],
          "histogram2d": [
           {
            "colorbar": {
             "outlinewidth": 0,
             "ticks": ""
            },
            "colorscale": [
             [
              0,
              "#0d0887"
             ],
             [
              0.1111111111111111,
              "#46039f"
             ],
             [
              0.2222222222222222,
              "#7201a8"
             ],
             [
              0.3333333333333333,
              "#9c179e"
             ],
             [
              0.4444444444444444,
              "#bd3786"
             ],
             [
              0.5555555555555556,
              "#d8576b"
             ],
             [
              0.6666666666666666,
              "#ed7953"
             ],
             [
              0.7777777777777778,
              "#fb9f3a"
             ],
             [
              0.8888888888888888,
              "#fdca26"
             ],
             [
              1,
              "#f0f921"
             ]
            ],
            "type": "histogram2d"
           }
          ],
          "histogram2dcontour": [
           {
            "colorbar": {
             "outlinewidth": 0,
             "ticks": ""
            },
            "colorscale": [
             [
              0,
              "#0d0887"
             ],
             [
              0.1111111111111111,
              "#46039f"
             ],
             [
              0.2222222222222222,
              "#7201a8"
             ],
             [
              0.3333333333333333,
              "#9c179e"
             ],
             [
              0.4444444444444444,
              "#bd3786"
             ],
             [
              0.5555555555555556,
              "#d8576b"
             ],
             [
              0.6666666666666666,
              "#ed7953"
             ],
             [
              0.7777777777777778,
              "#fb9f3a"
             ],
             [
              0.8888888888888888,
              "#fdca26"
             ],
             [
              1,
              "#f0f921"
             ]
            ],
            "type": "histogram2dcontour"
           }
          ],
          "mesh3d": [
           {
            "colorbar": {
             "outlinewidth": 0,
             "ticks": ""
            },
            "type": "mesh3d"
           }
          ],
          "parcoords": [
           {
            "line": {
             "colorbar": {
              "outlinewidth": 0,
              "ticks": ""
             }
            },
            "type": "parcoords"
           }
          ],
          "pie": [
           {
            "automargin": true,
            "type": "pie"
           }
          ],
          "scatter": [
           {
            "fillpattern": {
             "fillmode": "overlay",
             "size": 10,
             "solidity": 0.2
            },
            "type": "scatter"
           }
          ],
          "scatter3d": [
           {
            "line": {
             "colorbar": {
              "outlinewidth": 0,
              "ticks": ""
             }
            },
            "marker": {
             "colorbar": {
              "outlinewidth": 0,
              "ticks": ""
             }
            },
            "type": "scatter3d"
           }
          ],
          "scattercarpet": [
           {
            "marker": {
             "colorbar": {
              "outlinewidth": 0,
              "ticks": ""
             }
            },
            "type": "scattercarpet"
           }
          ],
          "scattergeo": [
           {
            "marker": {
             "colorbar": {
              "outlinewidth": 0,
              "ticks": ""
             }
            },
            "type": "scattergeo"
           }
          ],
          "scattergl": [
           {
            "marker": {
             "colorbar": {
              "outlinewidth": 0,
              "ticks": ""
             }
            },
            "type": "scattergl"
           }
          ],
          "scattermapbox": [
           {
            "marker": {
             "colorbar": {
              "outlinewidth": 0,
              "ticks": ""
             }
            },
            "type": "scattermapbox"
           }
          ],
          "scatterpolar": [
           {
            "marker": {
             "colorbar": {
              "outlinewidth": 0,
              "ticks": ""
             }
            },
            "type": "scatterpolar"
           }
          ],
          "scatterpolargl": [
           {
            "marker": {
             "colorbar": {
              "outlinewidth": 0,
              "ticks": ""
             }
            },
            "type": "scatterpolargl"
           }
          ],
          "scatterternary": [
           {
            "marker": {
             "colorbar": {
              "outlinewidth": 0,
              "ticks": ""
             }
            },
            "type": "scatterternary"
           }
          ],
          "surface": [
           {
            "colorbar": {
             "outlinewidth": 0,
             "ticks": ""
            },
            "colorscale": [
             [
              0,
              "#0d0887"
             ],
             [
              0.1111111111111111,
              "#46039f"
             ],
             [
              0.2222222222222222,
              "#7201a8"
             ],
             [
              0.3333333333333333,
              "#9c179e"
             ],
             [
              0.4444444444444444,
              "#bd3786"
             ],
             [
              0.5555555555555556,
              "#d8576b"
             ],
             [
              0.6666666666666666,
              "#ed7953"
             ],
             [
              0.7777777777777778,
              "#fb9f3a"
             ],
             [
              0.8888888888888888,
              "#fdca26"
             ],
             [
              1,
              "#f0f921"
             ]
            ],
            "type": "surface"
           }
          ],
          "table": [
           {
            "cells": {
             "fill": {
              "color": "#EBF0F8"
             },
             "line": {
              "color": "white"
             }
            },
            "header": {
             "fill": {
              "color": "#C8D4E3"
             },
             "line": {
              "color": "white"
             }
            },
            "type": "table"
           }
          ]
         },
         "layout": {
          "annotationdefaults": {
           "arrowcolor": "#2a3f5f",
           "arrowhead": 0,
           "arrowwidth": 1
          },
          "autotypenumbers": "strict",
          "coloraxis": {
           "colorbar": {
            "outlinewidth": 0,
            "ticks": ""
           }
          },
          "colorscale": {
           "diverging": [
            [
             0,
             "#8e0152"
            ],
            [
             0.1,
             "#c51b7d"
            ],
            [
             0.2,
             "#de77ae"
            ],
            [
             0.3,
             "#f1b6da"
            ],
            [
             0.4,
             "#fde0ef"
            ],
            [
             0.5,
             "#f7f7f7"
            ],
            [
             0.6,
             "#e6f5d0"
            ],
            [
             0.7,
             "#b8e186"
            ],
            [
             0.8,
             "#7fbc41"
            ],
            [
             0.9,
             "#4d9221"
            ],
            [
             1,
             "#276419"
            ]
           ],
           "sequential": [
            [
             0,
             "#0d0887"
            ],
            [
             0.1111111111111111,
             "#46039f"
            ],
            [
             0.2222222222222222,
             "#7201a8"
            ],
            [
             0.3333333333333333,
             "#9c179e"
            ],
            [
             0.4444444444444444,
             "#bd3786"
            ],
            [
             0.5555555555555556,
             "#d8576b"
            ],
            [
             0.6666666666666666,
             "#ed7953"
            ],
            [
             0.7777777777777778,
             "#fb9f3a"
            ],
            [
             0.8888888888888888,
             "#fdca26"
            ],
            [
             1,
             "#f0f921"
            ]
           ],
           "sequentialminus": [
            [
             0,
             "#0d0887"
            ],
            [
             0.1111111111111111,
             "#46039f"
            ],
            [
             0.2222222222222222,
             "#7201a8"
            ],
            [
             0.3333333333333333,
             "#9c179e"
            ],
            [
             0.4444444444444444,
             "#bd3786"
            ],
            [
             0.5555555555555556,
             "#d8576b"
            ],
            [
             0.6666666666666666,
             "#ed7953"
            ],
            [
             0.7777777777777778,
             "#fb9f3a"
            ],
            [
             0.8888888888888888,
             "#fdca26"
            ],
            [
             1,
             "#f0f921"
            ]
           ]
          },
          "colorway": [
           "#636efa",
           "#EF553B",
           "#00cc96",
           "#ab63fa",
           "#FFA15A",
           "#19d3f3",
           "#FF6692",
           "#B6E880",
           "#FF97FF",
           "#FECB52"
          ],
          "font": {
           "color": "#2a3f5f"
          },
          "geo": {
           "bgcolor": "white",
           "lakecolor": "white",
           "landcolor": "#E5ECF6",
           "showlakes": true,
           "showland": true,
           "subunitcolor": "white"
          },
          "hoverlabel": {
           "align": "left"
          },
          "hovermode": "closest",
          "mapbox": {
           "style": "light"
          },
          "paper_bgcolor": "white",
          "plot_bgcolor": "#E5ECF6",
          "polar": {
           "angularaxis": {
            "gridcolor": "white",
            "linecolor": "white",
            "ticks": ""
           },
           "bgcolor": "#E5ECF6",
           "radialaxis": {
            "gridcolor": "white",
            "linecolor": "white",
            "ticks": ""
           }
          },
          "scene": {
           "xaxis": {
            "backgroundcolor": "#E5ECF6",
            "gridcolor": "white",
            "gridwidth": 2,
            "linecolor": "white",
            "showbackground": true,
            "ticks": "",
            "zerolinecolor": "white"
           },
           "yaxis": {
            "backgroundcolor": "#E5ECF6",
            "gridcolor": "white",
            "gridwidth": 2,
            "linecolor": "white",
            "showbackground": true,
            "ticks": "",
            "zerolinecolor": "white"
           },
           "zaxis": {
            "backgroundcolor": "#E5ECF6",
            "gridcolor": "white",
            "gridwidth": 2,
            "linecolor": "white",
            "showbackground": true,
            "ticks": "",
            "zerolinecolor": "white"
           }
          },
          "shapedefaults": {
           "line": {
            "color": "#2a3f5f"
           }
          },
          "ternary": {
           "aaxis": {
            "gridcolor": "white",
            "linecolor": "white",
            "ticks": ""
           },
           "baxis": {
            "gridcolor": "white",
            "linecolor": "white",
            "ticks": ""
           },
           "bgcolor": "#E5ECF6",
           "caxis": {
            "gridcolor": "white",
            "linecolor": "white",
            "ticks": ""
           }
          },
          "title": {
           "x": 0.05
          },
          "xaxis": {
           "automargin": true,
           "gridcolor": "white",
           "linecolor": "white",
           "ticks": "",
           "title": {
            "standoff": 15
           },
           "zerolinecolor": "white",
           "zerolinewidth": 2
          },
          "yaxis": {
           "automargin": true,
           "gridcolor": "white",
           "linecolor": "white",
           "ticks": "",
           "title": {
            "standoff": 15
           },
           "zerolinecolor": "white",
           "zerolinewidth": 2
          }
         }
        },
        "title": {
         "text": "correlation b/w 'BMI' and 'Health_insurance_price' in different region "
        },
        "xaxis": {
         "anchor": "y",
         "domain": [
          0,
          0.22999999999999998
         ],
         "title": {
          "text": "BMI"
         }
        },
        "xaxis2": {
         "anchor": "y2",
         "domain": [
          0.24999999999999997,
          0.48
         ],
         "matches": "x",
         "title": {
          "text": "BMI"
         }
        },
        "xaxis3": {
         "anchor": "y3",
         "domain": [
          0.49999999999999994,
          0.73
         ],
         "matches": "x",
         "title": {
          "text": "BMI"
         }
        },
        "xaxis4": {
         "anchor": "y4",
         "domain": [
          0.75,
          0.98
         ],
         "matches": "x",
         "title": {
          "text": "BMI"
         }
        },
        "xaxis5": {
         "anchor": "y5",
         "domain": [
          0,
          0.22999999999999998
         ],
         "matches": "x",
         "showticklabels": false
        },
        "xaxis6": {
         "anchor": "y6",
         "domain": [
          0.24999999999999997,
          0.48
         ],
         "matches": "x",
         "showticklabels": false
        },
        "xaxis7": {
         "anchor": "y7",
         "domain": [
          0.49999999999999994,
          0.73
         ],
         "matches": "x",
         "showticklabels": false
        },
        "xaxis8": {
         "anchor": "y8",
         "domain": [
          0.75,
          0.98
         ],
         "matches": "x",
         "showticklabels": false
        },
        "yaxis": {
         "anchor": "x",
         "domain": [
          0,
          0.485
         ],
         "title": {
          "text": "health_insurance_price"
         }
        },
        "yaxis2": {
         "anchor": "x2",
         "domain": [
          0,
          0.485
         ],
         "matches": "y",
         "showticklabels": false
        },
        "yaxis3": {
         "anchor": "x3",
         "domain": [
          0,
          0.485
         ],
         "matches": "y",
         "showticklabels": false
        },
        "yaxis4": {
         "anchor": "x4",
         "domain": [
          0,
          0.485
         ],
         "matches": "y",
         "showticklabels": false
        },
        "yaxis5": {
         "anchor": "x5",
         "domain": [
          0.515,
          1
         ],
         "matches": "y",
         "title": {
          "text": "health_insurance_price"
         }
        },
        "yaxis6": {
         "anchor": "x6",
         "domain": [
          0.515,
          1
         ],
         "matches": "y",
         "showticklabels": false
        },
        "yaxis7": {
         "anchor": "x7",
         "domain": [
          0.515,
          1
         ],
         "matches": "y",
         "showticklabels": false
        },
        "yaxis8": {
         "anchor": "x8",
         "domain": [
          0.515,
          1
         ],
         "matches": "y",
         "showticklabels": false
        }
       }
      }
     },
     "metadata": {},
     "output_type": "display_data"
    }
   ],
   "source": [
    "fig =  px.scatter(data,x='BMI',y='health_insurance_price',color= 'smoking_status',facet_col='location',facet_row= 'gender') # draw scatter plot using ploty library.\n",
    "fig.update_layout(title = \"correlation b/w 'BMI' and 'Health_insurance_price' in different region \")\n",
    "fig.show()"
   ]
  },
  {
   "attachments": {},
   "cell_type": "markdown",
   "id": "c9b41091",
   "metadata": {},
   "source": [
    "- In the scatter plot, which is divided into regions and genders, a distinct pattern emerges. It becomes evident that both male and female smokers tend to have higher insurance prices compared to non-smokers."
   ]
  },
  {
   "cell_type": "code",
   "execution_count": 15,
   "id": "9e126b00",
   "metadata": {},
   "outputs": [
    {
     "data": {
      "image/png": "[encoded data removed]",
      "text/plain": [
       "<Figure size 1500x800 with 4 Axes>"
      ]
     },
     "metadata": {},
     "output_type": "display_data"
    }
   ],
   "source": [
    "\n",
    "data.hist(bins = 50,figsize= (15,8))\n",
    "\n",
    "plt.show()"
   ]
  },
  {
   "cell_type": "code",
   "execution_count": 16,
   "id": "79e937ed",
   "metadata": {},
   "outputs": [
    {
     "data": {
      "application/vnd.plotly.v1+json": {
       "config": {
        "plotlyServerURL": "https://plot.ly"
       },
       "data": [
        {
         "alignmentgroup": "True",
         "hovertemplate": "BMI=%{y}<extra></extra>",
         "legendgroup": "",
         "marker": {
          "color": "#636efa"
         },
         "name": "",
         "notched": false,
         "offsetgroup": "",
         "orientation": "v",
         "showlegend": false,
         "type": "box",
         "x0": " ",
         "xaxis": "x",
         "y": [
          30.305,
          33.77,
          33,
          22.705,
          28.88,
          25.74,
          33.44,
          27.74,
          29.83,
          25.84,
          26.22,
          26.29,
          34.4,
          39.82,
          42.13,
          24.6,
          30.78,
          23.845,
          40.3,
          35.3,
          36.005,
          32.4,
          34.1,
          31.92,
          28.025,
          27.72,
          23.085,
          32.775,
          17.385,
          36.3,
          35.6,
          26.315,
          28.6,
          28.31,
          36.4,
          20.425,
          32.965,
          20.8,
          36.67,
          39.9,
          26.6,
          36.63,
          21.78,
          30.8,
          37.05,
          37.3,
          38.665,
          34.77,
          24.53,
          35.2,
          35.625,
          33.63,
          28,
          34.43,
          28.69,
          36.955,
          31.825,
          31.68,
          22.88,
          30.305,
          27.36,
          33.66,
          24.7,
          25.935,
          22.42,
          28.9,
          39.1,
          26.315,
          36.19,
          23.98,
          24.75,
          28.5,
          28.1,
          32.01,
          27.4,
          34.01,
          29.59,
          35.53,
          39.805,
          32.965,
          26.885,
          38.285,
          37.62,
          41.23,
          34.8,
          22.895,
          31.16,
          27.2,
          27.74,
          26.98,
          39.49,
          24.795,
          29.83,
          34.77,
          31.3,
          37.62,
          30.8,
          38.28,
          19.95,
          19.3,
          31.6,
          25.46,
          30.115,
          29.92,
          27.5,
          28.025,
          28.4,
          30.305,
          27.94,
          35.09,
          33.63,
          29.7,
          30.8,
          35.72,
          32.205,
          28.595,
          49.06,
          27.94,
          27.17,
          23.37,
          37.1,
          23.75,
          28.975,
          31.35,
          33.915,
          28.785,
          28.3,
          37.4,
          17.765,
          34.7,
          30.305,
          22.04,
          35.9,
          25.555,
          28.785,
          28.05,
          34.1,
          25.175,
          31.9,
          36,
          22.42,
          32.49,
          25.3,
          29.735,
          28.69,
          38.83,
          30.495,
          37.73,
          37.43,
          28.4,
          24.13,
          29.7,
          37.145,
          23.37,
          25.46,
          39.52,
          24.42,
          25.175,
          35.53,
          30.305,
          26.6,
          36.85,
          39.6,
          29.8,
          29.64,
          28.215,
          37,
          33.155,
          31.825,
          18.905,
          41.47,
          30.3,
          15.96,
          34.8,
          33.345,
          37.7,
          27.835,
          29.2,
          28.9,
          33.155,
          28.595,
          38.28,
          19.95,
          26.41,
          30.69,
          41.895,
          29.92,
          30.9,
          32.2,
          32.11,
          31.57,
          26.2,
          25.74,
          26.6,
          34.43,
          30.59,
          32.8,
          28.6,
          18.05,
          39.33,
          32.11,
          32.23,
          24.035,
          36.08,
          22.3,
          28.88,
          26.4,
          27.74,
          31.8,
          41.23,
          33,
          30.875,
          28.5,
          26.73,
          30.9,
          37.1,
          26.6,
          23.1,
          29.92,
          23.21,
          33.7,
          33.25,
          30.8,
          34.8,
          24.64,
          33.88,
          38.06,
          41.91,
          31.635,
          25.46,
          36.195,
          27.83,
          17.8,
          27.5,
          24.51,
          22.22,
          26.73,
          38.39,
          29.07,
          38.06,
          36.67,
          22.135,
          26.8,
          35.3,
          27.74,
          30.02,
          38.06,
          35.86,
          20.9,
          28.975,
          30.305,
          32.2,
          34.21,
          30.3,
          31.825,
          25.365,
          33.63,
          40.15,
          24.415,
          31.92,
          25.2,
          26.84,
          24.32,
          36.955,
          38.06,
          42.35,
          19.8,
          32.395,
          30.2,
          25.84,
          29.37,
          34.2,
          37.05,
          27.455,
          27.55,
          26.6,
          20.615,
          24.3,
          31.79,
          21.56,
          28.12,
          40.565,
          27.645,
          32.395,
          31.2,
          26.62,
          48.07,
          26.22,
          36.765,
          26.4,
          33.4,
          29.64,
          45.54,
          28.82,
          26.8,
          22.99,
          27.7,
          25.41,
          34.39,
          28.88,
          27.55,
          22.61,
          37.51,
          33,
          38,
          33.345,
          27.5,
          33.33,
          34.865,
          33.06,
          26.6,
          24.7,
          30.305,
          35.86,
          31.4,
          33.25,
          32.205,
          32.775,
          27.645,
          37.335,
          25.27,
          29.64,
          30.8,
          40.945,
          27.2,
          34.105,
          23.21,
          36.48,
          33.8,
          36.7,
          36.385,
          27.36,
          31.16,
          28.785,
          35.72,
          34.5,
          25.74,
          27.55,
          32.3,
          27.72,
          27.6,
          30.02,
          27.55,
          36.765,
          41.47,
          29.26,
          35.75,
          33.345,
          29.92,
          27.835,
          23.18,
          25.6,
          27.7,
          35.245,
          38.28,
          27.6,
          43.89,
          29.83,
          41.91,
          20.79,
          32.3,
          30.5,
          21.7,
          26.4,
          21.89,
          30.78,
          32.3,
          24.985,
          32.015,
          30.4,
          21.09,
          22.23,
          33.155,
          32.9,
          33.33,
          28.31,
          24.89,
          40.15,
          30.115,
          31.46,
          17.955,
          30.685,
          33,
          43.34,
          22.135,
          34.4,
          39.05,
          25.365,
          22.61,
          30.21,
          35.625,
          37.43,
          31.445,
          31.35,
          32.3,
          19.855,
          34.4,
          31.02,
          25.6,
          38.17,
          20.6,
          47.52,
          32.965,
          32.3,
          20.4,
          30.305,
          24.31,
          23.6,
          21.12,
          30.03,
          17.48,
          20.235,
          17.195,
          23.9,
          35.15,
          35.64,
          34.1,
          22.6,
          39.16,
          26.98,
          33.88,
          35.86,
          32.775,
          30.59,
          30.2,
          24.31,
          27.265,
          29.165,
          16.815,
          30.4,
          33.1,
          20.235,
          26.9,
          30.5,
          28.595,
          33.11,
          31.73,
          28.9,
          46.75,
          29.45,
          32.68,
          33.5,
          43.01,
          36.52,
          26.695,
          33.1,
          29.64,
          25.65,
          29.6,
          38.6,
          29.6,
          24.13,
          23.4,
          29.735,
          46.53,
          37.4,
          30.14,
          30.495,
          39.6,
          33,
          30.305,
          30,
          38.095,
          25.935,
          25.175,
          28.38,
          28.7,
          33.82,
          24.32,
          24.09,
          32.67,
          30.115,
          29.8,
          33.345,
          25.1,
          28.31,
          28.5,
          35.625,
          36.85,
          32.56,
          41.325,
          37.51,
          31.35,
          39.5,
          34.3,
          31.065,
          21.47,
          28.7,
          38.06,
          31.16,
          32.9,
          25.08,
          25.08,
          43.4,
          25.7,
          27.93,
          23.6,
          28.7,
          23.98,
          39.2,
          34.4,
          26.03,
          23.21,
          30.25,
          28.93,
          30.875,
          31.35,
          23.75,
          25.27,
          28.7,
          32.11,
          33.66,
          22.42,
          30.4,
          28.3,
          35.7,
          30.305,
          30.495,
          31,
          30.875,
          27.36,
          44.22,
          33.915,
          37.73,
          26.07,
          33.88,
          30.59,
          25.8,
          39.425,
          25.46,
          42.13,
          31.73,
          29.7,
          36.19,
          40.48,
          28.025,
          38.9,
          30.2,
          28.05,
          31.35,
          38,
          31.79,
          36.3,
          47.41,
          30.21,
          25.84,
          35.435,
          46.7,
          28.595,
          46.2,
          30.8,
          28.93,
          21.4,
          31.73,
          41.325,
          23.8,
          33.44,
          34.21,
          30.305,
          35.53,
          19.95,
          32.68,
          30.5,
          44.77,
          32.12,
          30.495,
          40.565,
          30.59,
          31.9,
          40.565,
          29.1,
          37.29,
          43.12,
          36.86,
          34.295,
          27.17,
          26.84,
          38.095,
          30.2,
          23.465,
          25.46,
          30.59,
          45.43,
          23.65,
          20.7,
          28.27,
          20.235,
          30.21,
          35.91,
          30.69,
          29,
          19.57,
          31.13,
          21.85,
          40.26,
          33.725,
          29.48,
          33.25,
          32.6,
          37.525,
          39.16,
          31.635,
          25.3,
          39.05,
          28.31,
          34.1,
          25.175,
          23.655,
          26.98,
          37.8,
          29.37,
          34.8,
          33.155,
          19,
          33,
          36.63,
          28.595,
          25.6,
          33.11,
          37.1,
          31.4,
          34.1,
          21.3,
          33.535,
          28.785,
          26.03,
          28.88,
          42.46,
          38,
          38.95,
          36.1,
          29.3,
          35.53,
          22.705,
          39.7,
          38.19,
          24.51,
          38.095,
          26.41,
          33.66,
          42.4,
          28.31,
          30.305,
          34.96,
          35.31,
          30.78,
          26.22,
          23.37,
          28.5,
          32.965,
          42.68,
          39.6,
          31.13,
          36.3,
          35.2,
          25.3,
          42.4,
          33.155,
          35.91,
          28.785,
          46.53,
          23.98,
          31.54,
          33.66,
          22.99,
          38.06,
          28.7,
          32.775,
          32.015,
          29.81,
          31.57,
          31.16,
          29.7,
          31.02,
          43.89,
          21.375,
          40.81,
          31.35,
          36.1,
          23.18,
          17.4,
          20.3,
          35.3,
          24.32,
          18.5,
          26.41,
          26.125,
          41.69,
          24.1,
          31.13,
          27.36,
          36.2,
          32.395,
          23.655,
          34.8,
          40.185,
          32.3,
          35.75,
          33.725,
          39.27,
          34.87,
          44.745,
          41.47,
          26.41,
          29.545,
          32.9,
          38.06,
          28.69,
          30.495,
          30.305,
          35.2,
          23.54,
          30.685,
          40.47,
          22.6,
          28.9,
          22.61,
          24.32,
          36.67,
          33.44,
          40.66,
          36.6,
          37.4,
          35.4,
          27.075,
          39.05,
          28.405,
          21.755,
          40.28,
          36.08,
          24.42,
          21.4,
          30.1,
          27.265,
          32.1,
          34.77,
          38.39,
          23.7,
          31.73,
          30.305,
          24.035,
          29.15,
          34.105,
          26.62,
          26.41,
          30.115,
          27,
          21.755,
          36,
          30.875,
          26.4,
          28.975,
          37.905,
          22.77,
          33.63,
          27.645,
          22.8,
          27.83,
          37.43,
          38.17,
          34.58,
          35.2,
          27.1,
          26.03,
          25.175,
          31.825,
          32.3,
          30.305,
          39.7,
          19.475,
          36.1,
          26.7,
          36.48,
          28.88,
          34.2,
          33.33,
          32.3,
          39.805,
          34.32,
          28.88,
          24.4,
          41.14,
          35.97,
          27.6,
          29.26,
          27.7,
          36.955,
          36.86,
          22.515,
          29.92,
          41.8,
          27.6,
          23.18,
          20.9,
          31.92,
          28.5,
          44.22,
          22.895,
          33.1,
          24.795,
          26.18,
          35.97,
          22.3,
          42.24,
          26.51,
          35.815,
          41.42,
          36.575,
          30.14,
          25.84,
          30.8,
          42.94,
          21.01,
          22.515,
          34.43,
          31.46,
          24.225,
          37.1,
          26.125,
          35.53,
          33.7,
          17.67,
          31.13,
          29.81,
          24.32,
          31.825,
          31.79,
          28.025,
          30.78,
          21.85,
          33.1,
          25.84,
          23.845,
          34.39,
          33.82,
          35.97,
          30.305,
          28.31,
          23.465,
          31.35,
          31.1,
          24.7,
          32.78,
          29.81,
          30.495,
          32.45,
          34.2,
          50.38,
          24.1,
          32.775,
          30.78,
          32.3,
          35.53,
          23.75,
          23.845,
          29.6,
          33.11,
          24.13,
          32.23,
          28.1,
          47.6,
          28,
          33.535,
          19.855,
          25.4,
          29.9,
          37.29,
          43.7,
          23.655,
          24.3,
          36.2,
          29.48,
          24.86,
          30.1,
          21.85,
          28.12,
          27.1,
          33.44,
          28.8,
          29.5,
          34.8,
          27.36,
          22.135,
          37.05,
          26.695,
          28.93,
          28.975,
          30.02,
          39.5,
          33.63,
          26.885,
          29.04,
          24.035,
          38.94,
          32.11,
          44,
          20.045,
          25.555,
          40.26,
          22.515,
          22.515,
          40.92,
          27.265,
          36.85,
          35.1,
          29.355,
          32.585,
          32.34,
          39.8,
          24.6,
          28.31,
          31.73,
          26.695,
          27.5,
          24.605,
          33.99,
          26.885,
          22.895,
          28.2,
          34.21,
          25,
          33.2,
          31,
          35.815,
          23.2,
          32.11,
          23.4,
          20.1,
          39.16,
          34.21,
          46.53,
          32.5,
          25.8,
          30.305,
          37.18,
          27.5,
          29.735,
          24.225,
          26.18,
          29.48,
          23.21,
          46.09,
          40.185,
          22.61,
          39.93,
          35.8,
          35.8,
          34.2,
          31.255,
          29.7,
          18.335,
          42.9,
          28.405,
          30.2,
          27.835,
          39.49,
          30.8,
          26.79,
          34.96,
          36.67,
          39.615,
          25.9,
          35.2,
          24.795,
          36.765,
          27.1,
          24.795,
          25.365,
          25.745,
          34.32,
          28.16,
          23.56,
          20.235,
          40.5,
          35.42,
          22.895,
          40.15,
          29.15,
          39.995,
          29.92,
          25.46,
          21.375,
          25.9,
          30.59,
          30.115,
          25.8,
          30.115,
          27.645,
          34.675,
          20.52,
          19.8,
          27.835,
          31.6,
          28.27,
          20.045,
          23.275,
          34.1,
          36.85,
          36.29,
          26.885,
          22.99,
          32.7,
          25.8,
          29.6,
          19.19,
          31.73,
          29.26,
          28.215,
          24.985,
          27.74,
          22.8,
          20.13,
          33.33,
          32.3,
          27.6,
          25.46,
          24.605,
          34.2,
          35.815,
          32.68,
          30.305,
          31.02,
          36.08,
          23.32,
          45.32,
          34.6,
          26.03,
          18.715,
          31.6,
          17.29,
          23.655,
          35.2,
          27.93,
          21.565,
          38.38,
          23,
          37.07,
          30.495,
          28.88,
          27.265,
          28.025,
          23.085,
          30.685,
          25.8,
          35.245,
          24.7,
          25.08,
          52.58,
          22.515,
          30.9,
          36.955,
          26.41,
          29.83,
          29.8,
          21.47,
          27.645,
          28.9,
          31.79,
          39.49,
          33.82,
          32.01,
          27.94,
          41.14,
          30.305,
          25.6,
          25.3,
          37.29,
          42.655,
          21.66,
          31.9,
          37.07,
          31.445,
          31.255,
          28.88,
          18.335,
          29.59,
          32,
          26.03,
          31.68,
          33.66,
          21.78,
          27.835,
          19.95,
          31.5,
          30.495,
          18.3,
          28.975,
          31.54,
          47.74,
          22.1,
          36.19,
          29.83,
          32.7,
          30.4,
          33.7,
          31.35,
          34.96,
          33.77,
          30.875,
          33.99,
          19.095,
          28.6,
          38.94,
          36.08,
          29.8,
          31.24,
          29.925,
          30.305,
          30,
          20.35,
          32.3,
          38.39,
          25.85,
          26.315,
          24.51,
          32.67,
          29.64,
          33.33,
          35.75,
          19.95,
          31.4,
          38.17,
          36.86,
          32.395,
          42.75,
          25.08,
          29.9,
          35.86,
          32.8,
          18.6,
          23.87,
          45.9,
          40.28,
          18.335,
          33.82,
          28.12,
          25,
          22.23,
          30.25,
          32.49,
          37.07,
          32.6,
          24.86,
          32.34,
          32.3,
          32.775,
          32.8,
          31.92,
          21.5,
          34.1,
          30.305,
          36.48,
          32.56,
          35.815,
          27.93,
          22.135,
          44.88,
          23.18,
          30.59,
          41.1,
          34.58,
          42.13,
          38.83,
          28.215,
          28.31,
          26.125,
          40.37,
          24.6,
          30.305,
          34.105,
          27.36,
          26.7,
          41.91,
          29.26,
          32.11,
          27.1,
          24.13,
          27.4,
          34.865,
          29.81,
          41.325,
          29.925,
          30.3,
          27.36,
          28.49,
          23.56,
          35.625,
          32.68,
          25.27,
          28,
          32.775,
          21.755,
          32.395,
          36.575,
          21.755,
          27.93,
          30.02,
          33.55,
          29.355,
          25.8,
          24.32,
          40.375,
          32.11,
          32.3,
          27.28,
          17.86,
          34.8,
          33.4,
          25.555,
          37.1,
          30.875,
          34.1,
          21.47,
          33.3,
          31.255,
          39.14,
          25.08,
          37.29,
          34.6,
          30.21,
          21.945,
          24.97,
          25.3,
          24.42,
          23.94,
          39.82,
          16.815,
          37.18,
          34.43,
          30.305,
          34.485,
          21.8,
          24.605,
          23.3,
          27.83,
          31.065,
          21.66,
          28.215,
          22.705,
          42.13,
          41.8,
          36.96,
          21.28,
          33.11,
          33.33,
          24.3,
          25.7,
          29.4,
          39.82,
          33.63,
          29.83,
          19.8,
          27.3,
          29.3,
          27.72,
          37.9,
          36.385,
          27.645,
          37.715,
          23.18,
          20.52,
          37.1,
          28.05,
          30.305,
          33.345,
          23.76,
          30.5,
          31.065,
          33.3,
          27.5,
          33.915,
          34.485,
          25.52,
          27.61,
          27.06,
          23.7,
          30.4,
          29.735,
          29.925,
          26.79,
          33.33,
          27.645,
          21.66,
          30.03,
          36.3,
          24.32,
          17.29,
          25.9,
          39.4,
          34.32,
          19.95,
          34.9,
          23.21,
          25.745,
          25.175,
          22,
          26.125,
          26.51,
          27.455,
          25.745,
          30.36,
          30.875,
          20.8,
          27.8,
          24.605,
          27.72,
          21.85,
          28.12,
          30.2,
          32.2,
          26.315,
          26.695,
          42.9,
          34.7,
          23.655,
          28.31,
          20.6,
          53.13,
          39.71,
          26.315,
          31.065,
          26.695,
          38.83,
          30.305,
          25.935,
          33.535,
          32.87,
          30.03,
          24.225,
          38.6,
          25.74,
          33.4,
          44.7,
          30.97,
          31.92,
          36.85,
          25.8,
          29.07
         ],
         "y0": " ",
         "yaxis": "y"
        }
       ],
       "layout": {
        "boxmode": "group",
        "legend": {
         "tracegroupgap": 0
        },
        "margin": {
         "t": 60
        },
        "template": {
         "data": {
          "bar": [
           {
            "error_x": {
             "color": "#2a3f5f"
            },
            "error_y": {
             "color": "#2a3f5f"
            },
            "marker": {
             "line": {
              "color": "#E5ECF6",
              "width": 0.5
             },
             "pattern": {
              "fillmode": "overlay",
              "size": 10,
              "solidity": 0.2
             }
            },
            "type": "bar"
           }
          ],
          "barpolar": [
           {
            "marker": {
             "line": {
              "color": "#E5ECF6",
              "width": 0.5
             },
             "pattern": {
              "fillmode": "overlay",
              "size": 10,
              "solidity": 0.2
             }
            },
            "type": "barpolar"
           }
          ],
          "carpet": [
           {
            "aaxis": {
             "endlinecolor": "#2a3f5f",
             "gridcolor": "white",
             "linecolor": "white",
             "minorgridcolor": "white",
             "startlinecolor": "#2a3f5f"
            },
            "baxis": {
             "endlinecolor": "#2a3f5f",
             "gridcolor": "white",
             "linecolor": "white",
             "minorgridcolor": "white",
             "startlinecolor": "#2a3f5f"
            },
            "type": "carpet"
           }
          ],
          "choropleth": [
           {
            "colorbar": {
             "outlinewidth": 0,
             "ticks": ""
            },
            "type": "choropleth"
           }
          ],
          "contour": [
           {
            "colorbar": {
             "outlinewidth": 0,
             "ticks": ""
            },
            "colorscale": [
             [
              0,
              "#0d0887"
             ],
             [
              0.1111111111111111,
              "#46039f"
             ],
             [
              0.2222222222222222,
              "#7201a8"
             ],
             [
              0.3333333333333333,
              "#9c179e"
             ],
             [
              0.4444444444444444,
              "#bd3786"
             ],
             [
              0.5555555555555556,
              "#d8576b"
             ],
             [
              0.6666666666666666,
              "#ed7953"
             ],
             [
              0.7777777777777778,
              "#fb9f3a"
             ],
             [
              0.8888888888888888,
              "#fdca26"
             ],
             [
              1,
              "#f0f921"
             ]
            ],
            "type": "contour"
           }
          ],
          "contourcarpet": [
           {
            "colorbar": {
             "outlinewidth": 0,
             "ticks": ""
            },
            "type": "contourcarpet"
           }
          ],
          "heatmap": [
           {
            "colorbar": {
             "outlinewidth": 0,
             "ticks": ""
            },
            "colorscale": [
             [
              0,
              "#0d0887"
             ],
             [
              0.1111111111111111,
              "#46039f"
             ],
             [
              0.2222222222222222,
              "#7201a8"
             ],
             [
              0.3333333333333333,
              "#9c179e"
             ],
             [
              0.4444444444444444,
              "#bd3786"
             ],
             [
              0.5555555555555556,
              "#d8576b"
             ],
             [
              0.6666666666666666,
              "#ed7953"
             ],
             [
              0.7777777777777778,
              "#fb9f3a"
             ],
             [
              0.8888888888888888,
              "#fdca26"
             ],
             [
              1,
              "#f0f921"
             ]
            ],
            "type": "heatmap"
           }
          ],
          "heatmapgl": [
           {
            "colorbar": {
             "outlinewidth": 0,
             "ticks": ""
            },
            "colorscale": [
             [
              0,
              "#0d0887"
             ],
             [
              0.1111111111111111,
              "#46039f"
             ],
             [
              0.2222222222222222,
              "#7201a8"
             ],
             [
              0.3333333333333333,
              "#9c179e"
             ],
             [
              0.4444444444444444,
              "#bd3786"
             ],
             [
              0.5555555555555556,
              "#d8576b"
             ],
             [
              0.6666666666666666,
              "#ed7953"
             ],
             [
              0.7777777777777778,
              "#fb9f3a"
             ],
             [
              0.8888888888888888,
              "#fdca26"
             ],
             [
              1,
              "#f0f921"
             ]
            ],
            "type": "heatmapgl"
           }
          ],
          "histogram": [
           {
            "marker": {
             "pattern": {
              "fillmode": "overlay",
              "size": 10,
              "solidity": 0.2
             }
            },
            "type": "histogram"
           }
          ],
          "histogram2d": [
           {
            "colorbar": {
             "outlinewidth": 0,
             "ticks": ""
            },
            "colorscale": [
             [
              0,
              "#0d0887"
             ],
             [
              0.1111111111111111,
              "#46039f"
             ],
             [
              0.2222222222222222,
              "#7201a8"
             ],
             [
              0.3333333333333333,
              "#9c179e"
             ],
             [
              0.4444444444444444,
              "#bd3786"
             ],
             [
              0.5555555555555556,
              "#d8576b"
             ],
             [
              0.6666666666666666,
              "#ed7953"
             ],
             [
              0.7777777777777778,
              "#fb9f3a"
             ],
             [
              0.8888888888888888,
              "#fdca26"
             ],
             [
              1,
              "#f0f921"
             ]
            ],
            "type": "histogram2d"
           }
          ],
          "histogram2dcontour": [
           {
            "colorbar": {
             "outlinewidth": 0,
             "ticks": ""
            },
            "colorscale": [
             [
              0,
              "#0d0887"
             ],
             [
              0.1111111111111111,
              "#46039f"
             ],
             [
              0.2222222222222222,
              "#7201a8"
             ],
             [
              0.3333333333333333,
              "#9c179e"
             ],
             [
              0.4444444444444444,
              "#bd3786"
             ],
             [
              0.5555555555555556,
              "#d8576b"
             ],
             [
              0.6666666666666666,
              "#ed7953"
             ],
             [
              0.7777777777777778,
              "#fb9f3a"
             ],
             [
              0.8888888888888888,
              "#fdca26"
             ],
             [
              1,
              "#f0f921"
             ]
            ],
            "type": "histogram2dcontour"
           }
          ],
          "mesh3d": [
           {
            "colorbar": {
             "outlinewidth": 0,
             "ticks": ""
            },
            "type": "mesh3d"
           }
          ],
          "parcoords": [
           {
            "line": {
             "colorbar": {
              "outlinewidth": 0,
              "ticks": ""
             }
            },
            "type": "parcoords"
           }
          ],
          "pie": [
           {
            "automargin": true,
            "type": "pie"
           }
          ],
          "scatter": [
           {
            "fillpattern": {
             "fillmode": "overlay",
             "size": 10,
             "solidity": 0.2
            },
            "type": "scatter"
           }
          ],
          "scatter3d": [
           {
            "line": {
             "colorbar": {
              "outlinewidth": 0,
              "ticks": ""
             }
            },
            "marker": {
             "colorbar": {
              "outlinewidth": 0,
              "ticks": ""
             }
            },
            "type": "scatter3d"
           }
          ],
          "scattercarpet": [
           {
            "marker": {
             "colorbar": {
              "outlinewidth": 0,
              "ticks": ""
             }
            },
            "type": "scattercarpet"
           }
          ],
          "scattergeo": [
           {
            "marker": {
             "colorbar": {
              "outlinewidth": 0,
              "ticks": ""
             }
            },
            "type": "scattergeo"
           }
          ],
          "scattergl": [
           {
            "marker": {
             "colorbar": {
              "outlinewidth": 0,
              "ticks": ""
             }
            },
            "type": "scattergl"
           }
          ],
          "scattermapbox": [
           {
            "marker": {
             "colorbar": {
              "outlinewidth": 0,
              "ticks": ""
             }
            },
            "type": "scattermapbox"
           }
          ],
          "scatterpolar": [
           {
            "marker": {
             "colorbar": {
              "outlinewidth": 0,
              "ticks": ""
             }
            },
            "type": "scatterpolar"
           }
          ],
          "scatterpolargl": [
           {
            "marker": {
             "colorbar": {
              "outlinewidth": 0,
              "ticks": ""
             }
            },
            "type": "scatterpolargl"
           }
          ],
          "scatterternary": [
           {
            "marker": {
             "colorbar": {
              "outlinewidth": 0,
              "ticks": ""
             }
            },
            "type": "scatterternary"
           }
          ],
          "surface": [
           {
            "colorbar": {
             "outlinewidth": 0,
             "ticks": ""
            },
            "colorscale": [
             [
              0,
              "#0d0887"
             ],
             [
              0.1111111111111111,
              "#46039f"
             ],
             [
              0.2222222222222222,
              "#7201a8"
             ],
             [
              0.3333333333333333,
              "#9c179e"
             ],
             [
              0.4444444444444444,
              "#bd3786"
             ],
             [
              0.5555555555555556,
              "#d8576b"
             ],
             [
              0.6666666666666666,
              "#ed7953"
             ],
             [
              0.7777777777777778,
              "#fb9f3a"
             ],
             [
              0.8888888888888888,
              "#fdca26"
             ],
             [
              1,
              "#f0f921"
             ]
            ],
            "type": "surface"
           }
          ],
          "table": [
           {
            "cells": {
             "fill": {
              "color": "#EBF0F8"
             },
             "line": {
              "color": "white"
             }
            },
            "header": {
             "fill": {
              "color": "#C8D4E3"
             },
             "line": {
              "color": "white"
             }
            },
            "type": "table"
           }
          ]
         },
         "layout": {
          "annotationdefaults": {
           "arrowcolor": "#2a3f5f",
           "arrowhead": 0,
           "arrowwidth": 1
          },
          "autotypenumbers": "strict",
          "coloraxis": {
           "colorbar": {
            "outlinewidth": 0,
            "ticks": ""
           }
          },
          "colorscale": {
           "diverging": [
            [
             0,
             "#8e0152"
            ],
            [
             0.1,
             "#c51b7d"
            ],
            [
             0.2,
             "#de77ae"
            ],
            [
             0.3,
             "#f1b6da"
            ],
            [
             0.4,
             "#fde0ef"
            ],
            [
             0.5,
             "#f7f7f7"
            ],
            [
             0.6,
             "#e6f5d0"
            ],
            [
             0.7,
             "#b8e186"
            ],
            [
             0.8,
             "#7fbc41"
            ],
            [
             0.9,
             "#4d9221"
            ],
            [
             1,
             "#276419"
            ]
           ],
           "sequential": [
            [
             0,
             "#0d0887"
            ],
            [
             0.1111111111111111,
             "#46039f"
            ],
            [
             0.2222222222222222,
             "#7201a8"
            ],
            [
             0.3333333333333333,
             "#9c179e"
            ],
            [
             0.4444444444444444,
             "#bd3786"
            ],
            [
             0.5555555555555556,
             "#d8576b"
            ],
            [
             0.6666666666666666,
             "#ed7953"
            ],
            [
             0.7777777777777778,
             "#fb9f3a"
            ],
            [
             0.8888888888888888,
             "#fdca26"
            ],
            [
             1,
             "#f0f921"
            ]
           ],
           "sequentialminus": [
            [
             0,
             "#0d0887"
            ],
            [
             0.1111111111111111,
             "#46039f"
            ],
            [
             0.2222222222222222,
             "#7201a8"
            ],
            [
             0.3333333333333333,
             "#9c179e"
            ],
            [
             0.4444444444444444,
             "#bd3786"
            ],
            [
             0.5555555555555556,
             "#d8576b"
            ],
            [
             0.6666666666666666,
             "#ed7953"
            ],
            [
             0.7777777777777778,
             "#fb9f3a"
            ],
            [
             0.8888888888888888,
             "#fdca26"
            ],
            [
             1,
             "#f0f921"
            ]
           ]
          },
          "colorway": [
           "#636efa",
           "#EF553B",
           "#00cc96",
           "#ab63fa",
           "#FFA15A",
           "#19d3f3",
           "#FF6692",
           "#B6E880",
           "#FF97FF",
           "#FECB52"
          ],
          "font": {
           "color": "#2a3f5f"
          },
          "geo": {
           "bgcolor": "white",
           "lakecolor": "white",
           "landcolor": "#E5ECF6",
           "showlakes": true,
           "showland": true,
           "subunitcolor": "white"
          },
          "hoverlabel": {
           "align": "left"
          },
          "hovermode": "closest",
          "mapbox": {
           "style": "light"
          },
          "paper_bgcolor": "white",
          "plot_bgcolor": "#E5ECF6",
          "polar": {
           "angularaxis": {
            "gridcolor": "white",
            "linecolor": "white",
            "ticks": ""
           },
           "bgcolor": "#E5ECF6",
           "radialaxis": {
            "gridcolor": "white",
            "linecolor": "white",
            "ticks": ""
           }
          },
          "scene": {
           "xaxis": {
            "backgroundcolor": "#E5ECF6",
            "gridcolor": "white",
            "gridwidth": 2,
            "linecolor": "white",
            "showbackground": true,
            "ticks": "",
            "zerolinecolor": "white"
           },
           "yaxis": {
            "backgroundcolor": "#E5ECF6",
            "gridcolor": "white",
            "gridwidth": 2,
            "linecolor": "white",
            "showbackground": true,
            "ticks": "",
            "zerolinecolor": "white"
           },
           "zaxis": {
            "backgroundcolor": "#E5ECF6",
            "gridcolor": "white",
            "gridwidth": 2,
            "linecolor": "white",
            "showbackground": true,
            "ticks": "",
            "zerolinecolor": "white"
           }
          },
          "shapedefaults": {
           "line": {
            "color": "#2a3f5f"
           }
          },
          "ternary": {
           "aaxis": {
            "gridcolor": "white",
            "linecolor": "white",
            "ticks": ""
           },
           "baxis": {
            "gridcolor": "white",
            "linecolor": "white",
            "ticks": ""
           },
           "bgcolor": "#E5ECF6",
           "caxis": {
            "gridcolor": "white",
            "linecolor": "white",
            "ticks": ""
           }
          },
          "title": {
           "x": 0.05
          },
          "xaxis": {
           "automargin": true,
           "gridcolor": "white",
           "linecolor": "white",
           "ticks": "",
           "title": {
            "standoff": 15
           },
           "zerolinecolor": "white",
           "zerolinewidth": 2
          },
          "yaxis": {
           "automargin": true,
           "gridcolor": "white",
           "linecolor": "white",
           "ticks": "",
           "title": {
            "standoff": 15
           },
           "zerolinecolor": "white",
           "zerolinewidth": 2
          }
         }
        },
        "title": {
         "text": "outlier detection "
        },
        "xaxis": {
         "anchor": "y",
         "domain": [
          0,
          1
         ]
        },
        "yaxis": {
         "anchor": "x",
         "domain": [
          0,
          1
         ],
         "title": {
          "text": "BMI"
         }
        }
       }
      }
     },
     "metadata": {},
     "output_type": "display_data"
    }
   ],
   "source": [
    "# draw boxplot  using ploty library.\n",
    "fig = px.box(data,y='BMI') # boxplot  help to detect outlier.\n",
    "fig.update_layout(title = 'outlier detection ')\n",
    "fig.show()"
   ]
  },
  {
   "cell_type": "code",
   "execution_count": 17,
   "id": "5e6f1dd3",
   "metadata": {},
   "outputs": [
    {
     "data": {
      "application/vnd.plotly.v1+json": {
       "config": {
        "plotlyServerURL": "https://plot.ly"
       },
       "data": [
        {
         "alignmentgroup": "True",
         "hovertemplate": "health_insurance_price=%{y}<extra></extra>",
         "legendgroup": "",
         "marker": {
          "color": "#636efa"
         },
         "name": "",
         "notched": false,
         "offsetgroup": "",
         "orientation": "v",
         "showlegend": false,
         "type": "box",
         "x0": " ",
         "xaxis": "x",
         "y": [
          16884.924,
          1725.5523,
          4449.462,
          21984.47061,
          3866.8552,
          3756.6216,
          8240.5896,
          7281.5056,
          6406.4107,
          28923.13692,
          2721.3208,
          27808.7251,
          1826.843,
          11090.7178,
          39611.7577,
          1837.237,
          10797.3362,
          2395.17155,
          10602.385,
          36837.467,
          13228.84695,
          4149.736,
          1137.011,
          37701.8768,
          6203.90175,
          14001.1338,
          14451.83515,
          12268.63225,
          2775.19215,
          38711,
          35585.576,
          2198.18985,
          4687.797,
          13770.0979,
          51194.55914,
          1625.43375,
          15612.19335,
          2302.3,
          39774.2763,
          48173.361,
          3046.062,
          4949.7587,
          6272.4772,
          6313.759,
          6079.6715,
          20630.28351,
          3393.35635,
          3556.9223,
          12629.8967,
          38709.176,
          2211.13075,
          3579.8287,
          23568.272,
          37742.5757,
          8059.6791,
          47496.49445,
          13607.36875,
          34303.1672,
          23244.7902,
          5989.52365,
          8606.2174,
          4504.6624,
          30166.61817,
          4133.64165,
          14711.7438,
          1743.214,
          14235.072,
          6389.37785,
          5920.1041,
          17663.1442,
          16577.7795,
          6799.458,
          11741.726,
          11946.6259,
          7726.854,
          11356.6609,
          3947.4131,
          1532.4697,
          2755.02095,
          6571.02435,
          4441.21315,
          7935.29115,
          37165.1638,
          11033.6617,
          39836.519,
          21098.55405,
          43578.9394,
          11073.176,
          8026.6666,
          11082.5772,
          2026.9741,
          10942.13205,
          30184.9367,
          5729.0053,
          47291.055,
          3766.8838,
          12105.32,
          10226.2842,
          22412.6485,
          15820.699,
          6186.127,
          3645.0894,
          21344.8467,
          30942.1918,
          5003.853,
          17560.37975,
          2331.519,
          3877.30425,
          2867.1196,
          47055.5321,
          10825.2537,
          11881.358,
          4646.759,
          2404.7338,
          11488.31695,
          30259.99556,
          11381.3254,
          19107.7796,
          8601.3293,
          6686.4313,
          7740.337,
          1705.6245,
          2257.47525,
          39556.4945,
          10115.00885,
          3385.39915,
          17081.08,
          9634.538,
          32734.1863,
          6082.405,
          12815.44495,
          13616.3586,
          11163.568,
          1632.56445,
          2457.21115,
          2155.6815,
          1261.442,
          2045.68525,
          27322.73386,
          2166.732,
          27375.90478,
          3490.5491,
          18972.495,
          18157.876,
          20745.9891,
          5138.2567,
          40720.55105,
          9877.6077,
          10959.6947,
          1842.519,
          5125.2157,
          7789.635,
          6334.34355,
          19964.7463,
          7077.1894,
          6948.7008,
          21223.6758,
          15518.18025,
          36950.2567,
          19749.38338,
          21348.706,
          36149.4835,
          10450.552,
          5152.134,
          5028.1466,
          10407.08585,
          4830.63,
          6128.79745,
          2719.27975,
          4827.90495,
          13405.3903,
          8116.68,
          1694.7964,
          5246.047,
          2855.43755,
          48824.45,
          6455.86265,
          10436.096,
          8823.279,
          8538.28845,
          11735.87905,
          1631.8212,
          4005.4225,
          7419.4779,
          7731.4271,
          43753.33705,
          3981.9768,
          5325.651,
          6775.961,
          4922.9159,
          12557.6053,
          4883.866,
          2137.6536,
          12044.342,
          1137.4697,
          1639.5631,
          5649.715,
          8516.829,
          9644.2525,
          14901.5167,
          2130.6759,
          8871.1517,
          13012.20865,
          37133.8982,
          7147.105,
          4337.7352,
          11743.299,
          20984.0936,
          13880.949,
          6610.1097,
          1980.07,
          8162.71625,
          3537.703,
          5002.7827,
          8520.026,
          7371.772,
          10355.641,
          2483.736,
          3392.9768,
          25081.76784,
          5012.471,
          10564.8845,
          5253.524,
          34779.615,
          19515.5416,
          11987.1682,
          2689.4954,
          24227.33724,
          7358.17565,
          9225.2564,
          7443.64305,
          14001.2867,
          1727.785,
          12333.828,
          6710.1919,
          19444.2658,
          1615.7667,
          4463.2051,
          17352.6803,
          7152.6714,
          38511.6283,
          5354.07465,
          35160.13457,
          7196.867,
          29523.1656,
          24476.47851,
          12648.7034,
          1986.9334,
          1832.094,
          4040.55825,
          12829.4551,
          47305.305,
          44260.7499,
          4260.744,
          41097.16175,
          13047.33235,
          43921.1837,
          5400.9805,
          11520.09985,
          33750.2918,
          11837.16,
          17085.2676,
          24869.8368,
          36219.40545,
          20462.99766,
          46151.1245,
          17179.522,
          14590.63205,
          7441.053,
          9282.4806,
          1719.4363,
          42856.838,
          7265.7025,
          9617.66245,
          2523.1695,
          9715.841,
          2803.69785,
          2150.469,
          12928.7911,
          9855.1314,
          22331.5668,
          48549.17835,
          4237.12655,
          11879.10405,
          9625.92,
          7742.1098,
          9432.9253,
          14256.1928,
          47896.79135,
          25992.82104,
          3172.018,
          20277.80751,
          42112.2356,
          2156.7518,
          3906.127,
          1704.5681,
          16297.846,
          21978.6769,
          38746.3551,
          9249.4952,
          6746.7425,
          24873.3849,
          12265.5069,
          4349.462,
          12646.207,
          19442.3535,
          20177.67113,
          4151.0287,
          11944.59435,
          7749.1564,
          8444.474,
          1737.376,
          42124.5153,
          8124.4084,
          34838.873,
          9722.7695,
          8835.26495,
          10435.06525,
          7421.19455,
          4667.60765,
          4894.7533,
          24671.66334,
          35491.64,
          11566.30055,
          2866.091,
          6600.20595,
          3561.8889,
          42760.5022,
          47928.03,
          9144.565,
          48517.56315,
          24393.6224,
          13429.0354,
          11658.37915,
          19144.57652,
          13822.803,
          12142.5786,
          13937.6665,
          41919.097,
          8232.6388,
          18955.22017,
          13352.0998,
          13217.0945,
          13981.85035,
          10977.2063,
          6184.2994,
          4889.9995,
          8334.45755,
          5478.0368,
          1635.73365,
          11830.6072,
          8932.084,
          3554.203,
          12404.8791,
          14133.03775,
          24603.04837,
          8944.1151,
          9620.3307,
          1837.2819,
          1607.5101,
          10043.249,
          4751.07,
          13844.506,
          2597.779,
          3180.5101,
          9778.3472,
          13430.265,
          8017.06115,
          8116.26885,
          3481.868,
          13415.0381,
          12029.2867,
          7639.41745,
          36085.219,
          1391.5287,
          18033.9679,
          21659.9301,
          38126.2465,
          16455.70785,
          27000.98473,
          15006.57945,
          42303.69215,
          20781.48892,
          5846.9176,
          8302.53565,
          1261.859,
          11856.4115,
          30284.64294,
          3176.8159,
          4618.0799,
          10736.87075,
          2138.0707,
          8964.06055,
          9290.1395,
          9411.005,
          7526.70645,
          8522.003,
          16586.49771,
          14988.432,
          1631.6683,
          9264.797,
          8083.9198,
          14692.66935,
          10269.46,
          3260.199,
          11396.9002,
          4185.0979,
          8539.671,
          6652.5288,
          4074.4537,
          1621.3402,
          19594.80965,
          14455.64405,
          5080.096,
          2134.9015,
          7345.7266,
          9140.951,
          18608.262,
          14418.2804,
          28950.4692,
          46889.2612,
          46599.1084,
          39125.33225,
          2727.3951,
          8968.33,
          9788.8659,
          6555.07035,
          7323.734819,
          3167.45585,
          18804.7524,
          23082.95533,
          4906.40965,
          5969.723,
          12638.195,
          4243.59005,
          13919.8229,
          2254.7967,
          5926.846,
          12592.5345,
          2897.3235,
          4738.2682,
          37079.372,
          1149.3959,
          28287.89766,
          26109.32905,
          7345.084,
          12730.9996,
          11454.0215,
          5910.944,
          4762.329,
          7512.267,
          4032.2407,
          1969.614,
          1769.53165,
          4686.3887,
          21797.0004,
          11881.9696,
          11840.77505,
          10601.412,
          7682.67,
          10381.4787,
          22144.032,
          15230.32405,
          11165.41765,
          1632.03625,
          19521.9682,
          13224.693,
          12643.3778,
          23288.9284,
          2201.0971,
          2497.0383,
          2203.47185,
          1744.465,
          20878.78443,
          25382.297,
          28868.6639,
          35147.52848,
          2534.39375,
          1534.3045,
          1824.2854,
          15555.18875,
          9304.7019,
          1622.1885,
          9880.068,
          9563.029,
          4347.02335,
          12475.3513,
          1253.936,
          48885.13561,
          10461.9794,
          1748.774,
          24513.09126,
          2196.4732,
          12574.049,
          17942.106,
          1967.0227,
          4931.647,
          8027.968,
          8211.1002,
          13470.86,
          36197.699,
          6837.3687,
          22218.1149,
          32548.3405,
          5974.3847,
          6796.86325,
          2643.2685,
          3077.0955,
          3044.2133,
          11455.28,
          11763.0009,
          2498.4144,
          9361.3268,
          1256.299,
          21082.16,
          11362.755,
          27724.28875,
          8413.46305,
          5240.765,
          3857.75925,
          25656.57526,
          3994.1778,
          9866.30485,
          5397.6167,
          38245.59327,
          11482.63485,
          24059.68019,
          9861.025,
          8342.90875,
          1708.0014,
          48675.5177,
          14043.4767,
          12925.886,
          19214.70553,
          13831.1152,
          6067.12675,
          5972.378,
          8825.086,
          8233.0975,
          27346.04207,
          6196.448,
          3056.3881,
          13887.204,
          63770.42801,
          10231.4999,
          23807.2406,
          3268.84665,
          11538.421,
          3213.62205,
          45863.205,
          13390.559,
          3972.9247,
          12957.118,
          11187.6567,
          17878.90068,
          3847.674,
          8334.5896,
          3935.1799,
          39983.42595,
          1646.4297,
          9193.8385,
          10923.9332,
          2494.022,
          9058.7303,
          2801.2588,
          2128.43105,
          6373.55735,
          7256.7231,
          11552.904,
          45702.02235,
          3761.292,
          2219.4451,
          4753.6368,
          31620.00106,
          13224.05705,
          12222.8983,
          1664.9996,
          58571.07448,
          9724.53,
          3206.49135,
          12913.9924,
          1639.5631,
          6356.2707,
          17626.23951,
          1242.816,
          4779.6023,
          3861.20965,
          43943.8761,
          13635.6379,
          5976.8311,
          11842.442,
          8428.0693,
          2566.4707,
          15359.1045,
          5709.1644,
          8823.98575,
          7640.3092,
          5594.8455,
          7441.501,
          33471.97189,
          1633.0444,
          9174.13565,
          11070.535,
          16085.1275,
          17468.9839,
          9283.562,
          3558.62025,
          25678.77845,
          4435.0942,
          39241.442,
          8547.6913,
          6571.544,
          2207.69745,
          6753.038,
          1880.07,
          42969.8527,
          11658.11505,
          23306.547,
          34439.8559,
          10713.644,
          3659.346,
          40182.246,
          9182.17,
          34617.84065,
          12129.61415,
          3736.4647,
          6748.5912,
          11326.71487,
          11365.952,
          42983.4585,
          10085.846,
          1977.815,
          3366.6697,
          7173.35995,
          9391.346,
          14410.9321,
          2709.1119,
          24915.04626,
          20149.3229,
          12949.1554,
          6666.243,
          32787.45859,
          13143.86485,
          4466.6214,
          18806.14547,
          10141.1362,
          6123.5688,
          8252.2843,
          1712.227,
          12430.95335,
          9800.8882,
          10579.711,
          8280.6227,
          8527.532,
          12244.531,
          24667.419,
          3410.324,
          4058.71245,
          26392.26029,
          14394.39815,
          6435.6237,
          22192.43711,
          5148.5526,
          1136.3994,
          27037.9141,
          42560.4304,
          8703.456,
          40003.33225,
          45710.20785,
          6500.2359,
          4837.5823,
          3943.5954,
          4399.731,
          6185.3208,
          46200.9851,
          7222.78625,
          12485.8009,
          46130.5265,
          12363.547,
          10156.7832,
          2585.269,
          1242.26,
          40103.89,
          9863.4718,
          4766.022,
          11244.3769,
          7729.64575,
          5438.7491,
          26236.57997,
          34806.4677,
          2104.1134,
          8068.185,
          2362.22905,
          2352.96845,
          3577.999,
          3201.24515,
          29186.48236,
          40273.6455,
          10976.24575,
          3500.6123,
          2020.5523,
          9541.69555,
          9504.3103,
          5385.3379,
          8930.93455,
          5375.038,
          44400.4064,
          10264.4421,
          6113.23105,
          5469.0066,
          1727.54,
          10107.2206,
          8310.83915,
          1984.4533,
          2457.502,
          12146.971,
          9566.9909,
          13112.6048,
          10848.1343,
          12231.6136,
          9875.6804,
          11264.541,
          12979.358,
          1263.249,
          10106.13425,
          40932.4295,
          6664.68595,
          16657.71745,
          2217.6012,
          6781.3542,
          19361.9988,
          10065.413,
          4234.927,
          9447.25035,
          14007.222,
          9583.8933,
          40419.0191,
          3484.331,
          36189.1017,
          44585.45587,
          8604.48365,
          18246.4955,
          43254.41795,
          3757.8448,
          8827.2099,
          9910.35985,
          11737.84884,
          1627.28245,
          8556.907,
          3062.50825,
          19539.243,
          1906.35825,
          14210.53595,
          11833.7823,
          17128.42608,
          5031.26955,
          7985.815,
          23065.4207,
          5428.7277,
          36307.7983,
          3925.7582,
          2416.955,
          19040.876,
          3070.8087,
          9095.06825,
          11842.62375,
          8062.764,
          7050.642,
          14319.031,
          6933.24225,
          27941.28758,
          11150.78,
          12797.20962,
          17748.5062,
          7261.741,
          10560.4917,
          6986.697,
          7448.40395,
          5934.3798,
          9869.8102,
          18259.216,
          1146.7966,
          9386.1613,
          24520.264,
          4350.5144,
          6414.178,
          12741.16745,
          1917.3184,
          5209.57885,
          13457.9608,
          5662.225,
          1252.407,
          2731.9122,
          21195.818,
          7209.4918,
          18310.742,
          4266.1658,
          4719.52405,
          11848.141,
          17904.52705,
          7046.7222,
          14313.8463,
          2103.08,
          38792.6856,
          1815.8759,
          7731.85785,
          28476.73499,
          2136.88225,
          1131.5066,
          3309.7926,
          9414.92,
          6360.9936,
          11013.7119,
          4428.88785,
          5584.3057,
          1877.9294,
          2842.76075,
          3597.596,
          23401.30575,
          55135.40209,
          7445.918,
          2680.9493,
          1621.8827,
          8219.2039,
          12523.6048,
          16069.08475,
          43813.8661,
          20773.62775,
          39597.4072,
          6117.4945,
          13393.756,
          5266.3656,
          4719.73655,
          11743.9341,
          5377.4578,
          7160.3303,
          4402.233,
          11657.7189,
          6402.29135,
          12622.1795,
          1526.312,
          12323.936,
          36021.0112,
          27533.9129,
          10072.05505,
          45008.9555,
          9872.701,
          2438.0552,
          2974.126,
          10601.63225,
          37270.1512,
          14119.62,
          42111.6647,
          11729.6795,
          24106.91255,
          1875.344,
          40974.1649,
          15817.9857,
          18218.16139,
          10965.446,
          46113.511,
          7151.092,
          12269.68865,
          5458.04645,
          8782.469,
          6600.361,
          1141.4451,
          11576.13,
          13129.60345,
          4391.652,
          8457.818,
          3392.3652,
          5966.8874,
          6849.026,
          8891.1395,
          2690.1138,
          26140.3603,
          6653.7886,
          6282.235,
          6311.952,
          3443.064,
          2789.0574,
          2585.85065,
          46255.1125,
          4877.98105,
          19719.6947,
          27218.43725,
          5272.1758,
          1682.597,
          11945.1327,
          29330.98315,
          7243.8136,
          10422.91665,
          44202.6536,
          13555.0049,
          13063.883,
          19798.05455,
          2221.56445,
          1634.5734,
          2117.33885,
          8688.85885,
          48673.5588,
          4661.28635,
          8125.7845,
          12644.589,
          4564.19145,
          4846.92015,
          7633.7206,
          15170.069,
          17496.306,
          2639.0429,
          33732.6867,
          14382.70905,
          7626.993,
          5257.50795,
          2473.3341,
          21774.32215,
          35069.37452,
          13041.921,
          5245.2269,
          13451.122,
          13462.52,
          5488.262,
          4320.41085,
          6250.435,
          25333.33284,
          2913.569,
          12032.326,
          13470.8044,
          6289.7549,
          2927.0647,
          6238.298,
          10096.97,
          7348.142,
          4673.3922,
          12233.828,
          32108.66282,
          8965.79575,
          2304.0022,
          9487.6442,
          1121.8739,
          9549.5651,
          2217.46915,
          1628.4709,
          12982.8747,
          11674.13,
          7160.094,
          39047.285,
          6358.77645,
          19933.458,
          11534.87265,
          47462.894,
          4527.18295,
          38998.546,
          20009.63365,
          3875.7341,
          41999.52,
          12609.88702,
          41034.2214,
          28468.91901,
          2730.10785,
          3353.284,
          14474.675,
          9500.57305,
          26467.09737,
          4746.344,
          23967.38305,
          7518.02535,
          3279.86855,
          8596.8278,
          10702.6424,
          4992.3764,
          2527.81865,
          1759.338,
          2322.6218,
          16138.76205,
          7804.1605,
          2902.9065,
          9704.66805,
          4889.0368,
          25517.11363,
          4500.33925,
          19199.944,
          16796.41194,
          4915.05985,
          7624.63,
          8410.04685,
          28340.18885,
          4518.82625,
          14571.8908,
          3378.91,
          7144.86265,
          10118.424,
          5484.4673,
          16420.49455,
          7986.47525,
          7418.522,
          13887.9685,
          6551.7501,
          5267.81815,
          17361.7661,
          34472.841,
          1972.95,
          21232.18226,
          8627.5411,
          4433.3877,
          4438.2634,
          24915.22085,
          23241.47453,
          9957.7216,
          8269.044,
          18767.7377,
          36580.28216,
          8765.249,
          5383.536,
          12124.9924,
          2709.24395,
          3987.926,
          12495.29085,
          26018.95052,
          8798.593,
          35595.5898,
          42211.1382,
          1711.0268,
          8569.8618,
          2020.177,
          16450.8947,
          21595.38229,
          9850.432,
          6877.9801,
          21677.28345,
          44423.803,
          4137.5227,
          13747.87235,
          12950.0712,
          12094.478,
          37484.4493,
          39725.51805,
          2250.8352,
          22493.65964,
          20234.85475,
          1704.70015,
          33475.81715,
          3161.454,
          11394.06555,
          21880.82,
          7325.0482,
          44501.3982,
          3594.17085,
          39727.614,
          8023.13545,
          14394.5579,
          9288.0267,
          25309.489,
          3353.4703,
          10594.50155,
          8277.523,
          17929.30337,
          2480.9791,
          4462.7218,
          1981.5819,
          11554.2236,
          48970.2476,
          6548.19505,
          5708.867,
          7045.499,
          8978.1851,
          5757.41345,
          14349.8544,
          10928.849,
          39871.7043,
          13974.45555,
          1909.52745,
          12096.6512,
          13204.28565,
          4562.8421,
          8551.347,
          2102.2647,
          34672.1472,
          15161.5344,
          11884.04858,
          4454.40265,
          5855.9025,
          4076.497,
          15019.76005,
          19023.26,
          10796.35025,
          11353.2276,
          9748.9106,
          10577.087,
          41676.0811,
          11286.5387,
          3591.48,
          33907.548,
          11299.343,
          4561.1885,
          44641.1974,
          1674.6323,
          23045.56616,
          3227.1211,
          16776.30405,
          11253.421,
          3471.4096,
          11363.2832,
          20420.60465,
          10338.9316,
          8988.15875,
          10493.9458,
          2904.088,
          8605.3615,
          11512.405,
          41949.2441,
          24180.9335,
          5312.16985,
          2396.0959,
          10807.4863,
          9222.4026,
          36124.5737,
          38282.7495,
          5693.4305,
          34166.273,
          8347.1643,
          46661.4424,
          18903.49141,
          40904.1995,
          14254.6082,
          10214.636,
          5836.5204,
          14358.36437,
          1728.897,
          8582.3023,
          3693.428,
          20709.02034,
          9991.03765,
          19673.33573,
          11085.5868,
          7623.518,
          3176.2877,
          3704.3545,
          36898.73308,
          9048.0273,
          7954.517,
          27117.99378,
          6338.0756,
          9630.397,
          11289.10925,
          52590.82939,
          2261.5688,
          10791.96,
          5979.731,
          2203.73595,
          12235.8392,
          40941.2854,
          5630.45785,
          11015.1747,
          7228.21565,
          39722.7462,
          14426.07385,
          2459.7201,
          3989.841,
          7727.2532,
          5124.1887,
          18963.17192,
          2200.83085,
          7153.5539,
          5227.98875,
          10982.5013,
          4529.477,
          4670.64,
          6112.35295,
          17178.6824,
          22478.6,
          11093.6229,
          6457.8434,
          4433.9159,
          2154.361,
          23887.6627,
          6496.886,
          2899.48935,
          19350.3689,
          7650.77375,
          2850.68375,
          2632.992,
          9447.3824,
          18328.2381,
          8603.8234,
          37465.34375,
          13844.7972,
          21771.3423,
          13126.67745,
          5327.40025,
          13725.47184,
          13019.16105,
          8671.19125,
          4134.08245,
          18838.70366,
          33307.5508,
          5699.8375,
          6393.60345,
          4934.705,
          6198.7518,
          8733.22925,
          2055.3249,
          9964.06,
          18223.4512,
          5116.5004,
          36910.60803,
          38415.474,
          20296.86345,
          12347.172,
          5373.36425,
          23563.01618,
          1702.4553,
          10806.839,
          3956.07145,
          12890.05765,
          5415.6612,
          4058.1161,
          41661.602,
          7537.1639,
          4718.20355,
          6593.5083,
          8442.667,
          26125.67477,
          6858.4796,
          4795.6568,
          6640.54485,
          7162.0122,
          10594.2257,
          11938.25595,
          60021.39897,
          20167.33603,
          12479.70895,
          11345.519,
          8515.7587,
          2699.56835,
          14449.8544,
          12224.35085,
          6985.50695,
          3238.4357,
          47269.854,
          49577.6624,
          4296.2712,
          3171.6149,
          1135.9407,
          5615.369,
          9101.798,
          6059.173,
          1633.9618,
          37607.5277,
          18648.4217,
          1241.565,
          16232.847,
          15828.82173,
          4415.1588,
          6474.013,
          11436.73815,
          11305.93455,
          30063.58055,
          10197.7722,
          4544.2348,
          3277.161,
          6770.1925,
          7337.748,
          10370.91255,
          26926.5144,
          10704.47,
          34254.05335,
          1880.487,
          8615.3,
          3292.52985,
          3021.80915,
          14478.33015,
          4747.0529,
          17043.3414,
          10959.33,
          2741.948,
          4357.04365,
          22462.04375,
          4189.1131,
          8283.6807,
          9382.033,
          14283.4594,
          1720.3537,
          47403.88,
          8534.6718,
          3732.6251,
          5472.449,
          38344.566,
          7147.4728,
          7133.9025,
          34828.654,
          1515.3449,
          9301.89355,
          11931.12525,
          1964.78,
          1708.92575,
          4340.4409,
          5261.46945,
          2710.82855,
          62592.87309,
          46718.16325,
          3208.787,
          37829.7242,
          21259.37795,
          2464.6188,
          16115.3045,
          21472.4788,
          33900.653,
          6875.961,
          6940.90985,
          4571.41305,
          9382.033,
          36397.576,
          18765.87545,
          11272.33139,
          1731.677,
          1163.4627,
          19496.71917,
          7201.70085,
          5425.02335,
          28101.33305,
          12981.3457,
          43896.3763,
          4239.89265,
          13143.33665,
          7050.0213,
          9377.9047,
          22395.74424,
          10325.206,
          12629.1656,
          10795.93733,
          11411.685,
          10600.5483,
          2205.9808,
          1629.8335,
          2007.945,
          29141.3603
         ],
         "y0": " ",
         "yaxis": "y"
        }
       ],
       "layout": {
        "boxmode": "group",
        "legend": {
         "tracegroupgap": 0
        },
        "margin": {
         "t": 60
        },
        "template": {
         "data": {
          "bar": [
           {
            "error_x": {
             "color": "#2a3f5f"
            },
            "error_y": {
             "color": "#2a3f5f"
            },
            "marker": {
             "line": {
              "color": "#E5ECF6",
              "width": 0.5
             },
             "pattern": {
              "fillmode": "overlay",
              "size": 10,
              "solidity": 0.2
             }
            },
            "type": "bar"
           }
          ],
          "barpolar": [
           {
            "marker": {
             "line": {
              "color": "#E5ECF6",
              "width": 0.5
             },
             "pattern": {
              "fillmode": "overlay",
              "size": 10,
              "solidity": 0.2
             }
            },
            "type": "barpolar"
           }
          ],
          "carpet": [
           {
            "aaxis": {
             "endlinecolor": "#2a3f5f",
             "gridcolor": "white",
             "linecolor": "white",
             "minorgridcolor": "white",
             "startlinecolor": "#2a3f5f"
            },
            "baxis": {
             "endlinecolor": "#2a3f5f",
             "gridcolor": "white",
             "linecolor": "white",
             "minorgridcolor": "white",
             "startlinecolor": "#2a3f5f"
            },
            "type": "carpet"
           }
          ],
          "choropleth": [
           {
            "colorbar": {
             "outlinewidth": 0,
             "ticks": ""
            },
            "type": "choropleth"
           }
          ],
          "contour": [
           {
            "colorbar": {
             "outlinewidth": 0,
             "ticks": ""
            },
            "colorscale": [
             [
              0,
              "#0d0887"
             ],
             [
              0.1111111111111111,
              "#46039f"
             ],
             [
              0.2222222222222222,
              "#7201a8"
             ],
             [
              0.3333333333333333,
              "#9c179e"
             ],
             [
              0.4444444444444444,
              "#bd3786"
             ],
             [
              0.5555555555555556,
              "#d8576b"
             ],
             [
              0.6666666666666666,
              "#ed7953"
             ],
             [
              0.7777777777777778,
              "#fb9f3a"
             ],
             [
              0.8888888888888888,
              "#fdca26"
             ],
             [
              1,
              "#f0f921"
             ]
            ],
            "type": "contour"
           }
          ],
          "contourcarpet": [
           {
            "colorbar": {
             "outlinewidth": 0,
             "ticks": ""
            },
            "type": "contourcarpet"
           }
          ],
          "heatmap": [
           {
            "colorbar": {
             "outlinewidth": 0,
             "ticks": ""
            },
            "colorscale": [
             [
              0,
              "#0d0887"
             ],
             [
              0.1111111111111111,
              "#46039f"
             ],
             [
              0.2222222222222222,
              "#7201a8"
             ],
             [
              0.3333333333333333,
              "#9c179e"
             ],
             [
              0.4444444444444444,
              "#bd3786"
             ],
             [
              0.5555555555555556,
              "#d8576b"
             ],
             [
              0.6666666666666666,
              "#ed7953"
             ],
             [
              0.7777777777777778,
              "#fb9f3a"
             ],
             [
              0.8888888888888888,
              "#fdca26"
             ],
             [
              1,
              "#f0f921"
             ]
            ],
            "type": "heatmap"
           }
          ],
          "heatmapgl": [
           {
            "colorbar": {
             "outlinewidth": 0,
             "ticks": ""
            },
            "colorscale": [
             [
              0,
              "#0d0887"
             ],
             [
              0.1111111111111111,
              "#46039f"
             ],
             [
              0.2222222222222222,
              "#7201a8"
             ],
             [
              0.3333333333333333,
              "#9c179e"
             ],
             [
              0.4444444444444444,
              "#bd3786"
             ],
             [
              0.5555555555555556,
              "#d8576b"
             ],
             [
              0.6666666666666666,
              "#ed7953"
             ],
             [
              0.7777777777777778,
              "#fb9f3a"
             ],
             [
              0.8888888888888888,
              "#fdca26"
             ],
             [
              1,
              "#f0f921"
             ]
            ],
            "type": "heatmapgl"
           }
          ],
          "histogram": [
           {
            "marker": {
             "pattern": {
              "fillmode": "overlay",
              "size": 10,
              "solidity": 0.2
             }
            },
            "type": "histogram"
           }
          ],
          "histogram2d": [
           {
            "colorbar": {
             "outlinewidth": 0,
             "ticks": ""
            },
            "colorscale": [
             [
              0,
              "#0d0887"
             ],
             [
              0.1111111111111111,
              "#46039f"
             ],
             [
              0.2222222222222222,
              "#7201a8"
             ],
             [
              0.3333333333333333,
              "#9c179e"
             ],
             [
              0.4444444444444444,
              "#bd3786"
             ],
             [
              0.5555555555555556,
              "#d8576b"
             ],
             [
              0.6666666666666666,
              "#ed7953"
             ],
             [
              0.7777777777777778,
              "#fb9f3a"
             ],
             [
              0.8888888888888888,
              "#fdca26"
             ],
             [
              1,
              "#f0f921"
             ]
            ],
            "type": "histogram2d"
           }
          ],
          "histogram2dcontour": [
           {
            "colorbar": {
             "outlinewidth": 0,
             "ticks": ""
            },
            "colorscale": [
             [
              0,
              "#0d0887"
             ],
             [
              0.1111111111111111,
              "#46039f"
             ],
             [
              0.2222222222222222,
              "#7201a8"
             ],
             [
              0.3333333333333333,
              "#9c179e"
             ],
             [
              0.4444444444444444,
              "#bd3786"
             ],
             [
              0.5555555555555556,
              "#d8576b"
             ],
             [
              0.6666666666666666,
              "#ed7953"
             ],
             [
              0.7777777777777778,
              "#fb9f3a"
             ],
             [
              0.8888888888888888,
              "#fdca26"
             ],
             [
              1,
              "#f0f921"
             ]
            ],
            "type": "histogram2dcontour"
           }
          ],
          "mesh3d": [
           {
            "colorbar": {
             "outlinewidth": 0,
             "ticks": ""
            },
            "type": "mesh3d"
           }
          ],
          "parcoords": [
           {
            "line": {
             "colorbar": {
              "outlinewidth": 0,
              "ticks": ""
             }
            },
            "type": "parcoords"
           }
          ],
          "pie": [
           {
            "automargin": true,
            "type": "pie"
           }
          ],
          "scatter": [
           {
            "fillpattern": {
             "fillmode": "overlay",
             "size": 10,
             "solidity": 0.2
            },
            "type": "scatter"
           }
          ],
          "scatter3d": [
           {
            "line": {
             "colorbar": {
              "outlinewidth": 0,
              "ticks": ""
             }
            },
            "marker": {
             "colorbar": {
              "outlinewidth": 0,
              "ticks": ""
             }
            },
            "type": "scatter3d"
           }
          ],
          "scattercarpet": [
           {
            "marker": {
             "colorbar": {
              "outlinewidth": 0,
              "ticks": ""
             }
            },
            "type": "scattercarpet"
           }
          ],
          "scattergeo": [
           {
            "marker": {
             "colorbar": {
              "outlinewidth": 0,
              "ticks": ""
             }
            },
            "type": "scattergeo"
           }
          ],
          "scattergl": [
           {
            "marker": {
             "colorbar": {
              "outlinewidth": 0,
              "ticks": ""
             }
            },
            "type": "scattergl"
           }
          ],
          "scattermapbox": [
           {
            "marker": {
             "colorbar": {
              "outlinewidth": 0,
              "ticks": ""
             }
            },
            "type": "scattermapbox"
           }
          ],
          "scatterpolar": [
           {
            "marker": {
             "colorbar": {
              "outlinewidth": 0,
              "ticks": ""
             }
            },
            "type": "scatterpolar"
           }
          ],
          "scatterpolargl": [
           {
            "marker": {
             "colorbar": {
              "outlinewidth": 0,
              "ticks": ""
             }
            },
            "type": "scatterpolargl"
           }
          ],
          "scatterternary": [
           {
            "marker": {
             "colorbar": {
              "outlinewidth": 0,
              "ticks": ""
             }
            },
            "type": "scatterternary"
           }
          ],
          "surface": [
           {
            "colorbar": {
             "outlinewidth": 0,
             "ticks": ""
            },
            "colorscale": [
             [
              0,
              "#0d0887"
             ],
             [
              0.1111111111111111,
              "#46039f"
             ],
             [
              0.2222222222222222,
              "#7201a8"
             ],
             [
              0.3333333333333333,
              "#9c179e"
             ],
             [
              0.4444444444444444,
              "#bd3786"
             ],
             [
              0.5555555555555556,
              "#d8576b"
             ],
             [
              0.6666666666666666,
              "#ed7953"
             ],
             [
              0.7777777777777778,
              "#fb9f3a"
             ],
             [
              0.8888888888888888,
              "#fdca26"
             ],
             [
              1,
              "#f0f921"
             ]
            ],
            "type": "surface"
           }
          ],
          "table": [
           {
            "cells": {
             "fill": {
              "color": "#EBF0F8"
             },
             "line": {
              "color": "white"
             }
            },
            "header": {
             "fill": {
              "color": "#C8D4E3"
             },
             "line": {
              "color": "white"
             }
            },
            "type": "table"
           }
          ]
         },
         "layout": {
          "annotationdefaults": {
           "arrowcolor": "#2a3f5f",
           "arrowhead": 0,
           "arrowwidth": 1
          },
          "autotypenumbers": "strict",
          "coloraxis": {
           "colorbar": {
            "outlinewidth": 0,
            "ticks": ""
           }
          },
          "colorscale": {
           "diverging": [
            [
             0,
             "#8e0152"
            ],
            [
             0.1,
             "#c51b7d"
            ],
            [
             0.2,
             "#de77ae"
            ],
            [
             0.3,
             "#f1b6da"
            ],
            [
             0.4,
             "#fde0ef"
            ],
            [
             0.5,
             "#f7f7f7"
            ],
            [
             0.6,
             "#e6f5d0"
            ],
            [
             0.7,
             "#b8e186"
            ],
            [
             0.8,
             "#7fbc41"
            ],
            [
             0.9,
             "#4d9221"
            ],
            [
             1,
             "#276419"
            ]
           ],
           "sequential": [
            [
             0,
             "#0d0887"
            ],
            [
             0.1111111111111111,
             "#46039f"
            ],
            [
             0.2222222222222222,
             "#7201a8"
            ],
            [
             0.3333333333333333,
             "#9c179e"
            ],
            [
             0.4444444444444444,
             "#bd3786"
            ],
            [
             0.5555555555555556,
             "#d8576b"
            ],
            [
             0.6666666666666666,
             "#ed7953"
            ],
            [
             0.7777777777777778,
             "#fb9f3a"
            ],
            [
             0.8888888888888888,
             "#fdca26"
            ],
            [
             1,
             "#f0f921"
            ]
           ],
           "sequentialminus": [
            [
             0,
             "#0d0887"
            ],
            [
             0.1111111111111111,
             "#46039f"
            ],
            [
             0.2222222222222222,
             "#7201a8"
            ],
            [
             0.3333333333333333,
             "#9c179e"
            ],
            [
             0.4444444444444444,
             "#bd3786"
            ],
            [
             0.5555555555555556,
             "#d8576b"
            ],
            [
             0.6666666666666666,
             "#ed7953"
            ],
            [
             0.7777777777777778,
             "#fb9f3a"
            ],
            [
             0.8888888888888888,
             "#fdca26"
            ],
            [
             1,
             "#f0f921"
            ]
           ]
          },
          "colorway": [
           "#636efa",
           "#EF553B",
           "#00cc96",
           "#ab63fa",
           "#FFA15A",
           "#19d3f3",
           "#FF6692",
           "#B6E880",
           "#FF97FF",
           "#FECB52"
          ],
          "font": {
           "color": "#2a3f5f"
          },
          "geo": {
           "bgcolor": "white",
           "lakecolor": "white",
           "landcolor": "#E5ECF6",
           "showlakes": true,
           "showland": true,
           "subunitcolor": "white"
          },
          "hoverlabel": {
           "align": "left"
          },
          "hovermode": "closest",
          "mapbox": {
           "style": "light"
          },
          "paper_bgcolor": "white",
          "plot_bgcolor": "#E5ECF6",
          "polar": {
           "angularaxis": {
            "gridcolor": "white",
            "linecolor": "white",
            "ticks": ""
           },
           "bgcolor": "#E5ECF6",
           "radialaxis": {
            "gridcolor": "white",
            "linecolor": "white",
            "ticks": ""
           }
          },
          "scene": {
           "xaxis": {
            "backgroundcolor": "#E5ECF6",
            "gridcolor": "white",
            "gridwidth": 2,
            "linecolor": "white",
            "showbackground": true,
            "ticks": "",
            "zerolinecolor": "white"
           },
           "yaxis": {
            "backgroundcolor": "#E5ECF6",
            "gridcolor": "white",
            "gridwidth": 2,
            "linecolor": "white",
            "showbackground": true,
            "ticks": "",
            "zerolinecolor": "white"
           },
           "zaxis": {
            "backgroundcolor": "#E5ECF6",
            "gridcolor": "white",
            "gridwidth": 2,
            "linecolor": "white",
            "showbackground": true,
            "ticks": "",
            "zerolinecolor": "white"
           }
          },
          "shapedefaults": {
           "line": {
            "color": "#2a3f5f"
           }
          },
          "ternary": {
           "aaxis": {
            "gridcolor": "white",
            "linecolor": "white",
            "ticks": ""
           },
           "baxis": {
            "gridcolor": "white",
            "linecolor": "white",
            "ticks": ""
           },
           "bgcolor": "#E5ECF6",
           "caxis": {
            "gridcolor": "white",
            "linecolor": "white",
            "ticks": ""
           }
          },
          "title": {
           "x": 0.05
          },
          "xaxis": {
           "automargin": true,
           "gridcolor": "white",
           "linecolor": "white",
           "ticks": "",
           "title": {
            "standoff": 15
           },
           "zerolinecolor": "white",
           "zerolinewidth": 2
          },
          "yaxis": {
           "automargin": true,
           "gridcolor": "white",
           "linecolor": "white",
           "ticks": "",
           "title": {
            "standoff": 15
           },
           "zerolinecolor": "white",
           "zerolinewidth": 2
          }
         }
        },
        "title": {
         "text": "outlier detection "
        },
        "xaxis": {
         "anchor": "y",
         "domain": [
          0,
          1
         ]
        },
        "yaxis": {
         "anchor": "x",
         "domain": [
          0,
          1
         ],
         "title": {
          "text": "health_insurance_price"
         }
        }
       }
      }
     },
     "metadata": {},
     "output_type": "display_data"
    }
   ],
   "source": [
    "fig =px.box(data,y='health_insurance_price')\n",
    "fig.update_layout(title = 'outlier detection ')\n",
    "fig.show()"
   ]
  },
  {
   "attachments": {},
   "cell_type": "markdown",
   "id": "be4a95c5",
   "metadata": {},
   "source": [
    "## CONVERT CATEGORICAL FEATURE INTO NUMERICAL"
   ]
  },
  {
   "cell_type": "code",
   "execution_count": 18,
   "id": "cef80ab5",
   "metadata": {},
   "outputs": [],
   "source": [
    "# USING FEATURE ENCODING TECHNIQUE .\n",
    "# LABELENCODER-\n",
    "encoder = LabelEncoder()  #\n",
    "encoder.fit(data['gender'])\n",
    "encoders =  encoder.transform(data['gender'])"
   ]
  },
  {
   "cell_type": "code",
   "execution_count": 19,
   "id": "ccd0518c",
   "metadata": {},
   "outputs": [],
   "source": [
    "ss_encoders =  encoder.fit_transform(data['smoking_status'])\n",
    "loc_encoders =  encoder.fit_transform(data['location'])"
   ]
  },
  {
   "cell_type": "code",
   "execution_count": 20,
   "id": "770fcfdd",
   "metadata": {},
   "outputs": [
    {
     "name": "stdout",
     "output_type": "stream",
     "text": [
      "[0 1 1 ... 0 0 0]\n",
      "[1 0 0 ... 0 0 1]\n",
      "[3 2 2 ... 2 3 1]\n"
     ]
    }
   ],
   "source": [
    "print(encoders)\n",
    "print(ss_encoders)\n",
    "print(loc_encoders)"
   ]
  },
  {
   "attachments": {},
   "cell_type": "markdown",
   "id": "c17be6cd",
   "metadata": {},
   "source": [
    "- Gender :- {male:1,female : 0}\n",
    "- smokers :- {yes: 1 ,no :0}\n",
    "- location :- {sw : 3,se : 2 ,nw : 1 ,ne:0}\n"
   ]
  },
  {
   "cell_type": "code",
   "execution_count": 21,
   "id": "2e0a6e0d",
   "metadata": {},
   "outputs": [],
   "source": [
    "# assign encoding value in dataset.\n",
    "data['gender'] =  encoders    \n",
    "data['smoking_status'] = ss_encoders\n",
    "data['location'] = loc_encoders"
   ]
  },
  {
   "cell_type": "code",
   "execution_count": 22,
   "id": "949f5f9f",
   "metadata": {},
   "outputs": [
    {
     "data": {
      "text/html": [
       "<div>\n",
       "<style scoped>\n",
       "    .dataframe tbody tr th:only-of-type {\n",
       "        vertical-align: middle;\n",
       "    }\n",
       "\n",
       "    .dataframe tbody tr th {\n",
       "        vertical-align: top;\n",
       "    }\n",
       "\n",
       "    .dataframe thead th {\n",
       "        text-align: right;\n",
       "    }\n",
       "</style>\n",
       "<table border=\"1\" class=\"dataframe\">\n",
       "  <thead>\n",
       "    <tr style=\"text-align: right;\">\n",
       "      <th></th>\n",
       "      <th>age</th>\n",
       "      <th>gender</th>\n",
       "      <th>BMI</th>\n",
       "      <th>Children</th>\n",
       "      <th>smoking_status</th>\n",
       "      <th>location</th>\n",
       "      <th>health_insurance_price</th>\n",
       "    </tr>\n",
       "  </thead>\n",
       "  <tbody>\n",
       "    <tr>\n",
       "      <th>0</th>\n",
       "      <td>19.0</td>\n",
       "      <td>0</td>\n",
       "      <td>30.305</td>\n",
       "      <td>0</td>\n",
       "      <td>1</td>\n",
       "      <td>3</td>\n",
       "      <td>16884.92400</td>\n",
       "    </tr>\n",
       "    <tr>\n",
       "      <th>1</th>\n",
       "      <td>18.0</td>\n",
       "      <td>1</td>\n",
       "      <td>33.770</td>\n",
       "      <td>1</td>\n",
       "      <td>0</td>\n",
       "      <td>2</td>\n",
       "      <td>1725.55230</td>\n",
       "    </tr>\n",
       "    <tr>\n",
       "      <th>2</th>\n",
       "      <td>28.0</td>\n",
       "      <td>1</td>\n",
       "      <td>33.000</td>\n",
       "      <td>3</td>\n",
       "      <td>0</td>\n",
       "      <td>2</td>\n",
       "      <td>4449.46200</td>\n",
       "    </tr>\n",
       "    <tr>\n",
       "      <th>3</th>\n",
       "      <td>33.0</td>\n",
       "      <td>1</td>\n",
       "      <td>22.705</td>\n",
       "      <td>0</td>\n",
       "      <td>0</td>\n",
       "      <td>1</td>\n",
       "      <td>21984.47061</td>\n",
       "    </tr>\n",
       "    <tr>\n",
       "      <th>4</th>\n",
       "      <td>32.0</td>\n",
       "      <td>1</td>\n",
       "      <td>28.880</td>\n",
       "      <td>0</td>\n",
       "      <td>0</td>\n",
       "      <td>1</td>\n",
       "      <td>3866.85520</td>\n",
       "    </tr>\n",
       "  </tbody>\n",
       "</table>\n",
       "</div>"
      ],
      "text/plain": [
       "    age  gender     BMI  Children  smoking_status  location  \\\n",
       "0  19.0       0  30.305         0               1         3   \n",
       "1  18.0       1  33.770         1               0         2   \n",
       "2  28.0       1  33.000         3               0         2   \n",
       "3  33.0       1  22.705         0               0         1   \n",
       "4  32.0       1  28.880         0               0         1   \n",
       "\n",
       "   health_insurance_price  \n",
       "0             16884.92400  \n",
       "1              1725.55230  \n",
       "2              4449.46200  \n",
       "3             21984.47061  \n",
       "4              3866.85520  "
      ]
     },
     "execution_count": 22,
     "metadata": {},
     "output_type": "execute_result"
    }
   ],
   "source": [
    "data.head() # new dataframe with encoding value."
   ]
  },
  {
   "cell_type": "code",
   "execution_count": 23,
   "id": "f5111045",
   "metadata": {},
   "outputs": [
    {
     "data": {
      "text/html": [
       "<div>\n",
       "<style scoped>\n",
       "    .dataframe tbody tr th:only-of-type {\n",
       "        vertical-align: middle;\n",
       "    }\n",
       "\n",
       "    .dataframe tbody tr th {\n",
       "        vertical-align: top;\n",
       "    }\n",
       "\n",
       "    .dataframe thead th {\n",
       "        text-align: right;\n",
       "    }\n",
       "</style>\n",
       "<table border=\"1\" class=\"dataframe\">\n",
       "  <thead>\n",
       "    <tr style=\"text-align: right;\">\n",
       "      <th></th>\n",
       "      <th>age</th>\n",
       "      <th>gender</th>\n",
       "      <th>BMI</th>\n",
       "      <th>Children</th>\n",
       "      <th>smoking_status</th>\n",
       "      <th>location</th>\n",
       "      <th>health_insurance_price</th>\n",
       "    </tr>\n",
       "  </thead>\n",
       "  <tbody>\n",
       "    <tr>\n",
       "      <th>age</th>\n",
       "      <td>1.000000</td>\n",
       "      <td>-0.017327</td>\n",
       "      <td>0.107637</td>\n",
       "      <td>0.041057</td>\n",
       "      <td>-0.021401</td>\n",
       "      <td>0.006794</td>\n",
       "      <td>0.294387</td>\n",
       "    </tr>\n",
       "    <tr>\n",
       "      <th>gender</th>\n",
       "      <td>-0.017327</td>\n",
       "      <td>1.000000</td>\n",
       "      <td>0.047370</td>\n",
       "      <td>0.017163</td>\n",
       "      <td>0.076185</td>\n",
       "      <td>0.004588</td>\n",
       "      <td>0.058559</td>\n",
       "    </tr>\n",
       "    <tr>\n",
       "      <th>BMI</th>\n",
       "      <td>0.107637</td>\n",
       "      <td>0.047370</td>\n",
       "      <td>1.000000</td>\n",
       "      <td>0.009742</td>\n",
       "      <td>0.003520</td>\n",
       "      <td>0.153180</td>\n",
       "      <td>0.194278</td>\n",
       "    </tr>\n",
       "    <tr>\n",
       "      <th>Children</th>\n",
       "      <td>0.041057</td>\n",
       "      <td>0.017163</td>\n",
       "      <td>0.009742</td>\n",
       "      <td>1.000000</td>\n",
       "      <td>0.007673</td>\n",
       "      <td>0.016569</td>\n",
       "      <td>0.067302</td>\n",
       "    </tr>\n",
       "    <tr>\n",
       "      <th>smoking_status</th>\n",
       "      <td>-0.021401</td>\n",
       "      <td>0.076185</td>\n",
       "      <td>0.003520</td>\n",
       "      <td>0.007673</td>\n",
       "      <td>1.000000</td>\n",
       "      <td>-0.002181</td>\n",
       "      <td>0.785603</td>\n",
       "    </tr>\n",
       "    <tr>\n",
       "      <th>location</th>\n",
       "      <td>0.006794</td>\n",
       "      <td>0.004588</td>\n",
       "      <td>0.153180</td>\n",
       "      <td>0.016569</td>\n",
       "      <td>-0.002181</td>\n",
       "      <td>1.000000</td>\n",
       "      <td>-0.005372</td>\n",
       "    </tr>\n",
       "    <tr>\n",
       "      <th>health_insurance_price</th>\n",
       "      <td>0.294387</td>\n",
       "      <td>0.058559</td>\n",
       "      <td>0.194278</td>\n",
       "      <td>0.067302</td>\n",
       "      <td>0.785603</td>\n",
       "      <td>-0.005372</td>\n",
       "      <td>1.000000</td>\n",
       "    </tr>\n",
       "  </tbody>\n",
       "</table>\n",
       "</div>"
      ],
      "text/plain": [
       "                             age    gender       BMI  Children  \\\n",
       "age                     1.000000 -0.017327  0.107637  0.041057   \n",
       "gender                 -0.017327  1.000000  0.047370  0.017163   \n",
       "BMI                     0.107637  0.047370  1.000000  0.009742   \n",
       "Children                0.041057  0.017163  0.009742  1.000000   \n",
       "smoking_status         -0.021401  0.076185  0.003520  0.007673   \n",
       "location                0.006794  0.004588  0.153180  0.016569   \n",
       "health_insurance_price  0.294387  0.058559  0.194278  0.067302   \n",
       "\n",
       "                        smoking_status  location  health_insurance_price  \n",
       "age                          -0.021401  0.006794                0.294387  \n",
       "gender                        0.076185  0.004588                0.058559  \n",
       "BMI                           0.003520  0.153180                0.194278  \n",
       "Children                      0.007673  0.016569                0.067302  \n",
       "smoking_status                1.000000 -0.002181                0.785603  \n",
       "location                     -0.002181  1.000000               -0.005372  \n",
       "health_insurance_price        0.785603 -0.005372                1.000000  "
      ]
     },
     "execution_count": 23,
     "metadata": {},
     "output_type": "execute_result"
    }
   ],
   "source": [
    "rel =data.corr() # checking corr. relation  between  feature \n",
    "rel"
   ]
  },
  {
   "cell_type": "code",
   "execution_count": 24,
   "id": "61d3b871",
   "metadata": {},
   "outputs": [
    {
     "data": {
      "image/png": "[encoded data removed]",
      "text/plain": [
       "<Figure size 1200x600 with 2 Axes>"
      ]
     },
     "metadata": {},
     "output_type": "display_data"
    }
   ],
   "source": [
    "plt.figure(figsize=(12,6))\n",
    "sns.heatmap(rel,annot =True)\n",
    "plt.show()"
   ]
  },
  {
   "attachments": {},
   "cell_type": "markdown",
   "id": "95852004",
   "metadata": {},
   "source": [
    "- In the heatmap ,we can observe that only one feature show high correlation  with  the ins_price another feature have low corrlation .\n",
    "- many features show negative correlation ."
   ]
  },
  {
   "attachments": {},
   "cell_type": "markdown",
   "id": "6d62e462",
   "metadata": {},
   "source": [
    "# DETECTING OUTLIER  AND DEALING WITH IT\n"
   ]
  },
  {
   "attachments": {},
   "cell_type": "markdown",
   "id": "d9f85d02",
   "metadata": {},
   "source": [
    "Remove outlier using interquartile method / measure of dispersion"
   ]
  },
  {
   "cell_type": "code",
   "execution_count": 25,
   "id": "0cdef232",
   "metadata": {},
   "outputs": [
    {
     "name": "stdout",
     "output_type": "stream",
     "text": [
      "quartile one:- 26.315\n",
      "quartile two:- 30.305\n",
      "quartile three:- 34.43\n"
     ]
    }
   ],
   "source": [
    "Q1 = np.percentile(data['BMI'],25)  # finding the value  q1,q2,q3\n",
    "Q2  = np.percentile(data['BMI'],50)\n",
    "Q3  = np.percentile(data['BMI'],75)\n",
    "print('quartile one:-',Q1)\n",
    "print('quartile two:-',Q2)\n",
    "print('quartile three:-',Q3)"
   ]
  },
  {
   "cell_type": "code",
   "execution_count": 26,
   "id": "e8ddd731",
   "metadata": {},
   "outputs": [
    {
     "name": "stdout",
     "output_type": "stream",
     "text": [
      "lower fence:- 14.142500000000004\n",
      "Upper fence:- 46.6025\n",
      "outlier:- [49.06, 48.07, 47.52, 46.75, 47.41, 46.7, 50.38, 47.6, 52.58, 47.74, 53.13]\n"
     ]
    }
   ],
   "source": [
    "IQR = Q3-Q1   \n",
    "LOWER_FENCE = Q1-1.5*IQR\n",
    "UPPER_FENCE =  Q3 + 1.5*IQR\n",
    "print('lower fence:-',LOWER_FENCE)\n",
    "print('Upper fence:-',UPPER_FENCE)\n",
    "outlier = []\n",
    "for i in data['BMI']:\n",
    "     if (i>UPPER_FENCE)or (i<LOWER_FENCE):\n",
    "          outlier.append(i)\n",
    "print('outlier:-',outlier)"
   ]
  },
  {
   "cell_type": "code",
   "execution_count": 27,
   "id": "8d81745c",
   "metadata": {},
   "outputs": [],
   "source": [
    "df =  data[data['BMI']<UPPER_FENCE]"
   ]
  },
  {
   "cell_type": "code",
   "execution_count": 28,
   "id": "05a49781",
   "metadata": {},
   "outputs": [
    {
     "data": {
      "text/plain": [
       "(1327, 7)"
      ]
     },
     "execution_count": 28,
     "metadata": {},
     "output_type": "execute_result"
    }
   ],
   "source": [
    "df.shape"
   ]
  },
  {
   "cell_type": "code",
   "execution_count": 29,
   "id": "830efcf5",
   "metadata": {},
   "outputs": [
    {
     "data": {
      "application/vnd.plotly.v1+json": {
       "config": {
        "plotlyServerURL": "https://plot.ly"
       },
       "data": [
        {
         "alignmentgroup": "True",
         "hovertemplate": "BMI=%{y}<extra></extra>",
         "legendgroup": "",
         "marker": {
          "color": "#636efa"
         },
         "name": "",
         "notched": false,
         "offsetgroup": "",
         "orientation": "v",
         "showlegend": false,
         "type": "box",
         "x0": " ",
         "xaxis": "x",
         "y": [
          30.305,
          33.77,
          33,
          22.705,
          28.88,
          25.74,
          33.44,
          27.74,
          29.83,
          25.84,
          26.22,
          26.29,
          34.4,
          39.82,
          42.13,
          24.6,
          30.78,
          23.845,
          40.3,
          35.3,
          36.005,
          32.4,
          34.1,
          31.92,
          28.025,
          27.72,
          23.085,
          32.775,
          17.385,
          36.3,
          35.6,
          26.315,
          28.6,
          28.31,
          36.4,
          20.425,
          32.965,
          20.8,
          36.67,
          39.9,
          26.6,
          36.63,
          21.78,
          30.8,
          37.05,
          37.3,
          38.665,
          34.77,
          24.53,
          35.2,
          35.625,
          33.63,
          28,
          34.43,
          28.69,
          36.955,
          31.825,
          31.68,
          22.88,
          30.305,
          27.36,
          33.66,
          24.7,
          25.935,
          22.42,
          28.9,
          39.1,
          26.315,
          36.19,
          23.98,
          24.75,
          28.5,
          28.1,
          32.01,
          27.4,
          34.01,
          29.59,
          35.53,
          39.805,
          32.965,
          26.885,
          38.285,
          37.62,
          41.23,
          34.8,
          22.895,
          31.16,
          27.2,
          27.74,
          26.98,
          39.49,
          24.795,
          29.83,
          34.77,
          31.3,
          37.62,
          30.8,
          38.28,
          19.95,
          19.3,
          31.6,
          25.46,
          30.115,
          29.92,
          27.5,
          28.025,
          28.4,
          30.305,
          27.94,
          35.09,
          33.63,
          29.7,
          30.8,
          35.72,
          32.205,
          28.595,
          27.94,
          27.17,
          23.37,
          37.1,
          23.75,
          28.975,
          31.35,
          33.915,
          28.785,
          28.3,
          37.4,
          17.765,
          34.7,
          30.305,
          22.04,
          35.9,
          25.555,
          28.785,
          28.05,
          34.1,
          25.175,
          31.9,
          36,
          22.42,
          32.49,
          25.3,
          29.735,
          28.69,
          38.83,
          30.495,
          37.73,
          37.43,
          28.4,
          24.13,
          29.7,
          37.145,
          23.37,
          25.46,
          39.52,
          24.42,
          25.175,
          35.53,
          30.305,
          26.6,
          36.85,
          39.6,
          29.8,
          29.64,
          28.215,
          37,
          33.155,
          31.825,
          18.905,
          41.47,
          30.3,
          15.96,
          34.8,
          33.345,
          37.7,
          27.835,
          29.2,
          28.9,
          33.155,
          28.595,
          38.28,
          19.95,
          26.41,
          30.69,
          41.895,
          29.92,
          30.9,
          32.2,
          32.11,
          31.57,
          26.2,
          25.74,
          26.6,
          34.43,
          30.59,
          32.8,
          28.6,
          18.05,
          39.33,
          32.11,
          32.23,
          24.035,
          36.08,
          22.3,
          28.88,
          26.4,
          27.74,
          31.8,
          41.23,
          33,
          30.875,
          28.5,
          26.73,
          30.9,
          37.1,
          26.6,
          23.1,
          29.92,
          23.21,
          33.7,
          33.25,
          30.8,
          34.8,
          24.64,
          33.88,
          38.06,
          41.91,
          31.635,
          25.46,
          36.195,
          27.83,
          17.8,
          27.5,
          24.51,
          22.22,
          26.73,
          38.39,
          29.07,
          38.06,
          36.67,
          22.135,
          26.8,
          35.3,
          27.74,
          30.02,
          38.06,
          35.86,
          20.9,
          28.975,
          30.305,
          32.2,
          34.21,
          30.3,
          31.825,
          25.365,
          33.63,
          40.15,
          24.415,
          31.92,
          25.2,
          26.84,
          24.32,
          36.955,
          38.06,
          42.35,
          19.8,
          32.395,
          30.2,
          25.84,
          29.37,
          34.2,
          37.05,
          27.455,
          27.55,
          26.6,
          20.615,
          24.3,
          31.79,
          21.56,
          28.12,
          40.565,
          27.645,
          32.395,
          31.2,
          26.62,
          26.22,
          36.765,
          26.4,
          33.4,
          29.64,
          45.54,
          28.82,
          26.8,
          22.99,
          27.7,
          25.41,
          34.39,
          28.88,
          27.55,
          22.61,
          37.51,
          33,
          38,
          33.345,
          27.5,
          33.33,
          34.865,
          33.06,
          26.6,
          24.7,
          30.305,
          35.86,
          31.4,
          33.25,
          32.205,
          32.775,
          27.645,
          37.335,
          25.27,
          29.64,
          30.8,
          40.945,
          27.2,
          34.105,
          23.21,
          36.48,
          33.8,
          36.7,
          36.385,
          27.36,
          31.16,
          28.785,
          35.72,
          34.5,
          25.74,
          27.55,
          32.3,
          27.72,
          27.6,
          30.02,
          27.55,
          36.765,
          41.47,
          29.26,
          35.75,
          33.345,
          29.92,
          27.835,
          23.18,
          25.6,
          27.7,
          35.245,
          38.28,
          27.6,
          43.89,
          29.83,
          41.91,
          20.79,
          32.3,
          30.5,
          21.7,
          26.4,
          21.89,
          30.78,
          32.3,
          24.985,
          32.015,
          30.4,
          21.09,
          22.23,
          33.155,
          32.9,
          33.33,
          28.31,
          24.89,
          40.15,
          30.115,
          31.46,
          17.955,
          30.685,
          33,
          43.34,
          22.135,
          34.4,
          39.05,
          25.365,
          22.61,
          30.21,
          35.625,
          37.43,
          31.445,
          31.35,
          32.3,
          19.855,
          34.4,
          31.02,
          25.6,
          38.17,
          20.6,
          32.965,
          32.3,
          20.4,
          30.305,
          24.31,
          23.6,
          21.12,
          30.03,
          17.48,
          20.235,
          17.195,
          23.9,
          35.15,
          35.64,
          34.1,
          22.6,
          39.16,
          26.98,
          33.88,
          35.86,
          32.775,
          30.59,
          30.2,
          24.31,
          27.265,
          29.165,
          16.815,
          30.4,
          33.1,
          20.235,
          26.9,
          30.5,
          28.595,
          33.11,
          31.73,
          28.9,
          29.45,
          32.68,
          33.5,
          43.01,
          36.52,
          26.695,
          33.1,
          29.64,
          25.65,
          29.6,
          38.6,
          29.6,
          24.13,
          23.4,
          29.735,
          46.53,
          37.4,
          30.14,
          30.495,
          39.6,
          33,
          30.305,
          30,
          38.095,
          25.935,
          25.175,
          28.38,
          28.7,
          33.82,
          24.32,
          24.09,
          32.67,
          30.115,
          29.8,
          33.345,
          25.1,
          28.31,
          28.5,
          35.625,
          36.85,
          32.56,
          41.325,
          37.51,
          31.35,
          39.5,
          34.3,
          31.065,
          21.47,
          28.7,
          38.06,
          31.16,
          32.9,
          25.08,
          25.08,
          43.4,
          25.7,
          27.93,
          23.6,
          28.7,
          23.98,
          39.2,
          34.4,
          26.03,
          23.21,
          30.25,
          28.93,
          30.875,
          31.35,
          23.75,
          25.27,
          28.7,
          32.11,
          33.66,
          22.42,
          30.4,
          28.3,
          35.7,
          30.305,
          30.495,
          31,
          30.875,
          27.36,
          44.22,
          33.915,
          37.73,
          26.07,
          33.88,
          30.59,
          25.8,
          39.425,
          25.46,
          42.13,
          31.73,
          29.7,
          36.19,
          40.48,
          28.025,
          38.9,
          30.2,
          28.05,
          31.35,
          38,
          31.79,
          36.3,
          30.21,
          25.84,
          35.435,
          28.595,
          46.2,
          30.8,
          28.93,
          21.4,
          31.73,
          41.325,
          23.8,
          33.44,
          34.21,
          30.305,
          35.53,
          19.95,
          32.68,
          30.5,
          44.77,
          32.12,
          30.495,
          40.565,
          30.59,
          31.9,
          40.565,
          29.1,
          37.29,
          43.12,
          36.86,
          34.295,
          27.17,
          26.84,
          38.095,
          30.2,
          23.465,
          25.46,
          30.59,
          45.43,
          23.65,
          20.7,
          28.27,
          20.235,
          30.21,
          35.91,
          30.69,
          29,
          19.57,
          31.13,
          21.85,
          40.26,
          33.725,
          29.48,
          33.25,
          32.6,
          37.525,
          39.16,
          31.635,
          25.3,
          39.05,
          28.31,
          34.1,
          25.175,
          23.655,
          26.98,
          37.8,
          29.37,
          34.8,
          33.155,
          19,
          33,
          36.63,
          28.595,
          25.6,
          33.11,
          37.1,
          31.4,
          34.1,
          21.3,
          33.535,
          28.785,
          26.03,
          28.88,
          42.46,
          38,
          38.95,
          36.1,
          29.3,
          35.53,
          22.705,
          39.7,
          38.19,
          24.51,
          38.095,
          26.41,
          33.66,
          42.4,
          28.31,
          30.305,
          34.96,
          35.31,
          30.78,
          26.22,
          23.37,
          28.5,
          32.965,
          42.68,
          39.6,
          31.13,
          36.3,
          35.2,
          25.3,
          42.4,
          33.155,
          35.91,
          28.785,
          46.53,
          23.98,
          31.54,
          33.66,
          22.99,
          38.06,
          28.7,
          32.775,
          32.015,
          29.81,
          31.57,
          31.16,
          29.7,
          31.02,
          43.89,
          21.375,
          40.81,
          31.35,
          36.1,
          23.18,
          17.4,
          20.3,
          35.3,
          24.32,
          18.5,
          26.41,
          26.125,
          41.69,
          24.1,
          31.13,
          27.36,
          36.2,
          32.395,
          23.655,
          34.8,
          40.185,
          32.3,
          35.75,
          33.725,
          39.27,
          34.87,
          44.745,
          41.47,
          26.41,
          29.545,
          32.9,
          38.06,
          28.69,
          30.495,
          30.305,
          35.2,
          23.54,
          30.685,
          40.47,
          22.6,
          28.9,
          22.61,
          24.32,
          36.67,
          33.44,
          40.66,
          36.6,
          37.4,
          35.4,
          27.075,
          39.05,
          28.405,
          21.755,
          40.28,
          36.08,
          24.42,
          21.4,
          30.1,
          27.265,
          32.1,
          34.77,
          38.39,
          23.7,
          31.73,
          30.305,
          24.035,
          29.15,
          34.105,
          26.62,
          26.41,
          30.115,
          27,
          21.755,
          36,
          30.875,
          26.4,
          28.975,
          37.905,
          22.77,
          33.63,
          27.645,
          22.8,
          27.83,
          37.43,
          38.17,
          34.58,
          35.2,
          27.1,
          26.03,
          25.175,
          31.825,
          32.3,
          30.305,
          39.7,
          19.475,
          36.1,
          26.7,
          36.48,
          28.88,
          34.2,
          33.33,
          32.3,
          39.805,
          34.32,
          28.88,
          24.4,
          41.14,
          35.97,
          27.6,
          29.26,
          27.7,
          36.955,
          36.86,
          22.515,
          29.92,
          41.8,
          27.6,
          23.18,
          20.9,
          31.92,
          28.5,
          44.22,
          22.895,
          33.1,
          24.795,
          26.18,
          35.97,
          22.3,
          42.24,
          26.51,
          35.815,
          41.42,
          36.575,
          30.14,
          25.84,
          30.8,
          42.94,
          21.01,
          22.515,
          34.43,
          31.46,
          24.225,
          37.1,
          26.125,
          35.53,
          33.7,
          17.67,
          31.13,
          29.81,
          24.32,
          31.825,
          31.79,
          28.025,
          30.78,
          21.85,
          33.1,
          25.84,
          23.845,
          34.39,
          33.82,
          35.97,
          30.305,
          28.31,
          23.465,
          31.35,
          31.1,
          24.7,
          32.78,
          29.81,
          30.495,
          32.45,
          34.2,
          24.1,
          32.775,
          30.78,
          32.3,
          35.53,
          23.75,
          23.845,
          29.6,
          33.11,
          24.13,
          32.23,
          28.1,
          28,
          33.535,
          19.855,
          25.4,
          29.9,
          37.29,
          43.7,
          23.655,
          24.3,
          36.2,
          29.48,
          24.86,
          30.1,
          21.85,
          28.12,
          27.1,
          33.44,
          28.8,
          29.5,
          34.8,
          27.36,
          22.135,
          37.05,
          26.695,
          28.93,
          28.975,
          30.02,
          39.5,
          33.63,
          26.885,
          29.04,
          24.035,
          38.94,
          32.11,
          44,
          20.045,
          25.555,
          40.26,
          22.515,
          22.515,
          40.92,
          27.265,
          36.85,
          35.1,
          29.355,
          32.585,
          32.34,
          39.8,
          24.6,
          28.31,
          31.73,
          26.695,
          27.5,
          24.605,
          33.99,
          26.885,
          22.895,
          28.2,
          34.21,
          25,
          33.2,
          31,
          35.815,
          23.2,
          32.11,
          23.4,
          20.1,
          39.16,
          34.21,
          46.53,
          32.5,
          25.8,
          30.305,
          37.18,
          27.5,
          29.735,
          24.225,
          26.18,
          29.48,
          23.21,
          46.09,
          40.185,
          22.61,
          39.93,
          35.8,
          35.8,
          34.2,
          31.255,
          29.7,
          18.335,
          42.9,
          28.405,
          30.2,
          27.835,
          39.49,
          30.8,
          26.79,
          34.96,
          36.67,
          39.615,
          25.9,
          35.2,
          24.795,
          36.765,
          27.1,
          24.795,
          25.365,
          25.745,
          34.32,
          28.16,
          23.56,
          20.235,
          40.5,
          35.42,
          22.895,
          40.15,
          29.15,
          39.995,
          29.92,
          25.46,
          21.375,
          25.9,
          30.59,
          30.115,
          25.8,
          30.115,
          27.645,
          34.675,
          20.52,
          19.8,
          27.835,
          31.6,
          28.27,
          20.045,
          23.275,
          34.1,
          36.85,
          36.29,
          26.885,
          22.99,
          32.7,
          25.8,
          29.6,
          19.19,
          31.73,
          29.26,
          28.215,
          24.985,
          27.74,
          22.8,
          20.13,
          33.33,
          32.3,
          27.6,
          25.46,
          24.605,
          34.2,
          35.815,
          32.68,
          30.305,
          31.02,
          36.08,
          23.32,
          45.32,
          34.6,
          26.03,
          18.715,
          31.6,
          17.29,
          23.655,
          35.2,
          27.93,
          21.565,
          38.38,
          23,
          37.07,
          30.495,
          28.88,
          27.265,
          28.025,
          23.085,
          30.685,
          25.8,
          35.245,
          24.7,
          25.08,
          22.515,
          30.9,
          36.955,
          26.41,
          29.83,
          29.8,
          21.47,
          27.645,
          28.9,
          31.79,
          39.49,
          33.82,
          32.01,
          27.94,
          41.14,
          30.305,
          25.6,
          25.3,
          37.29,
          42.655,
          21.66,
          31.9,
          37.07,
          31.445,
          31.255,
          28.88,
          18.335,
          29.59,
          32,
          26.03,
          31.68,
          33.66,
          21.78,
          27.835,
          19.95,
          31.5,
          30.495,
          18.3,
          28.975,
          31.54,
          22.1,
          36.19,
          29.83,
          32.7,
          30.4,
          33.7,
          31.35,
          34.96,
          33.77,
          30.875,
          33.99,
          19.095,
          28.6,
          38.94,
          36.08,
          29.8,
          31.24,
          29.925,
          30.305,
          30,
          20.35,
          32.3,
          38.39,
          25.85,
          26.315,
          24.51,
          32.67,
          29.64,
          33.33,
          35.75,
          19.95,
          31.4,
          38.17,
          36.86,
          32.395,
          42.75,
          25.08,
          29.9,
          35.86,
          32.8,
          18.6,
          23.87,
          45.9,
          40.28,
          18.335,
          33.82,
          28.12,
          25,
          22.23,
          30.25,
          32.49,
          37.07,
          32.6,
          24.86,
          32.34,
          32.3,
          32.775,
          32.8,
          31.92,
          21.5,
          34.1,
          30.305,
          36.48,
          32.56,
          35.815,
          27.93,
          22.135,
          44.88,
          23.18,
          30.59,
          41.1,
          34.58,
          42.13,
          38.83,
          28.215,
          28.31,
          26.125,
          40.37,
          24.6,
          30.305,
          34.105,
          27.36,
          26.7,
          41.91,
          29.26,
          32.11,
          27.1,
          24.13,
          27.4,
          34.865,
          29.81,
          41.325,
          29.925,
          30.3,
          27.36,
          28.49,
          23.56,
          35.625,
          32.68,
          25.27,
          28,
          32.775,
          21.755,
          32.395,
          36.575,
          21.755,
          27.93,
          30.02,
          33.55,
          29.355,
          25.8,
          24.32,
          40.375,
          32.11,
          32.3,
          27.28,
          17.86,
          34.8,
          33.4,
          25.555,
          37.1,
          30.875,
          34.1,
          21.47,
          33.3,
          31.255,
          39.14,
          25.08,
          37.29,
          34.6,
          30.21,
          21.945,
          24.97,
          25.3,
          24.42,
          23.94,
          39.82,
          16.815,
          37.18,
          34.43,
          30.305,
          34.485,
          21.8,
          24.605,
          23.3,
          27.83,
          31.065,
          21.66,
          28.215,
          22.705,
          42.13,
          41.8,
          36.96,
          21.28,
          33.11,
          33.33,
          24.3,
          25.7,
          29.4,
          39.82,
          33.63,
          29.83,
          19.8,
          27.3,
          29.3,
          27.72,
          37.9,
          36.385,
          27.645,
          37.715,
          23.18,
          20.52,
          37.1,
          28.05,
          30.305,
          33.345,
          23.76,
          30.5,
          31.065,
          33.3,
          27.5,
          33.915,
          34.485,
          25.52,
          27.61,
          27.06,
          23.7,
          30.4,
          29.735,
          29.925,
          26.79,
          33.33,
          27.645,
          21.66,
          30.03,
          36.3,
          24.32,
          17.29,
          25.9,
          39.4,
          34.32,
          19.95,
          34.9,
          23.21,
          25.745,
          25.175,
          22,
          26.125,
          26.51,
          27.455,
          25.745,
          30.36,
          30.875,
          20.8,
          27.8,
          24.605,
          27.72,
          21.85,
          28.12,
          30.2,
          32.2,
          26.315,
          26.695,
          42.9,
          34.7,
          23.655,
          28.31,
          20.6,
          39.71,
          26.315,
          31.065,
          26.695,
          38.83,
          30.305,
          25.935,
          33.535,
          32.87,
          30.03,
          24.225,
          38.6,
          25.74,
          33.4,
          44.7,
          30.97,
          31.92,
          36.85,
          25.8,
          29.07
         ],
         "y0": " ",
         "yaxis": "y"
        }
       ],
       "layout": {
        "boxmode": "group",
        "legend": {
         "tracegroupgap": 0
        },
        "margin": {
         "t": 60
        },
        "template": {
         "data": {
          "bar": [
           {
            "error_x": {
             "color": "#2a3f5f"
            },
            "error_y": {
             "color": "#2a3f5f"
            },
            "marker": {
             "line": {
              "color": "#E5ECF6",
              "width": 0.5
             },
             "pattern": {
              "fillmode": "overlay",
              "size": 10,
              "solidity": 0.2
             }
            },
            "type": "bar"
           }
          ],
          "barpolar": [
           {
            "marker": {
             "line": {
              "color": "#E5ECF6",
              "width": 0.5
             },
             "pattern": {
              "fillmode": "overlay",
              "size": 10,
              "solidity": 0.2
             }
            },
            "type": "barpolar"
           }
          ],
          "carpet": [
           {
            "aaxis": {
             "endlinecolor": "#2a3f5f",
             "gridcolor": "white",
             "linecolor": "white",
             "minorgridcolor": "white",
             "startlinecolor": "#2a3f5f"
            },
            "baxis": {
             "endlinecolor": "#2a3f5f",
             "gridcolor": "white",
             "linecolor": "white",
             "minorgridcolor": "white",
             "startlinecolor": "#2a3f5f"
            },
            "type": "carpet"
           }
          ],
          "choropleth": [
           {
            "colorbar": {
             "outlinewidth": 0,
             "ticks": ""
            },
            "type": "choropleth"
           }
          ],
          "contour": [
           {
            "colorbar": {
             "outlinewidth": 0,
             "ticks": ""
            },
            "colorscale": [
             [
              0,
              "#0d0887"
             ],
             [
              0.1111111111111111,
              "#46039f"
             ],
             [
              0.2222222222222222,
              "#7201a8"
             ],
             [
              0.3333333333333333,
              "#9c179e"
             ],
             [
              0.4444444444444444,
              "#bd3786"
             ],
             [
              0.5555555555555556,
              "#d8576b"
             ],
             [
              0.6666666666666666,
              "#ed7953"
             ],
             [
              0.7777777777777778,
              "#fb9f3a"
             ],
             [
              0.8888888888888888,
              "#fdca26"
             ],
             [
              1,
              "#f0f921"
             ]
            ],
            "type": "contour"
           }
          ],
          "contourcarpet": [
           {
            "colorbar": {
             "outlinewidth": 0,
             "ticks": ""
            },
            "type": "contourcarpet"
           }
          ],
          "heatmap": [
           {
            "colorbar": {
             "outlinewidth": 0,
             "ticks": ""
            },
            "colorscale": [
             [
              0,
              "#0d0887"
             ],
             [
              0.1111111111111111,
              "#46039f"
             ],
             [
              0.2222222222222222,
              "#7201a8"
             ],
             [
              0.3333333333333333,
              "#9c179e"
             ],
             [
              0.4444444444444444,
              "#bd3786"
             ],
             [
              0.5555555555555556,
              "#d8576b"
             ],
             [
              0.6666666666666666,
              "#ed7953"
             ],
             [
              0.7777777777777778,
              "#fb9f3a"
             ],
             [
              0.8888888888888888,
              "#fdca26"
             ],
             [
              1,
              "#f0f921"
             ]
            ],
            "type": "heatmap"
           }
          ],
          "heatmapgl": [
           {
            "colorbar": {
             "outlinewidth": 0,
             "ticks": ""
            },
            "colorscale": [
             [
              0,
              "#0d0887"
             ],
             [
              0.1111111111111111,
              "#46039f"
             ],
             [
              0.2222222222222222,
              "#7201a8"
             ],
             [
              0.3333333333333333,
              "#9c179e"
             ],
             [
              0.4444444444444444,
              "#bd3786"
             ],
             [
              0.5555555555555556,
              "#d8576b"
             ],
             [
              0.6666666666666666,
              "#ed7953"
             ],
             [
              0.7777777777777778,
              "#fb9f3a"
             ],
             [
              0.8888888888888888,
              "#fdca26"
             ],
             [
              1,
              "#f0f921"
             ]
            ],
            "type": "heatmapgl"
           }
          ],
          "histogram": [
           {
            "marker": {
             "pattern": {
              "fillmode": "overlay",
              "size": 10,
              "solidity": 0.2
             }
            },
            "type": "histogram"
           }
          ],
          "histogram2d": [
           {
            "colorbar": {
             "outlinewidth": 0,
             "ticks": ""
            },
            "colorscale": [
             [
              0,
              "#0d0887"
             ],
             [
              0.1111111111111111,
              "#46039f"
             ],
             [
              0.2222222222222222,
              "#7201a8"
             ],
             [
              0.3333333333333333,
              "#9c179e"
             ],
             [
              0.4444444444444444,
              "#bd3786"
             ],
             [
              0.5555555555555556,
              "#d8576b"
             ],
             [
              0.6666666666666666,
              "#ed7953"
             ],
             [
              0.7777777777777778,
              "#fb9f3a"
             ],
             [
              0.8888888888888888,
              "#fdca26"
             ],
             [
              1,
              "#f0f921"
             ]
            ],
            "type": "histogram2d"
           }
          ],
          "histogram2dcontour": [
           {
            "colorbar": {
             "outlinewidth": 0,
             "ticks": ""
            },
            "colorscale": [
             [
              0,
              "#0d0887"
             ],
             [
              0.1111111111111111,
              "#46039f"
             ],
             [
              0.2222222222222222,
              "#7201a8"
             ],
             [
              0.3333333333333333,
              "#9c179e"
             ],
             [
              0.4444444444444444,
              "#bd3786"
             ],
             [
              0.5555555555555556,
              "#d8576b"
             ],
             [
              0.6666666666666666,
              "#ed7953"
             ],
             [
              0.7777777777777778,
              "#fb9f3a"
             ],
             [
              0.8888888888888888,
              "#fdca26"
             ],
             [
              1,
              "#f0f921"
             ]
            ],
            "type": "histogram2dcontour"
           }
          ],
          "mesh3d": [
           {
            "colorbar": {
             "outlinewidth": 0,
             "ticks": ""
            },
            "type": "mesh3d"
           }
          ],
          "parcoords": [
           {
            "line": {
             "colorbar": {
              "outlinewidth": 0,
              "ticks": ""
             }
            },
            "type": "parcoords"
           }
          ],
          "pie": [
           {
            "automargin": true,
            "type": "pie"
           }
          ],
          "scatter": [
           {
            "fillpattern": {
             "fillmode": "overlay",
             "size": 10,
             "solidity": 0.2
            },
            "type": "scatter"
           }
          ],
          "scatter3d": [
           {
            "line": {
             "colorbar": {
              "outlinewidth": 0,
              "ticks": ""
             }
            },
            "marker": {
             "colorbar": {
              "outlinewidth": 0,
              "ticks": ""
             }
            },
            "type": "scatter3d"
           }
          ],
          "scattercarpet": [
           {
            "marker": {
             "colorbar": {
              "outlinewidth": 0,
              "ticks": ""
             }
            },
            "type": "scattercarpet"
           }
          ],
          "scattergeo": [
           {
            "marker": {
             "colorbar": {
              "outlinewidth": 0,
              "ticks": ""
             }
            },
            "type": "scattergeo"
           }
          ],
          "scattergl": [
           {
            "marker": {
             "colorbar": {
              "outlinewidth": 0,
              "ticks": ""
             }
            },
            "type": "scattergl"
           }
          ],
          "scattermapbox": [
           {
            "marker": {
             "colorbar": {
              "outlinewidth": 0,
              "ticks": ""
             }
            },
            "type": "scattermapbox"
           }
          ],
          "scatterpolar": [
           {
            "marker": {
             "colorbar": {
              "outlinewidth": 0,
              "ticks": ""
             }
            },
            "type": "scatterpolar"
           }
          ],
          "scatterpolargl": [
           {
            "marker": {
             "colorbar": {
              "outlinewidth": 0,
              "ticks": ""
             }
            },
            "type": "scatterpolargl"
           }
          ],
          "scatterternary": [
           {
            "marker": {
             "colorbar": {
              "outlinewidth": 0,
              "ticks": ""
             }
            },
            "type": "scatterternary"
           }
          ],
          "surface": [
           {
            "colorbar": {
             "outlinewidth": 0,
             "ticks": ""
            },
            "colorscale": [
             [
              0,
              "#0d0887"
             ],
             [
              0.1111111111111111,
              "#46039f"
             ],
             [
              0.2222222222222222,
              "#7201a8"
             ],
             [
              0.3333333333333333,
              "#9c179e"
             ],
             [
              0.4444444444444444,
              "#bd3786"
             ],
             [
              0.5555555555555556,
              "#d8576b"
             ],
             [
              0.6666666666666666,
              "#ed7953"
             ],
             [
              0.7777777777777778,
              "#fb9f3a"
             ],
             [
              0.8888888888888888,
              "#fdca26"
             ],
             [
              1,
              "#f0f921"
             ]
            ],
            "type": "surface"
           }
          ],
          "table": [
           {
            "cells": {
             "fill": {
              "color": "#EBF0F8"
             },
             "line": {
              "color": "white"
             }
            },
            "header": {
             "fill": {
              "color": "#C8D4E3"
             },
             "line": {
              "color": "white"
             }
            },
            "type": "table"
           }
          ]
         },
         "layout": {
          "annotationdefaults": {
           "arrowcolor": "#2a3f5f",
           "arrowhead": 0,
           "arrowwidth": 1
          },
          "autotypenumbers": "strict",
          "coloraxis": {
           "colorbar": {
            "outlinewidth": 0,
            "ticks": ""
           }
          },
          "colorscale": {
           "diverging": [
            [
             0,
             "#8e0152"
            ],
            [
             0.1,
             "#c51b7d"
            ],
            [
             0.2,
             "#de77ae"
            ],
            [
             0.3,
             "#f1b6da"
            ],
            [
             0.4,
             "#fde0ef"
            ],
            [
             0.5,
             "#f7f7f7"
            ],
            [
             0.6,
             "#e6f5d0"
            ],
            [
             0.7,
             "#b8e186"
            ],
            [
             0.8,
             "#7fbc41"
            ],
            [
             0.9,
             "#4d9221"
            ],
            [
             1,
             "#276419"
            ]
           ],
           "sequential": [
            [
             0,
             "#0d0887"
            ],
            [
             0.1111111111111111,
             "#46039f"
            ],
            [
             0.2222222222222222,
             "#7201a8"
            ],
            [
             0.3333333333333333,
             "#9c179e"
            ],
            [
             0.4444444444444444,
             "#bd3786"
            ],
            [
             0.5555555555555556,
             "#d8576b"
            ],
            [
             0.6666666666666666,
             "#ed7953"
            ],
            [
             0.7777777777777778,
             "#fb9f3a"
            ],
            [
             0.8888888888888888,
             "#fdca26"
            ],
            [
             1,
             "#f0f921"
            ]
           ],
           "sequentialminus": [
            [
             0,
             "#0d0887"
            ],
            [
             0.1111111111111111,
             "#46039f"
            ],
            [
             0.2222222222222222,
             "#7201a8"
            ],
            [
             0.3333333333333333,
             "#9c179e"
            ],
            [
             0.4444444444444444,
             "#bd3786"
            ],
            [
             0.5555555555555556,
             "#d8576b"
            ],
            [
             0.6666666666666666,
             "#ed7953"
            ],
            [
             0.7777777777777778,
             "#fb9f3a"
            ],
            [
             0.8888888888888888,
             "#fdca26"
            ],
            [
             1,
             "#f0f921"
            ]
           ]
          },
          "colorway": [
           "#636efa",
           "#EF553B",
           "#00cc96",
           "#ab63fa",
           "#FFA15A",
           "#19d3f3",
           "#FF6692",
           "#B6E880",
           "#FF97FF",
           "#FECB52"
          ],
          "font": {
           "color": "#2a3f5f"
          },
          "geo": {
           "bgcolor": "white",
           "lakecolor": "white",
           "landcolor": "#E5ECF6",
           "showlakes": true,
           "showland": true,
           "subunitcolor": "white"
          },
          "hoverlabel": {
           "align": "left"
          },
          "hovermode": "closest",
          "mapbox": {
           "style": "light"
          },
          "paper_bgcolor": "white",
          "plot_bgcolor": "#E5ECF6",
          "polar": {
           "angularaxis": {
            "gridcolor": "white",
            "linecolor": "white",
            "ticks": ""
           },
           "bgcolor": "#E5ECF6",
           "radialaxis": {
            "gridcolor": "white",
            "linecolor": "white",
            "ticks": ""
           }
          },
          "scene": {
           "xaxis": {
            "backgroundcolor": "#E5ECF6",
            "gridcolor": "white",
            "gridwidth": 2,
            "linecolor": "white",
            "showbackground": true,
            "ticks": "",
            "zerolinecolor": "white"
           },
           "yaxis": {
            "backgroundcolor": "#E5ECF6",
            "gridcolor": "white",
            "gridwidth": 2,
            "linecolor": "white",
            "showbackground": true,
            "ticks": "",
            "zerolinecolor": "white"
           },
           "zaxis": {
            "backgroundcolor": "#E5ECF6",
            "gridcolor": "white",
            "gridwidth": 2,
            "linecolor": "white",
            "showbackground": true,
            "ticks": "",
            "zerolinecolor": "white"
           }
          },
          "shapedefaults": {
           "line": {
            "color": "#2a3f5f"
           }
          },
          "ternary": {
           "aaxis": {
            "gridcolor": "white",
            "linecolor": "white",
            "ticks": ""
           },
           "baxis": {
            "gridcolor": "white",
            "linecolor": "white",
            "ticks": ""
           },
           "bgcolor": "#E5ECF6",
           "caxis": {
            "gridcolor": "white",
            "linecolor": "white",
            "ticks": ""
           }
          },
          "title": {
           "x": 0.05
          },
          "xaxis": {
           "automargin": true,
           "gridcolor": "white",
           "linecolor": "white",
           "ticks": "",
           "title": {
            "standoff": 15
           },
           "zerolinecolor": "white",
           "zerolinewidth": 2
          },
          "yaxis": {
           "automargin": true,
           "gridcolor": "white",
           "linecolor": "white",
           "ticks": "",
           "title": {
            "standoff": 15
           },
           "zerolinecolor": "white",
           "zerolinewidth": 2
          }
         }
        },
        "xaxis": {
         "anchor": "y",
         "domain": [
          0,
          1
         ]
        },
        "yaxis": {
         "anchor": "x",
         "domain": [
          0,
          1
         ],
         "title": {
          "text": "BMI"
         }
        }
       }
      }
     },
     "metadata": {},
     "output_type": "display_data"
    }
   ],
   "source": [
    "fig= px.box(df,y='BMI')\n",
    "fig.show()"
   ]
  },
  {
   "cell_type": "code",
   "execution_count": 30,
   "id": "71508425",
   "metadata": {},
   "outputs": [
    {
     "name": "stdout",
     "output_type": "stream",
     "text": [
      "quartile one:- 4746.521225\n",
      "quartile two:- 9382.033\n",
      "quartile three:- 16584.318157499998\n"
     ]
    }
   ],
   "source": [
    "Q1 = np.percentile(data['health_insurance_price'],25)\n",
    "Q2  = np.percentile(data['health_insurance_price'],50)\n",
    "Q3  = np.percentile(data['health_insurance_price'],75)\n",
    "print('quartile one:-',Q1)\n",
    "print('quartile two:-',Q2)\n",
    "print('quartile three:-',Q3)"
   ]
  },
  {
   "cell_type": "code",
   "execution_count": 31,
   "id": "02938cde",
   "metadata": {},
   "outputs": [
    {
     "name": "stdout",
     "output_type": "stream",
     "text": [
      "iqr:- 11837.796932499998\n",
      "lower fence:- -13010.174173749994\n",
      "Upper fence:- 34341.01355624999\n",
      "outlier:- [39611.7577, 36837.467, 37701.8768, 38711.0, 35585.576, 51194.55914, 39774.2763, 48173.361, 38709.176, 37742.5757, 47496.49445, 37165.1638, 39836.519, 43578.9394, 47291.055, 47055.5321, 39556.4945, 40720.55105, 36950.2567, 36149.4835, 48824.45, 43753.33705, 37133.8982, 34779.615, 38511.6283, 35160.13457, 47305.305, 44260.7499, 41097.16175, 43921.1837, 36219.40545, 46151.1245, 42856.838, 48549.17835, 47896.79135, 42112.2356, 38746.3551, 42124.5153, 34838.873, 35491.64, 42760.5022, 47928.03, 48517.56315, 41919.097, 36085.219, 38126.2465, 42303.69215, 46889.2612, 46599.1084, 39125.33225, 37079.372, 35147.52848, 48885.13561, 36197.699, 38245.59327, 48675.5177, 63770.42801, 45863.205, 39983.42595, 45702.02235, 58571.07448, 43943.8761, 39241.442, 42969.8527, 34439.8559, 40182.246, 34617.84065, 42983.4585, 42560.4304, 40003.33225, 45710.20785, 46200.9851, 46130.5265, 40103.89, 34806.4677, 40273.6455, 44400.4064, 40932.4295, 40419.0191, 36189.1017, 44585.45587, 43254.41795, 36307.7983, 38792.6856, 55135.40209, 43813.8661, 39597.4072, 36021.0112, 45008.9555, 37270.1512, 42111.6647, 40974.1649, 46113.511, 46255.1125, 44202.6536, 48673.5588, 35069.37452, 39047.285, 47462.894, 38998.546, 41999.52, 41034.2214, 34472.841, 36580.28216, 35595.5898, 42211.1382, 44423.803, 37484.4493, 39725.51805, 44501.3982, 39727.614, 48970.2476, 39871.7043, 34672.1472, 41676.0811, 44641.1974, 41949.2441, 36124.5737, 38282.7495, 46661.4424, 40904.1995, 36898.73308, 52590.82939, 40941.2854, 39722.7462, 37465.34375, 36910.60803, 38415.474, 41661.602, 60021.39897, 47269.854, 49577.6624, 37607.5277, 47403.88, 38344.566, 34828.654, 62592.87309, 46718.16325, 37829.7242, 36397.576, 43896.3763]\n"
     ]
    }
   ],
   "source": [
    "IQR = Q3-Q1\n",
    "LOWER_FENCE = Q1-1.5*IQR\n",
    "UPPER_FENCE =  Q3 + 1.5*IQR\n",
    "print('iqr:-',IQR)\n",
    "print('lower fence:-',LOWER_FENCE)\n",
    "print('Upper fence:-',UPPER_FENCE)\n",
    "outlier = []\n",
    "for i in data['health_insurance_price']:\n",
    "     if (i>UPPER_FENCE)or (i<LOWER_FENCE):\n",
    "          outlier.append(i)\n",
    "print('outlier:-',outlier)"
   ]
  },
  {
   "cell_type": "code",
   "execution_count": 32,
   "id": "36e6bf2d",
   "metadata": {},
   "outputs": [],
   "source": [
    "df =  data[data['health_insurance_price']<UPPER_FENCE]"
   ]
  },
  {
   "cell_type": "code",
   "execution_count": 33,
   "id": "3e1dcf59",
   "metadata": {},
   "outputs": [
    {
     "data": {
      "text/plain": [
       "(1197, 7)"
      ]
     },
     "execution_count": 33,
     "metadata": {},
     "output_type": "execute_result"
    }
   ],
   "source": [
    "df.shape"
   ]
  },
  {
   "cell_type": "code",
   "execution_count": 34,
   "id": "95ca85cf",
   "metadata": {},
   "outputs": [
    {
     "data": {
      "application/vnd.plotly.v1+json": {
       "config": {
        "plotlyServerURL": "https://plot.ly"
       },
       "data": [
        {
         "alignmentgroup": "True",
         "hovertemplate": "health_insurance_price=%{y}<extra></extra>",
         "legendgroup": "",
         "marker": {
          "color": "#636efa"
         },
         "name": "",
         "notched": false,
         "offsetgroup": "",
         "orientation": "v",
         "showlegend": false,
         "type": "box",
         "x0": " ",
         "xaxis": "x",
         "y": [
          16884.924,
          1725.5523,
          4449.462,
          21984.47061,
          3866.8552,
          3756.6216,
          8240.5896,
          7281.5056,
          6406.4107,
          28923.13692,
          2721.3208,
          27808.7251,
          1826.843,
          11090.7178,
          1837.237,
          10797.3362,
          2395.17155,
          10602.385,
          13228.84695,
          4149.736,
          1137.011,
          6203.90175,
          14001.1338,
          14451.83515,
          12268.63225,
          2775.19215,
          2198.18985,
          4687.797,
          13770.0979,
          1625.43375,
          15612.19335,
          2302.3,
          3046.062,
          4949.7587,
          6272.4772,
          6313.759,
          6079.6715,
          20630.28351,
          3393.35635,
          3556.9223,
          12629.8967,
          2211.13075,
          3579.8287,
          23568.272,
          8059.6791,
          13607.36875,
          34303.1672,
          23244.7902,
          5989.52365,
          8606.2174,
          4504.6624,
          30166.61817,
          4133.64165,
          14711.7438,
          1743.214,
          14235.072,
          6389.37785,
          5920.1041,
          17663.1442,
          16577.7795,
          6799.458,
          11741.726,
          11946.6259,
          7726.854,
          11356.6609,
          3947.4131,
          1532.4697,
          2755.02095,
          6571.02435,
          4441.21315,
          7935.29115,
          11033.6617,
          21098.55405,
          11073.176,
          8026.6666,
          11082.5772,
          2026.9741,
          10942.13205,
          30184.9367,
          5729.0053,
          3766.8838,
          12105.32,
          10226.2842,
          22412.6485,
          15820.699,
          6186.127,
          3645.0894,
          21344.8467,
          30942.1918,
          5003.853,
          17560.37975,
          2331.519,
          3877.30425,
          2867.1196,
          10825.2537,
          11881.358,
          4646.759,
          2404.7338,
          11488.31695,
          30259.99556,
          11381.3254,
          19107.7796,
          8601.3293,
          6686.4313,
          7740.337,
          1705.6245,
          2257.47525,
          10115.00885,
          3385.39915,
          17081.08,
          9634.538,
          32734.1863,
          6082.405,
          12815.44495,
          13616.3586,
          11163.568,
          1632.56445,
          2457.21115,
          2155.6815,
          1261.442,
          2045.68525,
          27322.73386,
          2166.732,
          27375.90478,
          3490.5491,
          18972.495,
          18157.876,
          20745.9891,
          5138.2567,
          9877.6077,
          10959.6947,
          1842.519,
          5125.2157,
          7789.635,
          6334.34355,
          19964.7463,
          7077.1894,
          6948.7008,
          21223.6758,
          15518.18025,
          19749.38338,
          21348.706,
          10450.552,
          5152.134,
          5028.1466,
          10407.08585,
          4830.63,
          6128.79745,
          2719.27975,
          4827.90495,
          13405.3903,
          8116.68,
          1694.7964,
          5246.047,
          2855.43755,
          6455.86265,
          10436.096,
          8823.279,
          8538.28845,
          11735.87905,
          1631.8212,
          4005.4225,
          7419.4779,
          7731.4271,
          3981.9768,
          5325.651,
          6775.961,
          4922.9159,
          12557.6053,
          4883.866,
          2137.6536,
          12044.342,
          1137.4697,
          1639.5631,
          5649.715,
          8516.829,
          9644.2525,
          14901.5167,
          2130.6759,
          8871.1517,
          13012.20865,
          7147.105,
          4337.7352,
          11743.299,
          20984.0936,
          13880.949,
          6610.1097,
          1980.07,
          8162.71625,
          3537.703,
          5002.7827,
          8520.026,
          7371.772,
          10355.641,
          2483.736,
          3392.9768,
          25081.76784,
          5012.471,
          10564.8845,
          5253.524,
          19515.5416,
          11987.1682,
          2689.4954,
          24227.33724,
          7358.17565,
          9225.2564,
          7443.64305,
          14001.2867,
          1727.785,
          12333.828,
          6710.1919,
          19444.2658,
          1615.7667,
          4463.2051,
          17352.6803,
          7152.6714,
          5354.07465,
          7196.867,
          29523.1656,
          24476.47851,
          12648.7034,
          1986.9334,
          1832.094,
          4040.55825,
          12829.4551,
          4260.744,
          13047.33235,
          5400.9805,
          11520.09985,
          33750.2918,
          11837.16,
          17085.2676,
          24869.8368,
          20462.99766,
          17179.522,
          14590.63205,
          7441.053,
          9282.4806,
          1719.4363,
          7265.7025,
          9617.66245,
          2523.1695,
          9715.841,
          2803.69785,
          2150.469,
          12928.7911,
          9855.1314,
          22331.5668,
          4237.12655,
          11879.10405,
          9625.92,
          7742.1098,
          9432.9253,
          14256.1928,
          25992.82104,
          3172.018,
          20277.80751,
          2156.7518,
          3906.127,
          1704.5681,
          16297.846,
          21978.6769,
          9249.4952,
          6746.7425,
          24873.3849,
          12265.5069,
          4349.462,
          12646.207,
          19442.3535,
          20177.67113,
          4151.0287,
          11944.59435,
          7749.1564,
          8444.474,
          1737.376,
          8124.4084,
          9722.7695,
          8835.26495,
          10435.06525,
          7421.19455,
          4667.60765,
          4894.7533,
          24671.66334,
          11566.30055,
          2866.091,
          6600.20595,
          3561.8889,
          9144.565,
          24393.6224,
          13429.0354,
          11658.37915,
          19144.57652,
          13822.803,
          12142.5786,
          13937.6665,
          8232.6388,
          18955.22017,
          13352.0998,
          13217.0945,
          13981.85035,
          10977.2063,
          6184.2994,
          4889.9995,
          8334.45755,
          5478.0368,
          1635.73365,
          11830.6072,
          8932.084,
          3554.203,
          12404.8791,
          14133.03775,
          24603.04837,
          8944.1151,
          9620.3307,
          1837.2819,
          1607.5101,
          10043.249,
          4751.07,
          13844.506,
          2597.779,
          3180.5101,
          9778.3472,
          13430.265,
          8017.06115,
          8116.26885,
          3481.868,
          13415.0381,
          12029.2867,
          7639.41745,
          1391.5287,
          18033.9679,
          21659.9301,
          16455.70785,
          27000.98473,
          15006.57945,
          20781.48892,
          5846.9176,
          8302.53565,
          1261.859,
          11856.4115,
          30284.64294,
          3176.8159,
          4618.0799,
          10736.87075,
          2138.0707,
          8964.06055,
          9290.1395,
          9411.005,
          7526.70645,
          8522.003,
          16586.49771,
          14988.432,
          1631.6683,
          9264.797,
          8083.9198,
          14692.66935,
          10269.46,
          3260.199,
          11396.9002,
          4185.0979,
          8539.671,
          6652.5288,
          4074.4537,
          1621.3402,
          19594.80965,
          14455.64405,
          5080.096,
          2134.9015,
          7345.7266,
          9140.951,
          18608.262,
          14418.2804,
          28950.4692,
          2727.3951,
          8968.33,
          9788.8659,
          6555.07035,
          7323.734819,
          3167.45585,
          18804.7524,
          23082.95533,
          4906.40965,
          5969.723,
          12638.195,
          4243.59005,
          13919.8229,
          2254.7967,
          5926.846,
          12592.5345,
          2897.3235,
          4738.2682,
          1149.3959,
          28287.89766,
          26109.32905,
          7345.084,
          12730.9996,
          11454.0215,
          5910.944,
          4762.329,
          7512.267,
          4032.2407,
          1969.614,
          1769.53165,
          4686.3887,
          21797.0004,
          11881.9696,
          11840.77505,
          10601.412,
          7682.67,
          10381.4787,
          22144.032,
          15230.32405,
          11165.41765,
          1632.03625,
          19521.9682,
          13224.693,
          12643.3778,
          23288.9284,
          2201.0971,
          2497.0383,
          2203.47185,
          1744.465,
          20878.78443,
          25382.297,
          28868.6639,
          2534.39375,
          1534.3045,
          1824.2854,
          15555.18875,
          9304.7019,
          1622.1885,
          9880.068,
          9563.029,
          4347.02335,
          12475.3513,
          1253.936,
          10461.9794,
          1748.774,
          24513.09126,
          2196.4732,
          12574.049,
          17942.106,
          1967.0227,
          4931.647,
          8027.968,
          8211.1002,
          13470.86,
          6837.3687,
          22218.1149,
          32548.3405,
          5974.3847,
          6796.86325,
          2643.2685,
          3077.0955,
          3044.2133,
          11455.28,
          11763.0009,
          2498.4144,
          9361.3268,
          1256.299,
          21082.16,
          11362.755,
          27724.28875,
          8413.46305,
          5240.765,
          3857.75925,
          25656.57526,
          3994.1778,
          9866.30485,
          5397.6167,
          11482.63485,
          24059.68019,
          9861.025,
          8342.90875,
          1708.0014,
          14043.4767,
          12925.886,
          19214.70553,
          13831.1152,
          6067.12675,
          5972.378,
          8825.086,
          8233.0975,
          27346.04207,
          6196.448,
          3056.3881,
          13887.204,
          10231.4999,
          23807.2406,
          3268.84665,
          11538.421,
          3213.62205,
          13390.559,
          3972.9247,
          12957.118,
          11187.6567,
          17878.90068,
          3847.674,
          8334.5896,
          3935.1799,
          1646.4297,
          9193.8385,
          10923.9332,
          2494.022,
          9058.7303,
          2801.2588,
          2128.43105,
          6373.55735,
          7256.7231,
          11552.904,
          3761.292,
          2219.4451,
          4753.6368,
          31620.00106,
          13224.05705,
          12222.8983,
          1664.9996,
          9724.53,
          3206.49135,
          12913.9924,
          1639.5631,
          6356.2707,
          17626.23951,
          1242.816,
          4779.6023,
          3861.20965,
          13635.6379,
          5976.8311,
          11842.442,
          8428.0693,
          2566.4707,
          15359.1045,
          5709.1644,
          8823.98575,
          7640.3092,
          5594.8455,
          7441.501,
          33471.97189,
          1633.0444,
          9174.13565,
          11070.535,
          16085.1275,
          17468.9839,
          9283.562,
          3558.62025,
          25678.77845,
          4435.0942,
          8547.6913,
          6571.544,
          2207.69745,
          6753.038,
          1880.07,
          11658.11505,
          23306.547,
          10713.644,
          3659.346,
          9182.17,
          12129.61415,
          3736.4647,
          6748.5912,
          11326.71487,
          11365.952,
          10085.846,
          1977.815,
          3366.6697,
          7173.35995,
          9391.346,
          14410.9321,
          2709.1119,
          24915.04626,
          20149.3229,
          12949.1554,
          6666.243,
          32787.45859,
          13143.86485,
          4466.6214,
          18806.14547,
          10141.1362,
          6123.5688,
          8252.2843,
          1712.227,
          12430.95335,
          9800.8882,
          10579.711,
          8280.6227,
          8527.532,
          12244.531,
          24667.419,
          3410.324,
          4058.71245,
          26392.26029,
          14394.39815,
          6435.6237,
          22192.43711,
          5148.5526,
          1136.3994,
          27037.9141,
          8703.456,
          6500.2359,
          4837.5823,
          3943.5954,
          4399.731,
          6185.3208,
          7222.78625,
          12485.8009,
          12363.547,
          10156.7832,
          2585.269,
          1242.26,
          9863.4718,
          4766.022,
          11244.3769,
          7729.64575,
          5438.7491,
          26236.57997,
          2104.1134,
          8068.185,
          2362.22905,
          2352.96845,
          3577.999,
          3201.24515,
          29186.48236,
          10976.24575,
          3500.6123,
          2020.5523,
          9541.69555,
          9504.3103,
          5385.3379,
          8930.93455,
          5375.038,
          10264.4421,
          6113.23105,
          5469.0066,
          1727.54,
          10107.2206,
          8310.83915,
          1984.4533,
          2457.502,
          12146.971,
          9566.9909,
          13112.6048,
          10848.1343,
          12231.6136,
          9875.6804,
          11264.541,
          12979.358,
          1263.249,
          10106.13425,
          6664.68595,
          16657.71745,
          2217.6012,
          6781.3542,
          19361.9988,
          10065.413,
          4234.927,
          9447.25035,
          14007.222,
          9583.8933,
          3484.331,
          8604.48365,
          18246.4955,
          3757.8448,
          8827.2099,
          9910.35985,
          11737.84884,
          1627.28245,
          8556.907,
          3062.50825,
          19539.243,
          1906.35825,
          14210.53595,
          11833.7823,
          17128.42608,
          5031.26955,
          7985.815,
          23065.4207,
          5428.7277,
          3925.7582,
          2416.955,
          19040.876,
          3070.8087,
          9095.06825,
          11842.62375,
          8062.764,
          7050.642,
          14319.031,
          6933.24225,
          27941.28758,
          11150.78,
          12797.20962,
          17748.5062,
          7261.741,
          10560.4917,
          6986.697,
          7448.40395,
          5934.3798,
          9869.8102,
          18259.216,
          1146.7966,
          9386.1613,
          24520.264,
          4350.5144,
          6414.178,
          12741.16745,
          1917.3184,
          5209.57885,
          13457.9608,
          5662.225,
          1252.407,
          2731.9122,
          21195.818,
          7209.4918,
          18310.742,
          4266.1658,
          4719.52405,
          11848.141,
          17904.52705,
          7046.7222,
          14313.8463,
          2103.08,
          1815.8759,
          7731.85785,
          28476.73499,
          2136.88225,
          1131.5066,
          3309.7926,
          9414.92,
          6360.9936,
          11013.7119,
          4428.88785,
          5584.3057,
          1877.9294,
          2842.76075,
          3597.596,
          23401.30575,
          7445.918,
          2680.9493,
          1621.8827,
          8219.2039,
          12523.6048,
          16069.08475,
          20773.62775,
          6117.4945,
          13393.756,
          5266.3656,
          4719.73655,
          11743.9341,
          5377.4578,
          7160.3303,
          4402.233,
          11657.7189,
          6402.29135,
          12622.1795,
          1526.312,
          12323.936,
          27533.9129,
          10072.05505,
          9872.701,
          2438.0552,
          2974.126,
          10601.63225,
          14119.62,
          11729.6795,
          24106.91255,
          1875.344,
          15817.9857,
          18218.16139,
          10965.446,
          7151.092,
          12269.68865,
          5458.04645,
          8782.469,
          6600.361,
          1141.4451,
          11576.13,
          13129.60345,
          4391.652,
          8457.818,
          3392.3652,
          5966.8874,
          6849.026,
          8891.1395,
          2690.1138,
          26140.3603,
          6653.7886,
          6282.235,
          6311.952,
          3443.064,
          2789.0574,
          2585.85065,
          4877.98105,
          19719.6947,
          27218.43725,
          5272.1758,
          1682.597,
          11945.1327,
          29330.98315,
          7243.8136,
          10422.91665,
          13555.0049,
          13063.883,
          19798.05455,
          2221.56445,
          1634.5734,
          2117.33885,
          8688.85885,
          4661.28635,
          8125.7845,
          12644.589,
          4564.19145,
          4846.92015,
          7633.7206,
          15170.069,
          17496.306,
          2639.0429,
          33732.6867,
          14382.70905,
          7626.993,
          5257.50795,
          2473.3341,
          21774.32215,
          13041.921,
          5245.2269,
          13451.122,
          13462.52,
          5488.262,
          4320.41085,
          6250.435,
          25333.33284,
          2913.569,
          12032.326,
          13470.8044,
          6289.7549,
          2927.0647,
          6238.298,
          10096.97,
          7348.142,
          4673.3922,
          12233.828,
          32108.66282,
          8965.79575,
          2304.0022,
          9487.6442,
          1121.8739,
          9549.5651,
          2217.46915,
          1628.4709,
          12982.8747,
          11674.13,
          7160.094,
          6358.77645,
          19933.458,
          11534.87265,
          4527.18295,
          20009.63365,
          3875.7341,
          12609.88702,
          28468.91901,
          2730.10785,
          3353.284,
          14474.675,
          9500.57305,
          26467.09737,
          4746.344,
          23967.38305,
          7518.02535,
          3279.86855,
          8596.8278,
          10702.6424,
          4992.3764,
          2527.81865,
          1759.338,
          2322.6218,
          16138.76205,
          7804.1605,
          2902.9065,
          9704.66805,
          4889.0368,
          25517.11363,
          4500.33925,
          19199.944,
          16796.41194,
          4915.05985,
          7624.63,
          8410.04685,
          28340.18885,
          4518.82625,
          14571.8908,
          3378.91,
          7144.86265,
          10118.424,
          5484.4673,
          16420.49455,
          7986.47525,
          7418.522,
          13887.9685,
          6551.7501,
          5267.81815,
          17361.7661,
          1972.95,
          21232.18226,
          8627.5411,
          4433.3877,
          4438.2634,
          24915.22085,
          23241.47453,
          9957.7216,
          8269.044,
          18767.7377,
          8765.249,
          5383.536,
          12124.9924,
          2709.24395,
          3987.926,
          12495.29085,
          26018.95052,
          8798.593,
          1711.0268,
          8569.8618,
          2020.177,
          16450.8947,
          21595.38229,
          9850.432,
          6877.9801,
          21677.28345,
          4137.5227,
          13747.87235,
          12950.0712,
          12094.478,
          2250.8352,
          22493.65964,
          20234.85475,
          1704.70015,
          33475.81715,
          3161.454,
          11394.06555,
          21880.82,
          7325.0482,
          3594.17085,
          8023.13545,
          14394.5579,
          9288.0267,
          25309.489,
          3353.4703,
          10594.50155,
          8277.523,
          17929.30337,
          2480.9791,
          4462.7218,
          1981.5819,
          11554.2236,
          6548.19505,
          5708.867,
          7045.499,
          8978.1851,
          5757.41345,
          14349.8544,
          10928.849,
          13974.45555,
          1909.52745,
          12096.6512,
          13204.28565,
          4562.8421,
          8551.347,
          2102.2647,
          15161.5344,
          11884.04858,
          4454.40265,
          5855.9025,
          4076.497,
          15019.76005,
          19023.26,
          10796.35025,
          11353.2276,
          9748.9106,
          10577.087,
          11286.5387,
          3591.48,
          33907.548,
          11299.343,
          4561.1885,
          1674.6323,
          23045.56616,
          3227.1211,
          16776.30405,
          11253.421,
          3471.4096,
          11363.2832,
          20420.60465,
          10338.9316,
          8988.15875,
          10493.9458,
          2904.088,
          8605.3615,
          11512.405,
          24180.9335,
          5312.16985,
          2396.0959,
          10807.4863,
          9222.4026,
          5693.4305,
          34166.273,
          8347.1643,
          18903.49141,
          14254.6082,
          10214.636,
          5836.5204,
          14358.36437,
          1728.897,
          8582.3023,
          3693.428,
          20709.02034,
          9991.03765,
          19673.33573,
          11085.5868,
          7623.518,
          3176.2877,
          3704.3545,
          9048.0273,
          7954.517,
          27117.99378,
          6338.0756,
          9630.397,
          11289.10925,
          2261.5688,
          10791.96,
          5979.731,
          2203.73595,
          12235.8392,
          5630.45785,
          11015.1747,
          7228.21565,
          14426.07385,
          2459.7201,
          3989.841,
          7727.2532,
          5124.1887,
          18963.17192,
          2200.83085,
          7153.5539,
          5227.98875,
          10982.5013,
          4529.477,
          4670.64,
          6112.35295,
          17178.6824,
          22478.6,
          11093.6229,
          6457.8434,
          4433.9159,
          2154.361,
          23887.6627,
          6496.886,
          2899.48935,
          19350.3689,
          7650.77375,
          2850.68375,
          2632.992,
          9447.3824,
          18328.2381,
          8603.8234,
          13844.7972,
          21771.3423,
          13126.67745,
          5327.40025,
          13725.47184,
          13019.16105,
          8671.19125,
          4134.08245,
          18838.70366,
          33307.5508,
          5699.8375,
          6393.60345,
          4934.705,
          6198.7518,
          8733.22925,
          2055.3249,
          9964.06,
          18223.4512,
          5116.5004,
          20296.86345,
          12347.172,
          5373.36425,
          23563.01618,
          1702.4553,
          10806.839,
          3956.07145,
          12890.05765,
          5415.6612,
          4058.1161,
          7537.1639,
          4718.20355,
          6593.5083,
          8442.667,
          26125.67477,
          6858.4796,
          4795.6568,
          6640.54485,
          7162.0122,
          10594.2257,
          11938.25595,
          20167.33603,
          12479.70895,
          11345.519,
          8515.7587,
          2699.56835,
          14449.8544,
          12224.35085,
          6985.50695,
          3238.4357,
          4296.2712,
          3171.6149,
          1135.9407,
          5615.369,
          9101.798,
          6059.173,
          1633.9618,
          18648.4217,
          1241.565,
          16232.847,
          15828.82173,
          4415.1588,
          6474.013,
          11436.73815,
          11305.93455,
          30063.58055,
          10197.7722,
          4544.2348,
          3277.161,
          6770.1925,
          7337.748,
          10370.91255,
          26926.5144,
          10704.47,
          34254.05335,
          1880.487,
          8615.3,
          3292.52985,
          3021.80915,
          14478.33015,
          4747.0529,
          17043.3414,
          10959.33,
          2741.948,
          4357.04365,
          22462.04375,
          4189.1131,
          8283.6807,
          9382.033,
          14283.4594,
          1720.3537,
          8534.6718,
          3732.6251,
          5472.449,
          7147.4728,
          7133.9025,
          1515.3449,
          9301.89355,
          11931.12525,
          1964.78,
          1708.92575,
          4340.4409,
          5261.46945,
          2710.82855,
          3208.787,
          21259.37795,
          2464.6188,
          16115.3045,
          21472.4788,
          33900.653,
          6875.961,
          6940.90985,
          4571.41305,
          9382.033,
          18765.87545,
          11272.33139,
          1731.677,
          1163.4627,
          19496.71917,
          7201.70085,
          5425.02335,
          28101.33305,
          12981.3457,
          4239.89265,
          13143.33665,
          7050.0213,
          9377.9047,
          22395.74424,
          10325.206,
          12629.1656,
          10795.93733,
          11411.685,
          10600.5483,
          2205.9808,
          1629.8335,
          2007.945,
          29141.3603
         ],
         "y0": " ",
         "yaxis": "y"
        }
       ],
       "layout": {
        "boxmode": "group",
        "legend": {
         "tracegroupgap": 0
        },
        "margin": {
         "t": 60
        },
        "template": {
         "data": {
          "bar": [
           {
            "error_x": {
             "color": "#2a3f5f"
            },
            "error_y": {
             "color": "#2a3f5f"
            },
            "marker": {
             "line": {
              "color": "#E5ECF6",
              "width": 0.5
             },
             "pattern": {
              "fillmode": "overlay",
              "size": 10,
              "solidity": 0.2
             }
            },
            "type": "bar"
           }
          ],
          "barpolar": [
           {
            "marker": {
             "line": {
              "color": "#E5ECF6",
              "width": 0.5
             },
             "pattern": {
              "fillmode": "overlay",
              "size": 10,
              "solidity": 0.2
             }
            },
            "type": "barpolar"
           }
          ],
          "carpet": [
           {
            "aaxis": {
             "endlinecolor": "#2a3f5f",
             "gridcolor": "white",
             "linecolor": "white",
             "minorgridcolor": "white",
             "startlinecolor": "#2a3f5f"
            },
            "baxis": {
             "endlinecolor": "#2a3f5f",
             "gridcolor": "white",
             "linecolor": "white",
             "minorgridcolor": "white",
             "startlinecolor": "#2a3f5f"
            },
            "type": "carpet"
           }
          ],
          "choropleth": [
           {
            "colorbar": {
             "outlinewidth": 0,
             "ticks": ""
            },
            "type": "choropleth"
           }
          ],
          "contour": [
           {
            "colorbar": {
             "outlinewidth": 0,
             "ticks": ""
            },
            "colorscale": [
             [
              0,
              "#0d0887"
             ],
             [
              0.1111111111111111,
              "#46039f"
             ],
             [
              0.2222222222222222,
              "#7201a8"
             ],
             [
              0.3333333333333333,
              "#9c179e"
             ],
             [
              0.4444444444444444,
              "#bd3786"
             ],
             [
              0.5555555555555556,
              "#d8576b"
             ],
             [
              0.6666666666666666,
              "#ed7953"
             ],
             [
              0.7777777777777778,
              "#fb9f3a"
             ],
             [
              0.8888888888888888,
              "#fdca26"
             ],
             [
              1,
              "#f0f921"
             ]
            ],
            "type": "contour"
           }
          ],
          "contourcarpet": [
           {
            "colorbar": {
             "outlinewidth": 0,
             "ticks": ""
            },
            "type": "contourcarpet"
           }
          ],
          "heatmap": [
           {
            "colorbar": {
             "outlinewidth": 0,
             "ticks": ""
            },
            "colorscale": [
             [
              0,
              "#0d0887"
             ],
             [
              0.1111111111111111,
              "#46039f"
             ],
             [
              0.2222222222222222,
              "#7201a8"
             ],
             [
              0.3333333333333333,
              "#9c179e"
             ],
             [
              0.4444444444444444,
              "#bd3786"
             ],
             [
              0.5555555555555556,
              "#d8576b"
             ],
             [
              0.6666666666666666,
              "#ed7953"
             ],
             [
              0.7777777777777778,
              "#fb9f3a"
             ],
             [
              0.8888888888888888,
              "#fdca26"
             ],
             [
              1,
              "#f0f921"
             ]
            ],
            "type": "heatmap"
           }
          ],
          "heatmapgl": [
           {
            "colorbar": {
             "outlinewidth": 0,
             "ticks": ""
            },
            "colorscale": [
             [
              0,
              "#0d0887"
             ],
             [
              0.1111111111111111,
              "#46039f"
             ],
             [
              0.2222222222222222,
              "#7201a8"
             ],
             [
              0.3333333333333333,
              "#9c179e"
             ],
             [
              0.4444444444444444,
              "#bd3786"
             ],
             [
              0.5555555555555556,
              "#d8576b"
             ],
             [
              0.6666666666666666,
              "#ed7953"
             ],
             [
              0.7777777777777778,
              "#fb9f3a"
             ],
             [
              0.8888888888888888,
              "#fdca26"
             ],
             [
              1,
              "#f0f921"
             ]
            ],
            "type": "heatmapgl"
           }
          ],
          "histogram": [
           {
            "marker": {
             "pattern": {
              "fillmode": "overlay",
              "size": 10,
              "solidity": 0.2
             }
            },
            "type": "histogram"
           }
          ],
          "histogram2d": [
           {
            "colorbar": {
             "outlinewidth": 0,
             "ticks": ""
            },
            "colorscale": [
             [
              0,
              "#0d0887"
             ],
             [
              0.1111111111111111,
              "#46039f"
             ],
             [
              0.2222222222222222,
              "#7201a8"
             ],
             [
              0.3333333333333333,
              "#9c179e"
             ],
             [
              0.4444444444444444,
              "#bd3786"
             ],
             [
              0.5555555555555556,
              "#d8576b"
             ],
             [
              0.6666666666666666,
              "#ed7953"
             ],
             [
              0.7777777777777778,
              "#fb9f3a"
             ],
             [
              0.8888888888888888,
              "#fdca26"
             ],
             [
              1,
              "#f0f921"
             ]
            ],
            "type": "histogram2d"
           }
          ],
          "histogram2dcontour": [
           {
            "colorbar": {
             "outlinewidth": 0,
             "ticks": ""
            },
            "colorscale": [
             [
              0,
              "#0d0887"
             ],
             [
              0.1111111111111111,
              "#46039f"
             ],
             [
              0.2222222222222222,
              "#7201a8"
             ],
             [
              0.3333333333333333,
              "#9c179e"
             ],
             [
              0.4444444444444444,
              "#bd3786"
             ],
             [
              0.5555555555555556,
              "#d8576b"
             ],
             [
              0.6666666666666666,
              "#ed7953"
             ],
             [
              0.7777777777777778,
              "#fb9f3a"
             ],
             [
              0.8888888888888888,
              "#fdca26"
             ],
             [
              1,
              "#f0f921"
             ]
            ],
            "type": "histogram2dcontour"
           }
          ],
          "mesh3d": [
           {
            "colorbar": {
             "outlinewidth": 0,
             "ticks": ""
            },
            "type": "mesh3d"
           }
          ],
          "parcoords": [
           {
            "line": {
             "colorbar": {
              "outlinewidth": 0,
              "ticks": ""
             }
            },
            "type": "parcoords"
           }
          ],
          "pie": [
           {
            "automargin": true,
            "type": "pie"
           }
          ],
          "scatter": [
           {
            "fillpattern": {
             "fillmode": "overlay",
             "size": 10,
             "solidity": 0.2
            },
            "type": "scatter"
           }
          ],
          "scatter3d": [
           {
            "line": {
             "colorbar": {
              "outlinewidth": 0,
              "ticks": ""
             }
            },
            "marker": {
             "colorbar": {
              "outlinewidth": 0,
              "ticks": ""
             }
            },
            "type": "scatter3d"
           }
          ],
          "scattercarpet": [
           {
            "marker": {
             "colorbar": {
              "outlinewidth": 0,
              "ticks": ""
             }
            },
            "type": "scattercarpet"
           }
          ],
          "scattergeo": [
           {
            "marker": {
             "colorbar": {
              "outlinewidth": 0,
              "ticks": ""
             }
            },
            "type": "scattergeo"
           }
          ],
          "scattergl": [
           {
            "marker": {
             "colorbar": {
              "outlinewidth": 0,
              "ticks": ""
             }
            },
            "type": "scattergl"
           }
          ],
          "scattermapbox": [
           {
            "marker": {
             "colorbar": {
              "outlinewidth": 0,
              "ticks": ""
             }
            },
            "type": "scattermapbox"
           }
          ],
          "scatterpolar": [
           {
            "marker": {
             "colorbar": {
              "outlinewidth": 0,
              "ticks": ""
             }
            },
            "type": "scatterpolar"
           }
          ],
          "scatterpolargl": [
           {
            "marker": {
             "colorbar": {
              "outlinewidth": 0,
              "ticks": ""
             }
            },
            "type": "scatterpolargl"
           }
          ],
          "scatterternary": [
           {
            "marker": {
             "colorbar": {
              "outlinewidth": 0,
              "ticks": ""
             }
            },
            "type": "scatterternary"
           }
          ],
          "surface": [
           {
            "colorbar": {
             "outlinewidth": 0,
             "ticks": ""
            },
            "colorscale": [
             [
              0,
              "#0d0887"
             ],
             [
              0.1111111111111111,
              "#46039f"
             ],
             [
              0.2222222222222222,
              "#7201a8"
             ],
             [
              0.3333333333333333,
              "#9c179e"
             ],
             [
              0.4444444444444444,
              "#bd3786"
             ],
             [
              0.5555555555555556,
              "#d8576b"
             ],
             [
              0.6666666666666666,
              "#ed7953"
             ],
             [
              0.7777777777777778,
              "#fb9f3a"
             ],
             [
              0.8888888888888888,
              "#fdca26"
             ],
             [
              1,
              "#f0f921"
             ]
            ],
            "type": "surface"
           }
          ],
          "table": [
           {
            "cells": {
             "fill": {
              "color": "#EBF0F8"
             },
             "line": {
              "color": "white"
             }
            },
            "header": {
             "fill": {
              "color": "#C8D4E3"
             },
             "line": {
              "color": "white"
             }
            },
            "type": "table"
           }
          ]
         },
         "layout": {
          "annotationdefaults": {
           "arrowcolor": "#2a3f5f",
           "arrowhead": 0,
           "arrowwidth": 1
          },
          "autotypenumbers": "strict",
          "coloraxis": {
           "colorbar": {
            "outlinewidth": 0,
            "ticks": ""
           }
          },
          "colorscale": {
           "diverging": [
            [
             0,
             "#8e0152"
            ],
            [
             0.1,
             "#c51b7d"
            ],
            [
             0.2,
             "#de77ae"
            ],
            [
             0.3,
             "#f1b6da"
            ],
            [
             0.4,
             "#fde0ef"
            ],
            [
             0.5,
             "#f7f7f7"
            ],
            [
             0.6,
             "#e6f5d0"
            ],
            [
             0.7,
             "#b8e186"
            ],
            [
             0.8,
             "#7fbc41"
            ],
            [
             0.9,
             "#4d9221"
            ],
            [
             1,
             "#276419"
            ]
           ],
           "sequential": [
            [
             0,
             "#0d0887"
            ],
            [
             0.1111111111111111,
             "#46039f"
            ],
            [
             0.2222222222222222,
             "#7201a8"
            ],
            [
             0.3333333333333333,
             "#9c179e"
            ],
            [
             0.4444444444444444,
             "#bd3786"
            ],
            [
             0.5555555555555556,
             "#d8576b"
            ],
            [
             0.6666666666666666,
             "#ed7953"
            ],
            [
             0.7777777777777778,
             "#fb9f3a"
            ],
            [
             0.8888888888888888,
             "#fdca26"
            ],
            [
             1,
             "#f0f921"
            ]
           ],
           "sequentialminus": [
            [
             0,
             "#0d0887"
            ],
            [
             0.1111111111111111,
             "#46039f"
            ],
            [
             0.2222222222222222,
             "#7201a8"
            ],
            [
             0.3333333333333333,
             "#9c179e"
            ],
            [
             0.4444444444444444,
             "#bd3786"
            ],
            [
             0.5555555555555556,
             "#d8576b"
            ],
            [
             0.6666666666666666,
             "#ed7953"
            ],
            [
             0.7777777777777778,
             "#fb9f3a"
            ],
            [
             0.8888888888888888,
             "#fdca26"
            ],
            [
             1,
             "#f0f921"
            ]
           ]
          },
          "colorway": [
           "#636efa",
           "#EF553B",
           "#00cc96",
           "#ab63fa",
           "#FFA15A",
           "#19d3f3",
           "#FF6692",
           "#B6E880",
           "#FF97FF",
           "#FECB52"
          ],
          "font": {
           "color": "#2a3f5f"
          },
          "geo": {
           "bgcolor": "white",
           "lakecolor": "white",
           "landcolor": "#E5ECF6",
           "showlakes": true,
           "showland": true,
           "subunitcolor": "white"
          },
          "hoverlabel": {
           "align": "left"
          },
          "hovermode": "closest",
          "mapbox": {
           "style": "light"
          },
          "paper_bgcolor": "white",
          "plot_bgcolor": "#E5ECF6",
          "polar": {
           "angularaxis": {
            "gridcolor": "white",
            "linecolor": "white",
            "ticks": ""
           },
           "bgcolor": "#E5ECF6",
           "radialaxis": {
            "gridcolor": "white",
            "linecolor": "white",
            "ticks": ""
           }
          },
          "scene": {
           "xaxis": {
            "backgroundcolor": "#E5ECF6",
            "gridcolor": "white",
            "gridwidth": 2,
            "linecolor": "white",
            "showbackground": true,
            "ticks": "",
            "zerolinecolor": "white"
           },
           "yaxis": {
            "backgroundcolor": "#E5ECF6",
            "gridcolor": "white",
            "gridwidth": 2,
            "linecolor": "white",
            "showbackground": true,
            "ticks": "",
            "zerolinecolor": "white"
           },
           "zaxis": {
            "backgroundcolor": "#E5ECF6",
            "gridcolor": "white",
            "gridwidth": 2,
            "linecolor": "white",
            "showbackground": true,
            "ticks": "",
            "zerolinecolor": "white"
           }
          },
          "shapedefaults": {
           "line": {
            "color": "#2a3f5f"
           }
          },
          "ternary": {
           "aaxis": {
            "gridcolor": "white",
            "linecolor": "white",
            "ticks": ""
           },
           "baxis": {
            "gridcolor": "white",
            "linecolor": "white",
            "ticks": ""
           },
           "bgcolor": "#E5ECF6",
           "caxis": {
            "gridcolor": "white",
            "linecolor": "white",
            "ticks": ""
           }
          },
          "title": {
           "x": 0.05
          },
          "xaxis": {
           "automargin": true,
           "gridcolor": "white",
           "linecolor": "white",
           "ticks": "",
           "title": {
            "standoff": 15
           },
           "zerolinecolor": "white",
           "zerolinewidth": 2
          },
          "yaxis": {
           "automargin": true,
           "gridcolor": "white",
           "linecolor": "white",
           "ticks": "",
           "title": {
            "standoff": 15
           },
           "zerolinecolor": "white",
           "zerolinewidth": 2
          }
         }
        },
        "xaxis": {
         "anchor": "y",
         "domain": [
          0,
          1
         ]
        },
        "yaxis": {
         "anchor": "x",
         "domain": [
          0,
          1
         ],
         "title": {
          "text": "health_insurance_price"
         }
        }
       }
      }
     },
     "metadata": {},
     "output_type": "display_data"
    }
   ],
   "source": [
    "fig  = px.box(df,y='health_insurance_price')\n",
    "fig.show()"
   ]
  },
  {
   "attachments": {},
   "cell_type": "markdown",
   "id": "d411c258",
   "metadata": {},
   "source": [
    "# DEALING WITH SKEWNESS DATA"
   ]
  },
  {
   "cell_type": "code",
   "execution_count": 35,
   "id": "15189b3d",
   "metadata": {},
   "outputs": [
    {
     "data": {
      "image/png": "[encoded data removed]",
      "text/plain": [
       "<Figure size 500x500 with 1 Axes>"
      ]
     },
     "metadata": {},
     "output_type": "display_data"
    }
   ],
   "source": [
    "sns.displot(df,x='health_insurance_price',kde = True)\n",
    "plt.show()"
   ]
  },
  {
   "cell_type": "code",
   "execution_count": 36,
   "id": "ee026f16",
   "metadata": {},
   "outputs": [
    {
     "data": {
      "text/plain": [
       "(1197, 7)"
      ]
     },
     "execution_count": 36,
     "metadata": {},
     "output_type": "execute_result"
    }
   ],
   "source": [
    "df.shape"
   ]
  },
  {
   "attachments": {},
   "cell_type": "markdown",
   "id": "b7c0a377",
   "metadata": {},
   "source": [
    "- Log transformation method"
   ]
  },
  {
   "cell_type": "code",
   "execution_count": 37,
   "id": "30fbf3ec",
   "metadata": {},
   "outputs": [
    {
     "name": "stderr",
     "output_type": "stream",
     "text": [
      "C:\\Users\\ashis\\AppData\\Local\\Temp\\ipykernel_5464\\2604436868.py:1: SettingWithCopyWarning:\n",
      "\n",
      "\n",
      "A value is trying to be set on a copy of a slice from a DataFrame.\n",
      "Try using .loc[row_indexer,col_indexer] = value instead\n",
      "\n",
      "See the caveats in the documentation: https://pandas.pydata.org/pandas-docs/stable/user_guide/indexing.html#returning-a-view-versus-a-copy\n",
      "\n"
     ]
    },
    {
     "data": {
      "text/html": [
       "<div>\n",
       "<style scoped>\n",
       "    .dataframe tbody tr th:only-of-type {\n",
       "        vertical-align: middle;\n",
       "    }\n",
       "\n",
       "    .dataframe tbody tr th {\n",
       "        vertical-align: top;\n",
       "    }\n",
       "\n",
       "    .dataframe thead th {\n",
       "        text-align: right;\n",
       "    }\n",
       "</style>\n",
       "<table border=\"1\" class=\"dataframe\">\n",
       "  <thead>\n",
       "    <tr style=\"text-align: right;\">\n",
       "      <th></th>\n",
       "      <th>age</th>\n",
       "      <th>gender</th>\n",
       "      <th>BMI</th>\n",
       "      <th>Children</th>\n",
       "      <th>smoking_status</th>\n",
       "      <th>location</th>\n",
       "      <th>health_insurance_price</th>\n",
       "    </tr>\n",
       "  </thead>\n",
       "  <tbody>\n",
       "    <tr>\n",
       "      <th>0</th>\n",
       "      <td>19.0</td>\n",
       "      <td>0</td>\n",
       "      <td>30.305</td>\n",
       "      <td>0</td>\n",
       "      <td>1</td>\n",
       "      <td>3</td>\n",
       "      <td>9.734176</td>\n",
       "    </tr>\n",
       "    <tr>\n",
       "      <th>1</th>\n",
       "      <td>18.0</td>\n",
       "      <td>1</td>\n",
       "      <td>33.770</td>\n",
       "      <td>1</td>\n",
       "      <td>0</td>\n",
       "      <td>2</td>\n",
       "      <td>7.453302</td>\n",
       "    </tr>\n",
       "    <tr>\n",
       "      <th>2</th>\n",
       "      <td>28.0</td>\n",
       "      <td>1</td>\n",
       "      <td>33.000</td>\n",
       "      <td>3</td>\n",
       "      <td>0</td>\n",
       "      <td>2</td>\n",
       "      <td>8.400538</td>\n",
       "    </tr>\n",
       "    <tr>\n",
       "      <th>3</th>\n",
       "      <td>33.0</td>\n",
       "      <td>1</td>\n",
       "      <td>22.705</td>\n",
       "      <td>0</td>\n",
       "      <td>0</td>\n",
       "      <td>1</td>\n",
       "      <td>9.998092</td>\n",
       "    </tr>\n",
       "    <tr>\n",
       "      <th>4</th>\n",
       "      <td>32.0</td>\n",
       "      <td>1</td>\n",
       "      <td>28.880</td>\n",
       "      <td>0</td>\n",
       "      <td>0</td>\n",
       "      <td>1</td>\n",
       "      <td>8.260197</td>\n",
       "    </tr>\n",
       "    <tr>\n",
       "      <th>...</th>\n",
       "      <td>...</td>\n",
       "      <td>...</td>\n",
       "      <td>...</td>\n",
       "      <td>...</td>\n",
       "      <td>...</td>\n",
       "      <td>...</td>\n",
       "      <td>...</td>\n",
       "    </tr>\n",
       "    <tr>\n",
       "      <th>1333</th>\n",
       "      <td>50.0</td>\n",
       "      <td>1</td>\n",
       "      <td>30.970</td>\n",
       "      <td>3</td>\n",
       "      <td>0</td>\n",
       "      <td>1</td>\n",
       "      <td>9.268661</td>\n",
       "    </tr>\n",
       "    <tr>\n",
       "      <th>1334</th>\n",
       "      <td>18.0</td>\n",
       "      <td>0</td>\n",
       "      <td>31.920</td>\n",
       "      <td>0</td>\n",
       "      <td>0</td>\n",
       "      <td>0</td>\n",
       "      <td>7.698927</td>\n",
       "    </tr>\n",
       "    <tr>\n",
       "      <th>1335</th>\n",
       "      <td>18.0</td>\n",
       "      <td>0</td>\n",
       "      <td>36.850</td>\n",
       "      <td>0</td>\n",
       "      <td>0</td>\n",
       "      <td>2</td>\n",
       "      <td>7.396233</td>\n",
       "    </tr>\n",
       "    <tr>\n",
       "      <th>1336</th>\n",
       "      <td>21.0</td>\n",
       "      <td>0</td>\n",
       "      <td>25.800</td>\n",
       "      <td>0</td>\n",
       "      <td>0</td>\n",
       "      <td>3</td>\n",
       "      <td>7.604867</td>\n",
       "    </tr>\n",
       "    <tr>\n",
       "      <th>1337</th>\n",
       "      <td>61.0</td>\n",
       "      <td>0</td>\n",
       "      <td>29.070</td>\n",
       "      <td>0</td>\n",
       "      <td>1</td>\n",
       "      <td>1</td>\n",
       "      <td>10.279914</td>\n",
       "    </tr>\n",
       "  </tbody>\n",
       "</table>\n",
       "<p>1197 rows × 7 columns</p>\n",
       "</div>"
      ],
      "text/plain": [
       "       age  gender     BMI  Children  smoking_status  location  \\\n",
       "0     19.0       0  30.305         0               1         3   \n",
       "1     18.0       1  33.770         1               0         2   \n",
       "2     28.0       1  33.000         3               0         2   \n",
       "3     33.0       1  22.705         0               0         1   \n",
       "4     32.0       1  28.880         0               0         1   \n",
       "...    ...     ...     ...       ...             ...       ...   \n",
       "1333  50.0       1  30.970         3               0         1   \n",
       "1334  18.0       0  31.920         0               0         0   \n",
       "1335  18.0       0  36.850         0               0         2   \n",
       "1336  21.0       0  25.800         0               0         3   \n",
       "1337  61.0       0  29.070         0               1         1   \n",
       "\n",
       "      health_insurance_price  \n",
       "0                   9.734176  \n",
       "1                   7.453302  \n",
       "2                   8.400538  \n",
       "3                   9.998092  \n",
       "4                   8.260197  \n",
       "...                      ...  \n",
       "1333                9.268661  \n",
       "1334                7.698927  \n",
       "1335                7.396233  \n",
       "1336                7.604867  \n",
       "1337               10.279914  \n",
       "\n",
       "[1197 rows x 7 columns]"
      ]
     },
     "execution_count": 37,
     "metadata": {},
     "output_type": "execute_result"
    }
   ],
   "source": [
    "df['health_insurance_price'] = np.log(df['health_insurance_price'])\n",
    "df"
   ]
  },
  {
   "cell_type": "code",
   "execution_count": 38,
   "id": "b15b39a6",
   "metadata": {},
   "outputs": [
    {
     "data": {
      "image/png": "[encoded data removed]",
      "text/plain": [
       "<Figure size 500x500 with 1 Axes>"
      ]
     },
     "metadata": {},
     "output_type": "display_data"
    }
   ],
   "source": [
    "sns.displot(df,x='health_insurance_price',kde= True)\n",
    "plt.show()"
   ]
  },
  {
   "attachments": {},
   "cell_type": "markdown",
   "id": "01751a25",
   "metadata": {},
   "source": [
    "# TRAIN - TEST MODEL "
   ]
  },
  {
   "cell_type": "code",
   "execution_count": 39,
   "id": "f50fbd64",
   "metadata": {},
   "outputs": [],
   "source": [
    "x =  df.iloc[:,0:-1] # intialize x variable /independent variable\n",
    "y = df.iloc[:,-1]    # intialize y variable /dependent variable\n"
   ]
  },
  {
   "cell_type": "code",
   "execution_count": 40,
   "id": "02d0e482",
   "metadata": {},
   "outputs": [
    {
     "name": "stdout",
     "output_type": "stream",
     "text": [
      "(957, 6)\n",
      "(240, 6)\n",
      "(957,)\n",
      "(240,)\n"
     ]
    }
   ],
   "source": [
    "x_train,x_test,y_train,y_test = train_test_split(x,y,test_size= 0.2,random_state=50)   # spliting data  train-testvmethod  ,taking 80% train data ,20% test data.\n",
    "print(x_train.shape)\n",
    "print(x_test.shape)\n",
    "print(y_train.shape)\n",
    "print(y_test.shape)"
   ]
  },
  {
   "attachments": {},
   "cell_type": "markdown",
   "id": "502c6100",
   "metadata": {},
   "source": [
    "- Feature scaling"
   ]
  },
  {
   "cell_type": "code",
   "execution_count": 41,
   "id": "df9f8b08",
   "metadata": {},
   "outputs": [],
   "source": [
    "sc = StandardScaler() # import standardscaler function \n",
    "sc.fit(x_train)\n",
    "x_train = sc.transform(x_train)\n",
    "x_test = sc.transform(x_test)"
   ]
  },
  {
   "cell_type": "code",
   "execution_count": 42,
   "id": "6dc0b785",
   "metadata": {},
   "outputs": [
    {
     "data": {
      "text/html": [
       "<div>\n",
       "<style scoped>\n",
       "    .dataframe tbody tr th:only-of-type {\n",
       "        vertical-align: middle;\n",
       "    }\n",
       "\n",
       "    .dataframe tbody tr th {\n",
       "        vertical-align: top;\n",
       "    }\n",
       "\n",
       "    .dataframe thead th {\n",
       "        text-align: right;\n",
       "    }\n",
       "</style>\n",
       "<table border=\"1\" class=\"dataframe\">\n",
       "  <thead>\n",
       "    <tr style=\"text-align: right;\">\n",
       "      <th></th>\n",
       "      <th>age</th>\n",
       "      <th>gender</th>\n",
       "      <th>BMI</th>\n",
       "      <th>Children</th>\n",
       "      <th>smoking_status</th>\n",
       "      <th>location</th>\n",
       "    </tr>\n",
       "  </thead>\n",
       "  <tbody>\n",
       "    <tr>\n",
       "      <th>0</th>\n",
       "      <td>-0.002634</td>\n",
       "      <td>1.039440</td>\n",
       "      <td>-1.372023</td>\n",
       "      <td>-0.065104</td>\n",
       "      <td>-0.349174</td>\n",
       "      <td>-0.445830</td>\n",
       "    </tr>\n",
       "    <tr>\n",
       "      <th>1</th>\n",
       "      <td>-1.011030</td>\n",
       "      <td>-0.962057</td>\n",
       "      <td>0.031656</td>\n",
       "      <td>-0.884901</td>\n",
       "      <td>-0.349174</td>\n",
       "      <td>1.362049</td>\n",
       "    </tr>\n",
       "    <tr>\n",
       "      <th>2</th>\n",
       "      <td>-0.290747</td>\n",
       "      <td>1.039440</td>\n",
       "      <td>1.410417</td>\n",
       "      <td>-0.065104</td>\n",
       "      <td>-0.349174</td>\n",
       "      <td>1.362049</td>\n",
       "    </tr>\n",
       "    <tr>\n",
       "      <th>3</th>\n",
       "      <td>-0.218719</td>\n",
       "      <td>-0.962057</td>\n",
       "      <td>-0.699254</td>\n",
       "      <td>-0.065104</td>\n",
       "      <td>-0.349174</td>\n",
       "      <td>1.362049</td>\n",
       "    </tr>\n",
       "    <tr>\n",
       "      <th>4</th>\n",
       "      <td>-0.722917</td>\n",
       "      <td>1.039440</td>\n",
       "      <td>-0.062200</td>\n",
       "      <td>0.754693</td>\n",
       "      <td>-0.349174</td>\n",
       "      <td>-0.445830</td>\n",
       "    </tr>\n",
       "  </tbody>\n",
       "</table>\n",
       "</div>"
      ],
      "text/plain": [
       "        age    gender       BMI  Children  smoking_status  location\n",
       "0 -0.002634  1.039440 -1.372023 -0.065104       -0.349174 -0.445830\n",
       "1 -1.011030 -0.962057  0.031656 -0.884901       -0.349174  1.362049\n",
       "2 -0.290747  1.039440  1.410417 -0.065104       -0.349174  1.362049\n",
       "3 -0.218719 -0.962057 -0.699254 -0.065104       -0.349174  1.362049\n",
       "4 -0.722917  1.039440 -0.062200  0.754693       -0.349174 -0.445830"
      ]
     },
     "execution_count": 42,
     "metadata": {},
     "output_type": "execute_result"
    }
   ],
   "source": [
    "health_data = pd.DataFrame(x_train,columns= ['age','gender','BMI','Children','smoking_status','location'])  # create new datafram\n",
    "health_data.head()"
   ]
  },
  {
   "cell_type": "code",
   "execution_count": 43,
   "id": "1077fbfe",
   "metadata": {},
   "outputs": [
    {
     "data": {
      "text/html": [
       "<div>\n",
       "<style scoped>\n",
       "    .dataframe tbody tr th:only-of-type {\n",
       "        vertical-align: middle;\n",
       "    }\n",
       "\n",
       "    .dataframe tbody tr th {\n",
       "        vertical-align: top;\n",
       "    }\n",
       "\n",
       "    .dataframe thead th {\n",
       "        text-align: right;\n",
       "    }\n",
       "</style>\n",
       "<table border=\"1\" class=\"dataframe\">\n",
       "  <thead>\n",
       "    <tr style=\"text-align: right;\">\n",
       "      <th></th>\n",
       "      <th>age</th>\n",
       "      <th>gender</th>\n",
       "      <th>BMI</th>\n",
       "      <th>Children</th>\n",
       "      <th>smoking_status</th>\n",
       "      <th>location</th>\n",
       "    </tr>\n",
       "  </thead>\n",
       "  <tbody>\n",
       "    <tr>\n",
       "      <th>count</th>\n",
       "      <td>957.00</td>\n",
       "      <td>957.00</td>\n",
       "      <td>957.00</td>\n",
       "      <td>957.00</td>\n",
       "      <td>957.00</td>\n",
       "      <td>957.00</td>\n",
       "    </tr>\n",
       "    <tr>\n",
       "      <th>mean</th>\n",
       "      <td>0.00</td>\n",
       "      <td>0.00</td>\n",
       "      <td>-0.00</td>\n",
       "      <td>-0.00</td>\n",
       "      <td>-0.00</td>\n",
       "      <td>0.00</td>\n",
       "    </tr>\n",
       "    <tr>\n",
       "      <th>std</th>\n",
       "      <td>1.00</td>\n",
       "      <td>1.00</td>\n",
       "      <td>1.00</td>\n",
       "      <td>1.00</td>\n",
       "      <td>1.00</td>\n",
       "      <td>1.00</td>\n",
       "    </tr>\n",
       "    <tr>\n",
       "      <th>min</th>\n",
       "      <td>-1.52</td>\n",
       "      <td>-0.96</td>\n",
       "      <td>-2.35</td>\n",
       "      <td>-0.88</td>\n",
       "      <td>-0.35</td>\n",
       "      <td>-1.35</td>\n",
       "    </tr>\n",
       "    <tr>\n",
       "      <th>25%</th>\n",
       "      <td>-0.94</td>\n",
       "      <td>-0.96</td>\n",
       "      <td>-0.72</td>\n",
       "      <td>-0.88</td>\n",
       "      <td>-0.35</td>\n",
       "      <td>-0.45</td>\n",
       "    </tr>\n",
       "    <tr>\n",
       "      <th>50%</th>\n",
       "      <td>-0.00</td>\n",
       "      <td>-0.96</td>\n",
       "      <td>-0.05</td>\n",
       "      <td>-0.07</td>\n",
       "      <td>-0.35</td>\n",
       "      <td>-0.45</td>\n",
       "    </tr>\n",
       "    <tr>\n",
       "      <th>75%</th>\n",
       "      <td>0.86</td>\n",
       "      <td>1.04</td>\n",
       "      <td>0.62</td>\n",
       "      <td>0.75</td>\n",
       "      <td>-0.35</td>\n",
       "      <td>0.46</td>\n",
       "    </tr>\n",
       "    <tr>\n",
       "      <th>max</th>\n",
       "      <td>1.80</td>\n",
       "      <td>1.04</td>\n",
       "      <td>3.82</td>\n",
       "      <td>3.21</td>\n",
       "      <td>2.86</td>\n",
       "      <td>1.36</td>\n",
       "    </tr>\n",
       "  </tbody>\n",
       "</table>\n",
       "</div>"
      ],
      "text/plain": [
       "          age  gender     BMI  Children  smoking_status  location\n",
       "count  957.00  957.00  957.00    957.00          957.00    957.00\n",
       "mean     0.00    0.00   -0.00     -0.00           -0.00      0.00\n",
       "std      1.00    1.00    1.00      1.00            1.00      1.00\n",
       "min     -1.52   -0.96   -2.35     -0.88           -0.35     -1.35\n",
       "25%     -0.94   -0.96   -0.72     -0.88           -0.35     -0.45\n",
       "50%     -0.00   -0.96   -0.05     -0.07           -0.35     -0.45\n",
       "75%      0.86    1.04    0.62      0.75           -0.35      0.46\n",
       "max      1.80    1.04    3.82      3.21            2.86      1.36"
      ]
     },
     "execution_count": 43,
     "metadata": {},
     "output_type": "execute_result"
    }
   ],
   "source": [
    "health_data.describe().round(2)"
   ]
  },
  {
   "attachments": {},
   "cell_type": "markdown",
   "id": "8fbba5b2",
   "metadata": {},
   "source": [
    "- import linear regression model"
   ]
  },
  {
   "cell_type": "code",
   "execution_count": 44,
   "id": "8e687120",
   "metadata": {},
   "outputs": [
    {
     "data": {
      "text/html": [
       "<style>#sk-container-id-1 {color: black;background-color: white;}#sk-container-id-1 pre{padding: 0;}#sk-container-id-1 div.sk-toggleable {background-color: white;}#sk-container-id-1 label.sk-toggleable__label {cursor: pointer;display: block;width: 100%;margin-bottom: 0;padding: 0.3em;box-sizing: border-box;text-align: center;}#sk-container-id-1 label.sk-toggleable__label-arrow:before {content: \"▸\";float: left;margin-right: 0.25em;color: #696969;}#sk-container-id-1 label.sk-toggleable__label-arrow:hover:before {color: black;}#sk-container-id-1 div.sk-estimator:hover label.sk-toggleable__label-arrow:before {color: black;}#sk-container-id-1 div.sk-toggleable__content {max-height: 0;max-width: 0;overflow: hidden;text-align: left;background-color: #f0f8ff;}#sk-container-id-1 div.sk-toggleable__content pre {margin: 0.2em;color: black;border-radius: 0.25em;background-color: #f0f8ff;}#sk-container-id-1 input.sk-toggleable__control:checked~div.sk-toggleable__content {max-height: 200px;max-width: 100%;overflow: auto;}#sk-container-id-1 input.sk-toggleable__control:checked~label.sk-toggleable__label-arrow:before {content: \"▾\";}#sk-container-id-1 div.sk-estimator input.sk-toggleable__control:checked~label.sk-toggleable__label {background-color: #d4ebff;}#sk-container-id-1 div.sk-label input.sk-toggleable__control:checked~label.sk-toggleable__label {background-color: #d4ebff;}#sk-container-id-1 input.sk-hidden--visually {border: 0;clip: rect(1px 1px 1px 1px);clip: rect(1px, 1px, 1px, 1px);height: 1px;margin: -1px;overflow: hidden;padding: 0;position: absolute;width: 1px;}#sk-container-id-1 div.sk-estimator {font-family: monospace;background-color: #f0f8ff;border: 1px dotted black;border-radius: 0.25em;box-sizing: border-box;margin-bottom: 0.5em;}#sk-container-id-1 div.sk-estimator:hover {background-color: #d4ebff;}#sk-container-id-1 div.sk-parallel-item::after {content: \"\";width: 100%;border-bottom: 1px solid gray;flex-grow: 1;}#sk-container-id-1 div.sk-label:hover label.sk-toggleable__label {background-color: #d4ebff;}#sk-container-id-1 div.sk-serial::before {content: \"\";position: absolute;border-left: 1px solid gray;box-sizing: border-box;top: 0;bottom: 0;left: 50%;z-index: 0;}#sk-container-id-1 div.sk-serial {display: flex;flex-direction: column;align-items: center;background-color: white;padding-right: 0.2em;padding-left: 0.2em;position: relative;}#sk-container-id-1 div.sk-item {position: relative;z-index: 1;}#sk-container-id-1 div.sk-parallel {display: flex;align-items: stretch;justify-content: center;background-color: white;position: relative;}#sk-container-id-1 div.sk-item::before, #sk-container-id-1 div.sk-parallel-item::before {content: \"\";position: absolute;border-left: 1px solid gray;box-sizing: border-box;top: 0;bottom: 0;left: 50%;z-index: -1;}#sk-container-id-1 div.sk-parallel-item {display: flex;flex-direction: column;z-index: 1;position: relative;background-color: white;}#sk-container-id-1 div.sk-parallel-item:first-child::after {align-self: flex-end;width: 50%;}#sk-container-id-1 div.sk-parallel-item:last-child::after {align-self: flex-start;width: 50%;}#sk-container-id-1 div.sk-parallel-item:only-child::after {width: 0;}#sk-container-id-1 div.sk-dashed-wrapped {border: 1px dashed gray;margin: 0 0.4em 0.5em 0.4em;box-sizing: border-box;padding-bottom: 0.4em;background-color: white;}#sk-container-id-1 div.sk-label label {font-family: monospace;font-weight: bold;display: inline-block;line-height: 1.2em;}#sk-container-id-1 div.sk-label-container {text-align: center;}#sk-container-id-1 div.sk-container {/* jupyter's `normalize.less` sets `[hidden] { display: none; }` but bootstrap.min.css set `[hidden] { display: none !important; }` so we also need the `!important` here to be able to override the default hidden behavior on the sphinx rendered scikit-learn.org. See: https://github.com/scikit-learn/scikit-learn/issues/21755 */display: inline-block !important;position: relative;}#sk-container-id-1 div.sk-text-repr-fallback {display: none;}</style><div id=\"sk-container-id-1\" class=\"sk-top-container\"><div class=\"sk-text-repr-fallback\"><pre>LinearRegression()</pre><b>In a Jupyter environment, please rerun this cell to show the HTML representation or trust the notebook. <br />On GitHub, the HTML representation is unable to render, please try loading this page with nbviewer.org.</b></div><div class=\"sk-container\" hidden><div class=\"sk-item\"><div class=\"sk-estimator sk-toggleable\"><input class=\"sk-toggleable__control sk-hidden--visually\" id=\"sk-estimator-id-1\" type=\"checkbox\" checked><label for=\"sk-estimator-id-1\" class=\"sk-toggleable__label sk-toggleable__label-arrow\">LinearRegression</label><div class=\"sk-toggleable__content\"><pre>LinearRegression()</pre></div></div></div></div></div>"
      ],
      "text/plain": [
       "LinearRegression()"
      ]
     },
     "execution_count": 44,
     "metadata": {},
     "output_type": "execute_result"
    }
   ],
   "source": [
    "lm = LinearRegression()\n",
    "lm.fit(x_train,y_train)"
   ]
  },
  {
   "attachments": {},
   "cell_type": "markdown",
   "id": "58f9bec4",
   "metadata": {},
   "source": [
    "# MODEL EVALUATION \n"
   ]
  },
  {
   "cell_type": "code",
   "execution_count": 45,
   "id": "336d4e1c",
   "metadata": {},
   "outputs": [
    {
     "data": {
      "text/plain": [
       "array([ 9.67178768,  9.4672648 ,  8.17351216,  8.13494089,  9.41454439,\n",
       "        9.50291118,  7.87953357,  8.24085109,  9.45664025,  8.20050093,\n",
       "        8.30488723,  8.15275364,  8.33179732,  9.31945976,  9.1237088 ,\n",
       "        8.50371195,  9.97909427,  9.33422022,  9.38896989,  8.92025399,\n",
       "        9.54747583,  8.5935909 , 10.36123536, 10.90414696,  8.85633732,\n",
       "       10.3851118 ,  8.56428169,  9.47037129,  8.86199315,  7.89878383,\n",
       "        8.73848793,  7.88693228,  9.54916615, 10.65237408,  9.98241562,\n",
       "        7.90694003,  9.38942573,  9.37934349,  8.81286762,  9.87800627,\n",
       "        9.31208121, 10.39937695,  8.21857264,  9.19813247,  8.11847388,\n",
       "        7.76796867,  8.49903875,  8.27964288,  8.69702661, 10.09101516,\n",
       "        9.40296842,  9.08495734,  8.78319027,  8.12436107,  8.90169592,\n",
       "        9.66380178, 10.09033319,  8.86453341,  8.17040312,  8.32628564,\n",
       "        9.28590461,  8.19927122,  8.93874252,  9.59974989,  7.87440643,\n",
       "        9.25340031,  8.21538424,  9.27807152,  9.49790067,  9.10359443,\n",
       "        8.92093848,  8.26081959,  9.35373301,  9.13589626,  8.47186309,\n",
       "       10.35842437,  9.11682332,  8.33636348,  7.89667421,  8.35466639,\n",
       "        9.31951006,  8.58592843,  8.76098594,  7.9152897 ,  9.46964975,\n",
       "        9.08213367, 10.5181528 ,  9.44054733,  8.98927321,  9.40375027,\n",
       "        8.94208352,  9.05791029,  9.5289884 ,  8.00720516,  9.21747024,\n",
       "        9.07969423,  9.20391587,  8.38045761,  7.98718071,  8.24415393,\n",
       "        9.14997603,  8.38888657,  8.39502039,  9.14766371,  7.99294855,\n",
       "        9.97186662,  8.46324666,  8.54602905,  8.39029082,  7.8224857 ,\n",
       "        8.02658146,  8.49465937,  8.42084482, 10.54551841,  7.97337869,\n",
       "        8.76504248,  9.89945056,  8.25892377,  8.44640956,  7.79243735,\n",
       "        7.89710808,  8.82323661,  8.37647407,  7.88612613,  8.64085216,\n",
       "        8.01724275,  9.38771092,  9.63196848,  9.07571872,  8.02875317,\n",
       "       10.39460328,  7.74471494,  9.07943324,  8.30844828,  8.24487635,\n",
       "        7.95099694,  9.81044338,  9.31570242,  9.22664655,  9.20656823,\n",
       "        9.27258368,  8.28706975,  9.13536666,  9.55309133, 10.59947974,\n",
       "        8.85675379,  9.57914209,  7.97803198,  8.3536488 , 10.78605907,\n",
       "        8.51152806,  9.39999743,  9.10659052,  9.6678399 ,  9.27592427,\n",
       "        9.55548066,  9.01939535,  9.33111492, 10.79286938,  9.35259827,\n",
       "        8.69907088,  8.1774886 ,  8.47020935,  8.77459656,  8.76008821,\n",
       "        9.51975054,  9.07907383,  7.8882381 ,  8.74479823,  9.45546274,\n",
       "        8.77248891,  8.65044426,  9.26589834,  9.90976307,  9.1005962 ,\n",
       "        9.95404664,  8.49720759,  8.79194458,  9.24923809,  9.43876048,\n",
       "        9.03800302,  9.24930094,  7.87235675,  7.90223132,  8.86067503,\n",
       "        7.95717358,  8.8496925 ,  9.54886523,  8.39960994,  8.77151823,\n",
       "        8.25550602,  8.96754489,  9.42287301,  9.43519215,  9.47837023,\n",
       "        9.01625126,  9.72633069,  9.52526644,  9.13829065,  8.29133712,\n",
       "        8.51106478,  8.71154389,  9.66740954,  9.07539963,  8.16518576,\n",
       "        8.02131448, 10.5040315 ,  9.66020857,  8.65197518,  7.86916835,\n",
       "        9.07450846,  8.71773506,  8.43918133,  8.38031612,  7.91775182,\n",
       "        8.40162402,  9.3637564 ,  9.2722617 ,  8.82232674,  9.35282585,\n",
       "        9.44775559,  8.72973569,  9.02133767,  8.70093732,  8.77711607,\n",
       "        8.95822616,  8.78804969,  8.60968524,  8.82824821,  9.4016775 ,\n",
       "        9.39332681,  8.88725333,  9.42092048,  8.977952  ,  8.0065401 ,\n",
       "       10.14502934,  9.09953288,  9.48734914,  8.00438818,  8.60855977])"
      ]
     },
     "execution_count": 45,
     "metadata": {},
     "output_type": "execute_result"
    }
   ],
   "source": [
    "pred =  lm.predict(x_test)\n",
    "pred"
   ]
  },
  {
   "cell_type": "code",
   "execution_count": 46,
   "id": "dd3ecd14",
   "metadata": {},
   "outputs": [
    {
     "data": {
      "text/plain": [
       "762      9.854343\n",
       "1145     9.331594\n",
       "507      8.031741\n",
       "324      7.960704\n",
       "824      9.435371\n",
       "          ...    \n",
       "916      9.988487\n",
       "528      9.029167\n",
       "115     10.317582\n",
       "938      7.742403\n",
       "802      7.651158\n",
       "Name: health_insurance_price, Length: 240, dtype: float64"
      ]
     },
     "execution_count": 46,
     "metadata": {},
     "output_type": "execute_result"
    }
   ],
   "source": [
    "y_test"
   ]
  },
  {
   "cell_type": "code",
   "execution_count": 47,
   "id": "12e78d89",
   "metadata": {},
   "outputs": [
    {
     "data": {
      "text/plain": [
       "0.7032861636901284"
      ]
     },
     "execution_count": 47,
     "metadata": {},
     "output_type": "execute_result"
    }
   ],
   "source": [
    "lm.score(x_test,y_test) # accuracy score"
   ]
  },
  {
   "cell_type": "code",
   "execution_count": 48,
   "id": "9c1b31be",
   "metadata": {},
   "outputs": [
    {
     "data": {
      "text/plain": [
       "<matplotlib.collections.PathCollection at 0x17bac6a1bd0>"
      ]
     },
     "execution_count": 48,
     "metadata": {},
     "output_type": "execute_result"
    },
    {
     "data": {
      "image/png": "[encoded data removed]",
      "text/plain": [
       "<Figure size 640x480 with 1 Axes>"
      ]
     },
     "metadata": {},
     "output_type": "display_data"
    }
   ],
   "source": [
    "plt.scatter(y_test,pred)"
   ]
  },
  {
   "cell_type": "code",
   "execution_count": 49,
   "id": "aa1fd409",
   "metadata": {},
   "outputs": [
    {
     "name": "stdout",
     "output_type": "stream",
     "text": [
      "mse:- 0.19598454433045992\n",
      "rmse:- 0.4427014166799785\n"
     ]
    }
   ],
   "source": [
    "from sklearn.metrics  import mean_squared_error\n",
    "mse =  mean_squared_error(y_test,pred)\n",
    "rmse = np.sqrt(mse)\n",
    "\n",
    "\n",
    "print('mse:-',mse)\n",
    "print('rmse:-',rmse)"
   ]
  },
  {
   "cell_type": "code",
   "execution_count": 50,
   "id": "a09ecb78",
   "metadata": {},
   "outputs": [
    {
     "name": "stdout",
     "output_type": "stream",
     "text": [
      "0.7032861636901284\n"
     ]
    }
   ],
   "source": [
    "from sklearn.metrics import r2_score\n",
    "r2 = r2_score(y_test,pred)\n",
    "print(r2)"
   ]
  },
  {
   "attachments": {},
   "cell_type": "markdown",
   "id": "838fb18d",
   "metadata": {},
   "source": [
    "# DecisionTreeRegressor MODEL "
   ]
  },
  {
   "cell_type": "code",
   "execution_count": 51,
   "id": "c28e237b",
   "metadata": {},
   "outputs": [
    {
     "data": {
      "text/html": [
       "<style>#sk-container-id-2 {color: black;background-color: white;}#sk-container-id-2 pre{padding: 0;}#sk-container-id-2 div.sk-toggleable {background-color: white;}#sk-container-id-2 label.sk-toggleable__label {cursor: pointer;display: block;width: 100%;margin-bottom: 0;padding: 0.3em;box-sizing: border-box;text-align: center;}#sk-container-id-2 label.sk-toggleable__label-arrow:before {content: \"▸\";float: left;margin-right: 0.25em;color: #696969;}#sk-container-id-2 label.sk-toggleable__label-arrow:hover:before {color: black;}#sk-container-id-2 div.sk-estimator:hover label.sk-toggleable__label-arrow:before {color: black;}#sk-container-id-2 div.sk-toggleable__content {max-height: 0;max-width: 0;overflow: hidden;text-align: left;background-color: #f0f8ff;}#sk-container-id-2 div.sk-toggleable__content pre {margin: 0.2em;color: black;border-radius: 0.25em;background-color: #f0f8ff;}#sk-container-id-2 input.sk-toggleable__control:checked~div.sk-toggleable__content {max-height: 200px;max-width: 100%;overflow: auto;}#sk-container-id-2 input.sk-toggleable__control:checked~label.sk-toggleable__label-arrow:before {content: \"▾\";}#sk-container-id-2 div.sk-estimator input.sk-toggleable__control:checked~label.sk-toggleable__label {background-color: #d4ebff;}#sk-container-id-2 div.sk-label input.sk-toggleable__control:checked~label.sk-toggleable__label {background-color: #d4ebff;}#sk-container-id-2 input.sk-hidden--visually {border: 0;clip: rect(1px 1px 1px 1px);clip: rect(1px, 1px, 1px, 1px);height: 1px;margin: -1px;overflow: hidden;padding: 0;position: absolute;width: 1px;}#sk-container-id-2 div.sk-estimator {font-family: monospace;background-color: #f0f8ff;border: 1px dotted black;border-radius: 0.25em;box-sizing: border-box;margin-bottom: 0.5em;}#sk-container-id-2 div.sk-estimator:hover {background-color: #d4ebff;}#sk-container-id-2 div.sk-parallel-item::after {content: \"\";width: 100%;border-bottom: 1px solid gray;flex-grow: 1;}#sk-container-id-2 div.sk-label:hover label.sk-toggleable__label {background-color: #d4ebff;}#sk-container-id-2 div.sk-serial::before {content: \"\";position: absolute;border-left: 1px solid gray;box-sizing: border-box;top: 0;bottom: 0;left: 50%;z-index: 0;}#sk-container-id-2 div.sk-serial {display: flex;flex-direction: column;align-items: center;background-color: white;padding-right: 0.2em;padding-left: 0.2em;position: relative;}#sk-container-id-2 div.sk-item {position: relative;z-index: 1;}#sk-container-id-2 div.sk-parallel {display: flex;align-items: stretch;justify-content: center;background-color: white;position: relative;}#sk-container-id-2 div.sk-item::before, #sk-container-id-2 div.sk-parallel-item::before {content: \"\";position: absolute;border-left: 1px solid gray;box-sizing: border-box;top: 0;bottom: 0;left: 50%;z-index: -1;}#sk-container-id-2 div.sk-parallel-item {display: flex;flex-direction: column;z-index: 1;position: relative;background-color: white;}#sk-container-id-2 div.sk-parallel-item:first-child::after {align-self: flex-end;width: 50%;}#sk-container-id-2 div.sk-parallel-item:last-child::after {align-self: flex-start;width: 50%;}#sk-container-id-2 div.sk-parallel-item:only-child::after {width: 0;}#sk-container-id-2 div.sk-dashed-wrapped {border: 1px dashed gray;margin: 0 0.4em 0.5em 0.4em;box-sizing: border-box;padding-bottom: 0.4em;background-color: white;}#sk-container-id-2 div.sk-label label {font-family: monospace;font-weight: bold;display: inline-block;line-height: 1.2em;}#sk-container-id-2 div.sk-label-container {text-align: center;}#sk-container-id-2 div.sk-container {/* jupyter's `normalize.less` sets `[hidden] { display: none; }` but bootstrap.min.css set `[hidden] { display: none !important; }` so we also need the `!important` here to be able to override the default hidden behavior on the sphinx rendered scikit-learn.org. See: https://github.com/scikit-learn/scikit-learn/issues/21755 */display: inline-block !important;position: relative;}#sk-container-id-2 div.sk-text-repr-fallback {display: none;}</style><div id=\"sk-container-id-2\" class=\"sk-top-container\"><div class=\"sk-text-repr-fallback\"><pre>DecisionTreeRegressor()</pre><b>In a Jupyter environment, please rerun this cell to show the HTML representation or trust the notebook. <br />On GitHub, the HTML representation is unable to render, please try loading this page with nbviewer.org.</b></div><div class=\"sk-container\" hidden><div class=\"sk-item\"><div class=\"sk-estimator sk-toggleable\"><input class=\"sk-toggleable__control sk-hidden--visually\" id=\"sk-estimator-id-2\" type=\"checkbox\" checked><label for=\"sk-estimator-id-2\" class=\"sk-toggleable__label sk-toggleable__label-arrow\">DecisionTreeRegressor</label><div class=\"sk-toggleable__content\"><pre>DecisionTreeRegressor()</pre></div></div></div></div></div>"
      ],
      "text/plain": [
       "DecisionTreeRegressor()"
      ]
     },
     "execution_count": 51,
     "metadata": {},
     "output_type": "execute_result"
    }
   ],
   "source": [
    "Dt =  DecisionTreeRegressor()\n",
    "Dt.fit(x_train,y_train)"
   ]
  },
  {
   "attachments": {},
   "cell_type": "markdown",
   "id": "bae4353d",
   "metadata": {},
   "source": []
  },
  {
   "cell_type": "code",
   "execution_count": 52,
   "id": "5eea1128",
   "metadata": {},
   "outputs": [
    {
     "data": {
      "text/plain": [
       "0.4140306665721788"
      ]
     },
     "execution_count": 52,
     "metadata": {},
     "output_type": "execute_result"
    }
   ],
   "source": [
    "Dt.score(x_test,y_test) #accuracy score"
   ]
  },
  {
   "cell_type": "code",
   "execution_count": 53,
   "id": "c37735e3",
   "metadata": {},
   "outputs": [
    {
     "name": "stdout",
     "output_type": "stream",
     "text": [
      "[ 9.88937315 10.31106977  8.06479687  8.08954352  9.44382204  9.41196018\n",
      "  7.39153144 10.02098875  9.35118043  7.98175539  9.88701948  7.92118033\n",
      "  8.06479687  9.26876325  9.06024017  8.58561317  9.83989459  9.31412571\n",
      "  9.44321082  9.08051285  9.48926631  8.82459818  9.98834981 10.11323858\n",
      " 10.21741852  9.76974505  8.56507378  9.53566479  8.90356731  7.39913713\n",
      "  8.69523639  7.39790734  9.38277737 10.29293051  9.76202572  7.47847019\n",
      "  9.32762345  9.68897924  8.86087396 10.0053233   9.76150226  9.96287262\n",
      "  7.89733878  9.93451535  7.76736096  7.13404268  8.40164825  8.18307023\n",
      "  8.57775567 10.01375651  9.35585102  9.02816956  8.73210323  7.81332236\n",
      "  8.94256207  9.70842768  9.79280887  8.729769    7.91110226  8.29102658\n",
      "  9.13797327  8.02698955  8.88315374  9.79490552  7.39100837  9.78405663\n",
      "  7.95253095  9.3138638   9.36987762  8.9855048   9.05247776  8.07293258\n",
      "  9.22435532  9.05996196  8.30413814 10.02031902  9.19802563  9.85025406\n",
      "  9.55627044  8.42757764  9.40447345  8.58561317  8.56816563  7.45330245\n",
      "  9.98952764  9.05105527 10.13893466  9.45179521  9.01422863  9.74351487\n",
      "  9.85977474  9.01422863  9.51902719  7.66746406  9.93451535  8.99462902\n",
      "  9.06024017  8.09473278  7.65164947  7.93782417  9.08522895  8.44704673\n",
      "  8.35112137  9.1154876   7.39758375  9.76974505  8.40164825  8.15532421\n",
      "  8.18255898  7.45523891  7.7041218   8.47546595  8.26289541 10.13893466\n",
      "  7.70501249  8.7093286  10.01375651  8.17665093  8.46612513  7.0352164\n",
      "  7.53906429  9.54235027  8.40164825  7.39153144  8.62960101  9.46421157\n",
      " 10.10546787  9.56173894  9.15774562  7.85758484 10.06765668  7.12468758\n",
      "  9.07147547  8.18255898  7.97154266  7.23815821  9.70842768  9.08522895\n",
      "  9.26644534  9.18036229  9.29871137  8.12928266  9.12414346 10.36154514\n",
      " 10.13893466  9.77714395  9.53872312  7.66419453  8.23160088 10.11323858\n",
      "  8.39730413  9.41283467  9.15774562  9.51902719  9.13232426  9.44488886\n",
      "  9.15950069 10.14710463 10.24357229 10.14710463  8.46527926  7.93782417\n",
      "  8.46612513  8.90187401  8.95442951 10.31106977 10.25656821  7.53792507\n",
      "  9.52700864  9.24234337  8.41600756  8.59371278  8.88315374  9.81524316\n",
      "  9.13232426  9.63104372  9.85025406  8.90187401  9.22089787  9.36987762\n",
      "  9.7457267   9.78405663  7.39100837  7.44114451  9.05105527  7.67344124\n",
      " 10.37688114  9.46721197  8.29102658  8.68724748  8.14411705  9.00279756\n",
      "  9.50230519  9.30348874  9.4014003   9.0534165   9.40068393 10.36154514\n",
      "  9.17221474  8.07293258  8.2872578   8.79050409 10.31106977  9.96327334\n",
      "  9.81017425  9.84983464 10.05648959  9.56173894  8.56178192  7.39100837\n",
      "  9.74597183  8.63936038  8.30413814  8.20503972  7.33583246  8.37110578\n",
      "  9.3880341   9.31228089 10.11341063  9.22435532  9.74351487  8.7093286\n",
      "  8.87502035  8.56523012  8.74040634  8.91173512  9.54235027  8.26289541\n",
      "  9.1963454   9.26876325  9.42010101  8.94033063  9.50732609  8.8242165\n",
      "  7.69970537 10.0053233   9.08522895  9.45179521 10.02098875  8.7189079 ]\n"
     ]
    }
   ],
   "source": [
    "Dt_pred =  Dt.predict(x_test)\n",
    "print(Dt_pred)"
   ]
  },
  {
   "cell_type": "code",
   "execution_count": 54,
   "id": "5e5c1b5d",
   "metadata": {},
   "outputs": [
    {
     "data": {
      "text/plain": [
       "762      9.854343\n",
       "1145     9.331594\n",
       "507      8.031741\n",
       "324      7.960704\n",
       "824      9.435371\n",
       "          ...    \n",
       "916      9.988487\n",
       "528      9.029167\n",
       "115     10.317582\n",
       "938      7.742403\n",
       "802      7.651158\n",
       "Name: health_insurance_price, Length: 240, dtype: float64"
      ]
     },
     "execution_count": 54,
     "metadata": {},
     "output_type": "execute_result"
    }
   ],
   "source": [
    "y_test"
   ]
  },
  {
   "attachments": {},
   "cell_type": "markdown",
   "id": "74e443ef",
   "metadata": {},
   "source": [
    "# RandomForest Model"
   ]
  },
  {
   "cell_type": "code",
   "execution_count": 55,
   "id": "a938d87a",
   "metadata": {},
   "outputs": [
    {
     "data": {
      "text/html": [
       "<style>#sk-container-id-3 {color: black;background-color: white;}#sk-container-id-3 pre{padding: 0;}#sk-container-id-3 div.sk-toggleable {background-color: white;}#sk-container-id-3 label.sk-toggleable__label {cursor: pointer;display: block;width: 100%;margin-bottom: 0;padding: 0.3em;box-sizing: border-box;text-align: center;}#sk-container-id-3 label.sk-toggleable__label-arrow:before {content: \"▸\";float: left;margin-right: 0.25em;color: #696969;}#sk-container-id-3 label.sk-toggleable__label-arrow:hover:before {color: black;}#sk-container-id-3 div.sk-estimator:hover label.sk-toggleable__label-arrow:before {color: black;}#sk-container-id-3 div.sk-toggleable__content {max-height: 0;max-width: 0;overflow: hidden;text-align: left;background-color: #f0f8ff;}#sk-container-id-3 div.sk-toggleable__content pre {margin: 0.2em;color: black;border-radius: 0.25em;background-color: #f0f8ff;}#sk-container-id-3 input.sk-toggleable__control:checked~div.sk-toggleable__content {max-height: 200px;max-width: 100%;overflow: auto;}#sk-container-id-3 input.sk-toggleable__control:checked~label.sk-toggleable__label-arrow:before {content: \"▾\";}#sk-container-id-3 div.sk-estimator input.sk-toggleable__control:checked~label.sk-toggleable__label {background-color: #d4ebff;}#sk-container-id-3 div.sk-label input.sk-toggleable__control:checked~label.sk-toggleable__label {background-color: #d4ebff;}#sk-container-id-3 input.sk-hidden--visually {border: 0;clip: rect(1px 1px 1px 1px);clip: rect(1px, 1px, 1px, 1px);height: 1px;margin: -1px;overflow: hidden;padding: 0;position: absolute;width: 1px;}#sk-container-id-3 div.sk-estimator {font-family: monospace;background-color: #f0f8ff;border: 1px dotted black;border-radius: 0.25em;box-sizing: border-box;margin-bottom: 0.5em;}#sk-container-id-3 div.sk-estimator:hover {background-color: #d4ebff;}#sk-container-id-3 div.sk-parallel-item::after {content: \"\";width: 100%;border-bottom: 1px solid gray;flex-grow: 1;}#sk-container-id-3 div.sk-label:hover label.sk-toggleable__label {background-color: #d4ebff;}#sk-container-id-3 div.sk-serial::before {content: \"\";position: absolute;border-left: 1px solid gray;box-sizing: border-box;top: 0;bottom: 0;left: 50%;z-index: 0;}#sk-container-id-3 div.sk-serial {display: flex;flex-direction: column;align-items: center;background-color: white;padding-right: 0.2em;padding-left: 0.2em;position: relative;}#sk-container-id-3 div.sk-item {position: relative;z-index: 1;}#sk-container-id-3 div.sk-parallel {display: flex;align-items: stretch;justify-content: center;background-color: white;position: relative;}#sk-container-id-3 div.sk-item::before, #sk-container-id-3 div.sk-parallel-item::before {content: \"\";position: absolute;border-left: 1px solid gray;box-sizing: border-box;top: 0;bottom: 0;left: 50%;z-index: -1;}#sk-container-id-3 div.sk-parallel-item {display: flex;flex-direction: column;z-index: 1;position: relative;background-color: white;}#sk-container-id-3 div.sk-parallel-item:first-child::after {align-self: flex-end;width: 50%;}#sk-container-id-3 div.sk-parallel-item:last-child::after {align-self: flex-start;width: 50%;}#sk-container-id-3 div.sk-parallel-item:only-child::after {width: 0;}#sk-container-id-3 div.sk-dashed-wrapped {border: 1px dashed gray;margin: 0 0.4em 0.5em 0.4em;box-sizing: border-box;padding-bottom: 0.4em;background-color: white;}#sk-container-id-3 div.sk-label label {font-family: monospace;font-weight: bold;display: inline-block;line-height: 1.2em;}#sk-container-id-3 div.sk-label-container {text-align: center;}#sk-container-id-3 div.sk-container {/* jupyter's `normalize.less` sets `[hidden] { display: none; }` but bootstrap.min.css set `[hidden] { display: none !important; }` so we also need the `!important` here to be able to override the default hidden behavior on the sphinx rendered scikit-learn.org. See: https://github.com/scikit-learn/scikit-learn/issues/21755 */display: inline-block !important;position: relative;}#sk-container-id-3 div.sk-text-repr-fallback {display: none;}</style><div id=\"sk-container-id-3\" class=\"sk-top-container\"><div class=\"sk-text-repr-fallback\"><pre>RandomForestRegressor(n_estimators=500)</pre><b>In a Jupyter environment, please rerun this cell to show the HTML representation or trust the notebook. <br />On GitHub, the HTML representation is unable to render, please try loading this page with nbviewer.org.</b></div><div class=\"sk-container\" hidden><div class=\"sk-item\"><div class=\"sk-estimator sk-toggleable\"><input class=\"sk-toggleable__control sk-hidden--visually\" id=\"sk-estimator-id-3\" type=\"checkbox\" checked><label for=\"sk-estimator-id-3\" class=\"sk-toggleable__label sk-toggleable__label-arrow\">RandomForestRegressor</label><div class=\"sk-toggleable__content\"><pre>RandomForestRegressor(n_estimators=500)</pre></div></div></div></div></div>"
      ],
      "text/plain": [
       "RandomForestRegressor(n_estimators=500)"
      ]
     },
     "execution_count": 55,
     "metadata": {},
     "output_type": "execute_result"
    }
   ],
   "source": [
    "Rf = RandomForestRegressor(n_estimators=500)\n",
    "Rf.fit(x_train,y_train)"
   ]
  },
  {
   "cell_type": "code",
   "execution_count": 56,
   "id": "e88392d5",
   "metadata": {},
   "outputs": [
    {
     "data": {
      "text/plain": [
       "0.6935344496019433"
      ]
     },
     "execution_count": 56,
     "metadata": {},
     "output_type": "execute_result"
    }
   ],
   "source": [
    "Rf.score(x_test,y_test)  # accuracy score"
   ]
  },
  {
   "cell_type": "code",
   "execution_count": 57,
   "id": "b8bf3a94",
   "metadata": {},
   "outputs": [],
   "source": [
    "rf_pred =  Rf.predict(x_test) "
   ]
  },
  {
   "cell_type": "code",
   "execution_count": 58,
   "id": "986e2111",
   "metadata": {},
   "outputs": [
    {
     "data": {
      "text/plain": [
       "<matplotlib.collections.PathCollection at 0x17bac7e6a50>"
      ]
     },
     "execution_count": 58,
     "metadata": {},
     "output_type": "execute_result"
    },
    {
     "data": {
      "image/png": "[encoded data removed]",
      "text/plain": [
       "<Figure size 640x480 with 1 Axes>"
      ]
     },
     "metadata": {},
     "output_type": "display_data"
    }
   ],
   "source": [
    "plt.scatter(y_test,rf_pred)"
   ]
  },
  {
   "cell_type": "code",
   "execution_count": 59,
   "id": "ef1c1e14",
   "metadata": {},
   "outputs": [
    {
     "name": "stdout",
     "output_type": "stream",
     "text": [
      "mse:- 0.2024257176366415\n",
      "rmse:- 0.4499174564702302\n"
     ]
    }
   ],
   "source": [
    "from sklearn.metrics  import mean_squared_error\n",
    "mse =  mean_squared_error(y_test,rf_pred)\n",
    "rmse = np.sqrt(mse)\n",
    "\n",
    "\n",
    "print('mse:-',mse)\n",
    "print('rmse:-',rmse)"
   ]
  },
  {
   "attachments": {},
   "cell_type": "markdown",
   "id": "ce728bf2",
   "metadata": {},
   "source": [
    "# Support Vector Model"
   ]
  },
  {
   "cell_type": "code",
   "execution_count": 60,
   "id": "315ea75d",
   "metadata": {},
   "outputs": [
    {
     "data": {
      "text/html": [
       "<style>#sk-container-id-4 {color: black;background-color: white;}#sk-container-id-4 pre{padding: 0;}#sk-container-id-4 div.sk-toggleable {background-color: white;}#sk-container-id-4 label.sk-toggleable__label {cursor: pointer;display: block;width: 100%;margin-bottom: 0;padding: 0.3em;box-sizing: border-box;text-align: center;}#sk-container-id-4 label.sk-toggleable__label-arrow:before {content: \"▸\";float: left;margin-right: 0.25em;color: #696969;}#sk-container-id-4 label.sk-toggleable__label-arrow:hover:before {color: black;}#sk-container-id-4 div.sk-estimator:hover label.sk-toggleable__label-arrow:before {color: black;}#sk-container-id-4 div.sk-toggleable__content {max-height: 0;max-width: 0;overflow: hidden;text-align: left;background-color: #f0f8ff;}#sk-container-id-4 div.sk-toggleable__content pre {margin: 0.2em;color: black;border-radius: 0.25em;background-color: #f0f8ff;}#sk-container-id-4 input.sk-toggleable__control:checked~div.sk-toggleable__content {max-height: 200px;max-width: 100%;overflow: auto;}#sk-container-id-4 input.sk-toggleable__control:checked~label.sk-toggleable__label-arrow:before {content: \"▾\";}#sk-container-id-4 div.sk-estimator input.sk-toggleable__control:checked~label.sk-toggleable__label {background-color: #d4ebff;}#sk-container-id-4 div.sk-label input.sk-toggleable__control:checked~label.sk-toggleable__label {background-color: #d4ebff;}#sk-container-id-4 input.sk-hidden--visually {border: 0;clip: rect(1px 1px 1px 1px);clip: rect(1px, 1px, 1px, 1px);height: 1px;margin: -1px;overflow: hidden;padding: 0;position: absolute;width: 1px;}#sk-container-id-4 div.sk-estimator {font-family: monospace;background-color: #f0f8ff;border: 1px dotted black;border-radius: 0.25em;box-sizing: border-box;margin-bottom: 0.5em;}#sk-container-id-4 div.sk-estimator:hover {background-color: #d4ebff;}#sk-container-id-4 div.sk-parallel-item::after {content: \"\";width: 100%;border-bottom: 1px solid gray;flex-grow: 1;}#sk-container-id-4 div.sk-label:hover label.sk-toggleable__label {background-color: #d4ebff;}#sk-container-id-4 div.sk-serial::before {content: \"\";position: absolute;border-left: 1px solid gray;box-sizing: border-box;top: 0;bottom: 0;left: 50%;z-index: 0;}#sk-container-id-4 div.sk-serial {display: flex;flex-direction: column;align-items: center;background-color: white;padding-right: 0.2em;padding-left: 0.2em;position: relative;}#sk-container-id-4 div.sk-item {position: relative;z-index: 1;}#sk-container-id-4 div.sk-parallel {display: flex;align-items: stretch;justify-content: center;background-color: white;position: relative;}#sk-container-id-4 div.sk-item::before, #sk-container-id-4 div.sk-parallel-item::before {content: \"\";position: absolute;border-left: 1px solid gray;box-sizing: border-box;top: 0;bottom: 0;left: 50%;z-index: -1;}#sk-container-id-4 div.sk-parallel-item {display: flex;flex-direction: column;z-index: 1;position: relative;background-color: white;}#sk-container-id-4 div.sk-parallel-item:first-child::after {align-self: flex-end;width: 50%;}#sk-container-id-4 div.sk-parallel-item:last-child::after {align-self: flex-start;width: 50%;}#sk-container-id-4 div.sk-parallel-item:only-child::after {width: 0;}#sk-container-id-4 div.sk-dashed-wrapped {border: 1px dashed gray;margin: 0 0.4em 0.5em 0.4em;box-sizing: border-box;padding-bottom: 0.4em;background-color: white;}#sk-container-id-4 div.sk-label label {font-family: monospace;font-weight: bold;display: inline-block;line-height: 1.2em;}#sk-container-id-4 div.sk-label-container {text-align: center;}#sk-container-id-4 div.sk-container {/* jupyter's `normalize.less` sets `[hidden] { display: none; }` but bootstrap.min.css set `[hidden] { display: none !important; }` so we also need the `!important` here to be able to override the default hidden behavior on the sphinx rendered scikit-learn.org. See: https://github.com/scikit-learn/scikit-learn/issues/21755 */display: inline-block !important;position: relative;}#sk-container-id-4 div.sk-text-repr-fallback {display: none;}</style><div id=\"sk-container-id-4\" class=\"sk-top-container\"><div class=\"sk-text-repr-fallback\"><pre>SVR(kernel=&#x27;linear&#x27;)</pre><b>In a Jupyter environment, please rerun this cell to show the HTML representation or trust the notebook. <br />On GitHub, the HTML representation is unable to render, please try loading this page with nbviewer.org.</b></div><div class=\"sk-container\" hidden><div class=\"sk-item\"><div class=\"sk-estimator sk-toggleable\"><input class=\"sk-toggleable__control sk-hidden--visually\" id=\"sk-estimator-id-4\" type=\"checkbox\" checked><label for=\"sk-estimator-id-4\" class=\"sk-toggleable__label sk-toggleable__label-arrow\">SVR</label><div class=\"sk-toggleable__content\"><pre>SVR(kernel=&#x27;linear&#x27;)</pre></div></div></div></div></div>"
      ],
      "text/plain": [
       "SVR(kernel='linear')"
      ]
     },
     "execution_count": 60,
     "metadata": {},
     "output_type": "execute_result"
    }
   ],
   "source": [
    "sv = svm.SVR(kernel='linear')\n",
    "sv.fit(x_train,y_train)"
   ]
  },
  {
   "cell_type": "code",
   "execution_count": 61,
   "id": "6f0e232b",
   "metadata": {},
   "outputs": [
    {
     "data": {
      "text/plain": [
       "0.6787868164191047"
      ]
     },
     "execution_count": 61,
     "metadata": {},
     "output_type": "execute_result"
    }
   ],
   "source": [
    "sv.score(x_test,y_test) # accuracy score"
   ]
  },
  {
   "cell_type": "code",
   "execution_count": 62,
   "id": "cb4f9468",
   "metadata": {},
   "outputs": [],
   "source": [
    "sv_pred = sv.predict(x_test)"
   ]
  },
  {
   "cell_type": "code",
   "execution_count": 63,
   "id": "1ca759f6",
   "metadata": {},
   "outputs": [
    {
     "data": {
      "text/plain": [
       "<matplotlib.collections.PathCollection at 0x17bac9b9bd0>"
      ]
     },
     "execution_count": 63,
     "metadata": {},
     "output_type": "execute_result"
    },
    {
     "data": {
      "image/png": "[encoded data removed]",
      "text/plain": [
       "<Figure size 640x480 with 1 Axes>"
      ]
     },
     "metadata": {},
     "output_type": "display_data"
    }
   ],
   "source": [
    "plt.scatter(y_test,sv_pred)"
   ]
  },
  {
   "cell_type": "code",
   "execution_count": 64,
   "id": "78fa89f7",
   "metadata": {},
   "outputs": [
    {
     "name": "stdout",
     "output_type": "stream",
     "text": [
      "mse:- 0.2024257176366415\n",
      "rmse:- 0.4499174564702302\n"
     ]
    }
   ],
   "source": [
    "from sklearn.metrics  import mean_squared_error\n",
    "mse =  mean_squared_error(y_test,rf_pred)\n",
    "rmse = np.sqrt(mse)\n",
    "\n",
    "\n",
    "print('mse:-',mse)\n",
    "print('rmse:-',rmse)"
   ]
  },
  {
   "attachments": {},
   "cell_type": "markdown",
   "id": "1852be59",
   "metadata": {},
   "source": [
    "# K - neighbor Model"
   ]
  },
  {
   "cell_type": "code",
   "execution_count": 65,
   "id": "6ee70a4e",
   "metadata": {},
   "outputs": [
    {
     "data": {
      "text/html": [
       "<style>#sk-container-id-5 {color: black;background-color: white;}#sk-container-id-5 pre{padding: 0;}#sk-container-id-5 div.sk-toggleable {background-color: white;}#sk-container-id-5 label.sk-toggleable__label {cursor: pointer;display: block;width: 100%;margin-bottom: 0;padding: 0.3em;box-sizing: border-box;text-align: center;}#sk-container-id-5 label.sk-toggleable__label-arrow:before {content: \"▸\";float: left;margin-right: 0.25em;color: #696969;}#sk-container-id-5 label.sk-toggleable__label-arrow:hover:before {color: black;}#sk-container-id-5 div.sk-estimator:hover label.sk-toggleable__label-arrow:before {color: black;}#sk-container-id-5 div.sk-toggleable__content {max-height: 0;max-width: 0;overflow: hidden;text-align: left;background-color: #f0f8ff;}#sk-container-id-5 div.sk-toggleable__content pre {margin: 0.2em;color: black;border-radius: 0.25em;background-color: #f0f8ff;}#sk-container-id-5 input.sk-toggleable__control:checked~div.sk-toggleable__content {max-height: 200px;max-width: 100%;overflow: auto;}#sk-container-id-5 input.sk-toggleable__control:checked~label.sk-toggleable__label-arrow:before {content: \"▾\";}#sk-container-id-5 div.sk-estimator input.sk-toggleable__control:checked~label.sk-toggleable__label {background-color: #d4ebff;}#sk-container-id-5 div.sk-label input.sk-toggleable__control:checked~label.sk-toggleable__label {background-color: #d4ebff;}#sk-container-id-5 input.sk-hidden--visually {border: 0;clip: rect(1px 1px 1px 1px);clip: rect(1px, 1px, 1px, 1px);height: 1px;margin: -1px;overflow: hidden;padding: 0;position: absolute;width: 1px;}#sk-container-id-5 div.sk-estimator {font-family: monospace;background-color: #f0f8ff;border: 1px dotted black;border-radius: 0.25em;box-sizing: border-box;margin-bottom: 0.5em;}#sk-container-id-5 div.sk-estimator:hover {background-color: #d4ebff;}#sk-container-id-5 div.sk-parallel-item::after {content: \"\";width: 100%;border-bottom: 1px solid gray;flex-grow: 1;}#sk-container-id-5 div.sk-label:hover label.sk-toggleable__label {background-color: #d4ebff;}#sk-container-id-5 div.sk-serial::before {content: \"\";position: absolute;border-left: 1px solid gray;box-sizing: border-box;top: 0;bottom: 0;left: 50%;z-index: 0;}#sk-container-id-5 div.sk-serial {display: flex;flex-direction: column;align-items: center;background-color: white;padding-right: 0.2em;padding-left: 0.2em;position: relative;}#sk-container-id-5 div.sk-item {position: relative;z-index: 1;}#sk-container-id-5 div.sk-parallel {display: flex;align-items: stretch;justify-content: center;background-color: white;position: relative;}#sk-container-id-5 div.sk-item::before, #sk-container-id-5 div.sk-parallel-item::before {content: \"\";position: absolute;border-left: 1px solid gray;box-sizing: border-box;top: 0;bottom: 0;left: 50%;z-index: -1;}#sk-container-id-5 div.sk-parallel-item {display: flex;flex-direction: column;z-index: 1;position: relative;background-color: white;}#sk-container-id-5 div.sk-parallel-item:first-child::after {align-self: flex-end;width: 50%;}#sk-container-id-5 div.sk-parallel-item:last-child::after {align-self: flex-start;width: 50%;}#sk-container-id-5 div.sk-parallel-item:only-child::after {width: 0;}#sk-container-id-5 div.sk-dashed-wrapped {border: 1px dashed gray;margin: 0 0.4em 0.5em 0.4em;box-sizing: border-box;padding-bottom: 0.4em;background-color: white;}#sk-container-id-5 div.sk-label label {font-family: monospace;font-weight: bold;display: inline-block;line-height: 1.2em;}#sk-container-id-5 div.sk-label-container {text-align: center;}#sk-container-id-5 div.sk-container {/* jupyter's `normalize.less` sets `[hidden] { display: none; }` but bootstrap.min.css set `[hidden] { display: none !important; }` so we also need the `!important` here to be able to override the default hidden behavior on the sphinx rendered scikit-learn.org. See: https://github.com/scikit-learn/scikit-learn/issues/21755 */display: inline-block !important;position: relative;}#sk-container-id-5 div.sk-text-repr-fallback {display: none;}</style><div id=\"sk-container-id-5\" class=\"sk-top-container\"><div class=\"sk-text-repr-fallback\"><pre>KNeighborsRegressor(n_neighbors=20)</pre><b>In a Jupyter environment, please rerun this cell to show the HTML representation or trust the notebook. <br />On GitHub, the HTML representation is unable to render, please try loading this page with nbviewer.org.</b></div><div class=\"sk-container\" hidden><div class=\"sk-item\"><div class=\"sk-estimator sk-toggleable\"><input class=\"sk-toggleable__control sk-hidden--visually\" id=\"sk-estimator-id-5\" type=\"checkbox\" checked><label for=\"sk-estimator-id-5\" class=\"sk-toggleable__label sk-toggleable__label-arrow\">KNeighborsRegressor</label><div class=\"sk-toggleable__content\"><pre>KNeighborsRegressor(n_neighbors=20)</pre></div></div></div></div></div>"
      ],
      "text/plain": [
       "KNeighborsRegressor(n_neighbors=20)"
      ]
     },
     "execution_count": 65,
     "metadata": {},
     "output_type": "execute_result"
    }
   ],
   "source": [
    "knn = KNeighborsRegressor(n_neighbors=20)\n",
    "knn.fit(x_train,y_train)"
   ]
  },
  {
   "cell_type": "code",
   "execution_count": 66,
   "id": "924b83f7",
   "metadata": {},
   "outputs": [
    {
     "data": {
      "text/plain": [
       "0.7469481991679434"
      ]
     },
     "execution_count": 66,
     "metadata": {},
     "output_type": "execute_result"
    }
   ],
   "source": [
    "knn.score(x_test,y_test) # accuracy score"
   ]
  },
  {
   "cell_type": "code",
   "execution_count": 67,
   "id": "97f26e8c",
   "metadata": {},
   "outputs": [],
   "source": [
    "knn_pred =  knn.predict(x_test)"
   ]
  },
  {
   "cell_type": "code",
   "execution_count": 68,
   "id": "eb9baffb",
   "metadata": {},
   "outputs": [
    {
     "data": {
      "text/plain": [
       "<matplotlib.collections.PathCollection at 0x17bac9d9bd0>"
      ]
     },
     "execution_count": 68,
     "metadata": {},
     "output_type": "execute_result"
    },
    {
     "data": {
      "image/png": "[encoded data removed]",
      "text/plain": [
       "<Figure size 640x480 with 1 Axes>"
      ]
     },
     "metadata": {},
     "output_type": "display_data"
    }
   ],
   "source": [
    "plt.scatter(y_test,knn_pred)"
   ]
  },
  {
   "cell_type": "code",
   "execution_count": 69,
   "id": "e3dce45a",
   "metadata": {},
   "outputs": [
    {
     "name": "stdout",
     "output_type": "stream",
     "text": [
      "mse:- 0.1671450259780923\n",
      "rmse:- 0.40883373879621565\n"
     ]
    }
   ],
   "source": [
    "from sklearn.metrics  import mean_squared_error\n",
    "mse =  mean_squared_error(y_test,knn_pred)\n",
    "rmse = np.sqrt(mse)\n",
    "\n",
    "\n",
    "print('mse:-',mse)\n",
    "print('rmse:-',rmse)"
   ]
  },
  {
   "attachments": {},
   "cell_type": "markdown",
   "id": "f3c7b14b",
   "metadata": {},
   "source": [
    "- Most appropriate model  Knn-neighbor model.\n",
    "- Knn-neighbor Regression model accuaracy score 74% as compare to other model .\n"
   ]
  },
  {
   "attachments": {},
   "cell_type": "markdown",
   "id": "cd7a44a2",
   "metadata": {},
   "source": [
    "1- Why is this proposal important in today’s world? How predicting a health insurance cost accurately can affect the health care/insurance field?    \n",
    " - Cost Efficiency\n",
    " - Improved Customer Experience\n",
    " - Financial Planning\n",
    "\n",
    "\n",
    "2- If any, what is the gap in the knowledge, or how your proposed method can be helpful if required in the future for any other type of insurance?\n",
    "\n",
    "\n",
    "3-  Please aim to identify patterns in the data and important features that may impact an ML model.\n",
    "\n",
    "\n",
    "4- Please perform multiple machine learning models, perform all required steps to check if there are any assumptions, and justify your model. Why is your model better than any other possible model? Please explain it by relevant cost functions and, if possible, by any graph."
   ]
  }
 ],
 "metadata": {
  "kernelspec": {
   "display_name": "Python 3 (ipykernel)",
   "language": "python",
   "name": "python3"
  },
  "language_info": {
   "codemirror_mode": {
    "name": "ipython",
    "version": 3
   },
   "file_extension": ".py",
   "mimetype": "text/x-python",
   "name": "python",
   "nbconvert_exporter": "python",
   "pygments_lexer": "ipython3",
   "version": "3.11.1"
  }
 },
 "nbformat": 4,
 "nbformat_minor": 5
}
